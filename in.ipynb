{
 "cells": [
  {
   "cell_type": "markdown",
   "id": "bound-plasma",
   "metadata": {},
   "source": [
    "Estimating the income of individuals"
   ]
  },
  {
   "cell_type": "markdown",
   "id": "handy-czech",
   "metadata": {},
   "source": [
    "Imports"
   ]
  },
  {
   "cell_type": "code",
   "execution_count": 39,
   "id": "chicken-third",
   "metadata": {},
   "outputs": [],
   "source": [
    "import pandas as pd\n",
    "import numpy as np\n",
    "import matplotlib.pyplot as plt\n",
    "import plotly.express as px"
   ]
  },
  {
   "cell_type": "code",
   "execution_count": 2,
   "id": "possible-magic",
   "metadata": {},
   "outputs": [],
   "source": [
    "# conda install -c anaconda xlrd "
   ]
  },
  {
   "cell_type": "code",
   "execution_count": 3,
   "id": "multiple-porcelain",
   "metadata": {},
   "outputs": [],
   "source": [
    "# conda install -c anaconda openpyxl "
   ]
  },
  {
   "cell_type": "code",
   "execution_count": 4,
   "id": "cubic-pleasure",
   "metadata": {},
   "outputs": [],
   "source": [
    "df = pd.read_excel(\"income_assessment.xlsx\")"
   ]
  },
  {
   "cell_type": "code",
   "execution_count": 5,
   "id": "bronze-therapy",
   "metadata": {},
   "outputs": [
    {
     "data": {
      "text/html": [
       "<div>\n",
       "<style scoped>\n",
       "    .dataframe tbody tr th:only-of-type {\n",
       "        vertical-align: middle;\n",
       "    }\n",
       "\n",
       "    .dataframe tbody tr th {\n",
       "        vertical-align: top;\n",
       "    }\n",
       "\n",
       "    .dataframe thead th {\n",
       "        text-align: right;\n",
       "    }\n",
       "</style>\n",
       "<table border=\"1\" class=\"dataframe\">\n",
       "  <thead>\n",
       "    <tr style=\"text-align: right;\">\n",
       "      <th></th>\n",
       "      <th>Transaction ID</th>\n",
       "      <th>Customer ID</th>\n",
       "      <th>Value</th>\n",
       "      <th>account_type</th>\n",
       "      <th>memo</th>\n",
       "      <th>Category</th>\n",
       "      <th>Date</th>\n",
       "    </tr>\n",
       "  </thead>\n",
       "  <tbody>\n",
       "    <tr>\n",
       "      <th>0</th>\n",
       "      <td>1</td>\n",
       "      <td>AA1001</td>\n",
       "      <td>40.00</td>\n",
       "      <td>Checking</td>\n",
       "      <td>Credit - MoneySend - Goo*Pay Mountain ViewCAUS...</td>\n",
       "      <td>Misc Inflows</td>\n",
       "      <td>2018-05-08</td>\n",
       "    </tr>\n",
       "    <tr>\n",
       "      <th>1</th>\n",
       "      <td>2</td>\n",
       "      <td>AA1001</td>\n",
       "      <td>-14.12</td>\n",
       "      <td>Checking</td>\n",
       "      <td>Debit PIN Purchase - GAMESTOP #2497 6939 EASBE...</td>\n",
       "      <td>Entertainment</td>\n",
       "      <td>2017-12-26</td>\n",
       "    </tr>\n",
       "    <tr>\n",
       "      <th>2</th>\n",
       "      <td>3</td>\n",
       "      <td>AA1001</td>\n",
       "      <td>310.00</td>\n",
       "      <td>Checking</td>\n",
       "      <td>Deposit 11:15a #5758 - Citibank ATM 7105 E AV,...</td>\n",
       "      <td>ATM/Cash</td>\n",
       "      <td>2017-08-08</td>\n",
       "    </tr>\n",
       "    <tr>\n",
       "      <th>3</th>\n",
       "      <td>4</td>\n",
       "      <td>AA1001</td>\n",
       "      <td>10.03</td>\n",
       "      <td>Checking</td>\n",
       "      <td>Credit - MoneySend - SQC*Bianca Ortega San Fra...</td>\n",
       "      <td>Misc Inflows</td>\n",
       "      <td>2018-03-20</td>\n",
       "    </tr>\n",
       "    <tr>\n",
       "      <th>4</th>\n",
       "      <td>5</td>\n",
       "      <td>AA1001</td>\n",
       "      <td>-10.98</td>\n",
       "      <td>Checking</td>\n",
       "      <td>Debit Card Purchase 09/29 08:24p #5758 - MCDON...</td>\n",
       "      <td>Food and Beverages</td>\n",
       "      <td>2017-10-03</td>\n",
       "    </tr>\n",
       "    <tr>\n",
       "      <th>5</th>\n",
       "      <td>6</td>\n",
       "      <td>AA1001</td>\n",
       "      <td>300.00</td>\n",
       "      <td>Checking</td>\n",
       "      <td>Credit - MoneySend - Goo*Pay Mountain ViewCAUS...</td>\n",
       "      <td>Misc Inflows</td>\n",
       "      <td>2018-05-23</td>\n",
       "    </tr>\n",
       "    <tr>\n",
       "      <th>6</th>\n",
       "      <td>7</td>\n",
       "      <td>AA1001</td>\n",
       "      <td>-10.00</td>\n",
       "      <td>Checking</td>\n",
       "      <td>Debit Card Purchase 05/22 11:31a #5758 - ABC*P...</td>\n",
       "      <td>Personal Care</td>\n",
       "      <td>2018-05-24</td>\n",
       "    </tr>\n",
       "    <tr>\n",
       "      <th>7</th>\n",
       "      <td>8</td>\n",
       "      <td>AA1001</td>\n",
       "      <td>-1.36</td>\n",
       "      <td>Checking</td>\n",
       "      <td>Debit Card Purchase 07/14 02:38p #5758 - PAYPA...</td>\n",
       "      <td>Travel</td>\n",
       "      <td>2017-07-18</td>\n",
       "    </tr>\n",
       "    <tr>\n",
       "      <th>8</th>\n",
       "      <td>9</td>\n",
       "      <td>AA1001</td>\n",
       "      <td>-3.27</td>\n",
       "      <td>Checking</td>\n",
       "      <td>Debit Card Purchase 01/30 10:29p #5758 - HP *I...</td>\n",
       "      <td>Uncategorized</td>\n",
       "      <td>2018-02-02</td>\n",
       "    </tr>\n",
       "    <tr>\n",
       "      <th>9</th>\n",
       "      <td>10</td>\n",
       "      <td>AA1001</td>\n",
       "      <td>-4.00</td>\n",
       "      <td>Checking</td>\n",
       "      <td>Mobile Purchase Sign Based 07/29 08:45p #5758 ...</td>\n",
       "      <td>Food and Beverages</td>\n",
       "      <td>2017-08-01</td>\n",
       "    </tr>\n",
       "  </tbody>\n",
       "</table>\n",
       "</div>"
      ],
      "text/plain": [
       "   Transaction ID Customer ID   Value account_type  \\\n",
       "0               1      AA1001   40.00     Checking   \n",
       "1               2      AA1001  -14.12     Checking   \n",
       "2               3      AA1001  310.00     Checking   \n",
       "3               4      AA1001   10.03     Checking   \n",
       "4               5      AA1001  -10.98     Checking   \n",
       "5               6      AA1001  300.00     Checking   \n",
       "6               7      AA1001  -10.00     Checking   \n",
       "7               8      AA1001   -1.36     Checking   \n",
       "8               9      AA1001   -3.27     Checking   \n",
       "9              10      AA1001   -4.00     Checking   \n",
       "\n",
       "                                                memo            Category  \\\n",
       "0  Credit - MoneySend - Goo*Pay Mountain ViewCAUS...        Misc Inflows   \n",
       "1  Debit PIN Purchase - GAMESTOP #2497 6939 EASBE...       Entertainment   \n",
       "2  Deposit 11:15a #5758 - Citibank ATM 7105 E AV,...            ATM/Cash   \n",
       "3  Credit - MoneySend - SQC*Bianca Ortega San Fra...        Misc Inflows   \n",
       "4  Debit Card Purchase 09/29 08:24p #5758 - MCDON...  Food and Beverages   \n",
       "5  Credit - MoneySend - Goo*Pay Mountain ViewCAUS...        Misc Inflows   \n",
       "6  Debit Card Purchase 05/22 11:31a #5758 - ABC*P...       Personal Care   \n",
       "7  Debit Card Purchase 07/14 02:38p #5758 - PAYPA...              Travel   \n",
       "8  Debit Card Purchase 01/30 10:29p #5758 - HP *I...       Uncategorized   \n",
       "9  Mobile Purchase Sign Based 07/29 08:45p #5758 ...  Food and Beverages   \n",
       "\n",
       "        Date  \n",
       "0 2018-05-08  \n",
       "1 2017-12-26  \n",
       "2 2017-08-08  \n",
       "3 2018-03-20  \n",
       "4 2017-10-03  \n",
       "5 2018-05-23  \n",
       "6 2018-05-24  \n",
       "7 2017-07-18  \n",
       "8 2018-02-02  \n",
       "9 2017-08-01  "
      ]
     },
     "execution_count": 5,
     "metadata": {},
     "output_type": "execute_result"
    }
   ],
   "source": [
    "df.head(10)"
   ]
  },
  {
   "cell_type": "code",
   "execution_count": 6,
   "id": "satisfactory-rehabilitation",
   "metadata": {},
   "outputs": [
    {
     "name": "stdout",
     "output_type": "stream",
     "text": [
      "<class 'pandas.core.frame.DataFrame'>\n",
      "RangeIndex: 82796 entries, 0 to 82795\n",
      "Data columns (total 7 columns):\n",
      " #   Column          Non-Null Count  Dtype         \n",
      "---  ------          --------------  -----         \n",
      " 0   Transaction ID  82796 non-null  int64         \n",
      " 1   Customer ID     82796 non-null  object        \n",
      " 2   Value           82796 non-null  float64       \n",
      " 3   account_type    82796 non-null  object        \n",
      " 4   memo            82796 non-null  object        \n",
      " 5   Category        79007 non-null  object        \n",
      " 6   Date            82796 non-null  datetime64[ns]\n",
      "dtypes: datetime64[ns](1), float64(1), int64(1), object(4)\n",
      "memory usage: 4.4+ MB\n"
     ]
    }
   ],
   "source": [
    "df.info()"
   ]
  },
  {
   "cell_type": "code",
   "execution_count": 7,
   "id": "burning-blogger",
   "metadata": {},
   "outputs": [
    {
     "data": {
      "text/plain": [
       "(82796, 7)"
      ]
     },
     "execution_count": 7,
     "metadata": {},
     "output_type": "execute_result"
    }
   ],
   "source": [
    "df.shape"
   ]
  },
  {
   "cell_type": "code",
   "execution_count": 8,
   "id": "northern-introduction",
   "metadata": {},
   "outputs": [
    {
     "data": {
      "text/plain": [
       "0       2018-05-08\n",
       "1       2017-12-26\n",
       "2       2017-08-08\n",
       "3       2018-03-20\n",
       "4       2017-10-03\n",
       "           ...    \n",
       "82791   2018-03-22\n",
       "82792   2017-10-26\n",
       "82793   2017-06-28\n",
       "82794   2017-05-04\n",
       "82795   2017-10-26\n",
       "Name: Date, Length: 82796, dtype: datetime64[ns]"
      ]
     },
     "execution_count": 8,
     "metadata": {},
     "output_type": "execute_result"
    }
   ],
   "source": [
    "df.Date"
   ]
  },
  {
   "cell_type": "markdown",
   "id": "transsexual-tennis",
   "metadata": {},
   "source": [
    "Let's look to see if we have any missing values"
   ]
  },
  {
   "cell_type": "code",
   "execution_count": 9,
   "id": "surface-simple",
   "metadata": {},
   "outputs": [
    {
     "data": {
      "text/plain": [
       "Transaction ID       0\n",
       "Customer ID          0\n",
       "Value                0\n",
       "account_type         0\n",
       "memo                 0\n",
       "Category          3789\n",
       "Date                 0\n",
       "dtype: int64"
      ]
     },
     "execution_count": 9,
     "metadata": {},
     "output_type": "execute_result"
    }
   ],
   "source": [
    "df.isna().sum()"
   ]
  },
  {
   "cell_type": "markdown",
   "id": "animated-french",
   "metadata": {},
   "source": [
    "Looks like we do. That is good to know. We remember that for when we look at transactions individually."
   ]
  },
  {
   "cell_type": "code",
   "execution_count": 10,
   "id": "quick-newport",
   "metadata": {},
   "outputs": [
    {
     "name": "stdout",
     "output_type": "stream",
     "text": [
      "94\n"
     ]
    }
   ],
   "source": [
    "no_of_customers = df[\"Customer ID\"].nunique()\n",
    "print(no_of_customers)"
   ]
  },
  {
   "cell_type": "markdown",
   "id": "blank-fence",
   "metadata": {},
   "source": [
    "We have 94 unique customer ids which corresponds to 94 customers"
   ]
  },
  {
   "cell_type": "markdown",
   "id": "charitable-closer",
   "metadata": {},
   "source": [
    "Lets just look at one individual"
   ]
  },
  {
   "cell_type": "code",
   "execution_count": 11,
   "id": "patent-pearl",
   "metadata": {},
   "outputs": [
    {
     "name": "stdout",
     "output_type": "stream",
     "text": [
      "3711\n"
     ]
    },
    {
     "data": {
      "text/html": [
       "<div>\n",
       "<style scoped>\n",
       "    .dataframe tbody tr th:only-of-type {\n",
       "        vertical-align: middle;\n",
       "    }\n",
       "\n",
       "    .dataframe tbody tr th {\n",
       "        vertical-align: top;\n",
       "    }\n",
       "\n",
       "    .dataframe thead th {\n",
       "        text-align: right;\n",
       "    }\n",
       "</style>\n",
       "<table border=\"1\" class=\"dataframe\">\n",
       "  <thead>\n",
       "    <tr style=\"text-align: right;\">\n",
       "      <th></th>\n",
       "      <th>Transaction ID</th>\n",
       "      <th>Customer ID</th>\n",
       "      <th>Value</th>\n",
       "      <th>account_type</th>\n",
       "      <th>memo</th>\n",
       "      <th>Category</th>\n",
       "      <th>Date</th>\n",
       "    </tr>\n",
       "  </thead>\n",
       "  <tbody>\n",
       "    <tr>\n",
       "      <th>0</th>\n",
       "      <td>1</td>\n",
       "      <td>AA1001</td>\n",
       "      <td>40.00</td>\n",
       "      <td>Checking</td>\n",
       "      <td>Credit - MoneySend - Goo*Pay Mountain ViewCAUS...</td>\n",
       "      <td>Misc Inflows</td>\n",
       "      <td>2018-05-08</td>\n",
       "    </tr>\n",
       "    <tr>\n",
       "      <th>1</th>\n",
       "      <td>2</td>\n",
       "      <td>AA1001</td>\n",
       "      <td>-14.12</td>\n",
       "      <td>Checking</td>\n",
       "      <td>Debit PIN Purchase - GAMESTOP #2497 6939 EASBE...</td>\n",
       "      <td>Entertainment</td>\n",
       "      <td>2017-12-26</td>\n",
       "    </tr>\n",
       "    <tr>\n",
       "      <th>2</th>\n",
       "      <td>3</td>\n",
       "      <td>AA1001</td>\n",
       "      <td>310.00</td>\n",
       "      <td>Checking</td>\n",
       "      <td>Deposit 11:15a #5758 - Citibank ATM 7105 E AV,...</td>\n",
       "      <td>ATM/Cash</td>\n",
       "      <td>2017-08-08</td>\n",
       "    </tr>\n",
       "    <tr>\n",
       "      <th>3</th>\n",
       "      <td>4</td>\n",
       "      <td>AA1001</td>\n",
       "      <td>10.03</td>\n",
       "      <td>Checking</td>\n",
       "      <td>Credit - MoneySend - SQC*Bianca Ortega San Fra...</td>\n",
       "      <td>Misc Inflows</td>\n",
       "      <td>2018-03-20</td>\n",
       "    </tr>\n",
       "    <tr>\n",
       "      <th>4</th>\n",
       "      <td>5</td>\n",
       "      <td>AA1001</td>\n",
       "      <td>-10.98</td>\n",
       "      <td>Checking</td>\n",
       "      <td>Debit Card Purchase 09/29 08:24p #5758 - MCDON...</td>\n",
       "      <td>Food and Beverages</td>\n",
       "      <td>2017-10-03</td>\n",
       "    </tr>\n",
       "  </tbody>\n",
       "</table>\n",
       "</div>"
      ],
      "text/plain": [
       "   Transaction ID Customer ID   Value account_type  \\\n",
       "0               1      AA1001   40.00     Checking   \n",
       "1               2      AA1001  -14.12     Checking   \n",
       "2               3      AA1001  310.00     Checking   \n",
       "3               4      AA1001   10.03     Checking   \n",
       "4               5      AA1001  -10.98     Checking   \n",
       "\n",
       "                                                memo            Category  \\\n",
       "0  Credit - MoneySend - Goo*Pay Mountain ViewCAUS...        Misc Inflows   \n",
       "1  Debit PIN Purchase - GAMESTOP #2497 6939 EASBE...       Entertainment   \n",
       "2  Deposit 11:15a #5758 - Citibank ATM 7105 E AV,...            ATM/Cash   \n",
       "3  Credit - MoneySend - SQC*Bianca Ortega San Fra...        Misc Inflows   \n",
       "4  Debit Card Purchase 09/29 08:24p #5758 - MCDON...  Food and Beverages   \n",
       "\n",
       "        Date  \n",
       "0 2018-05-08  \n",
       "1 2017-12-26  \n",
       "2 2017-08-08  \n",
       "3 2018-03-20  \n",
       "4 2017-10-03  "
      ]
     },
     "execution_count": 11,
     "metadata": {},
     "output_type": "execute_result"
    }
   ],
   "source": [
    "one_customer = df[df[\"Customer ID\"] == \"AA1001\"]\n",
    "print(len(one_customer))\n",
    "one_customer.head()"
   ]
  },
  {
   "cell_type": "code",
   "execution_count": 12,
   "id": "processed-payment",
   "metadata": {},
   "outputs": [
    {
     "data": {
      "text/plain": [
       "(724, 7)"
      ]
     },
     "execution_count": 12,
     "metadata": {},
     "output_type": "execute_result"
    }
   ],
   "source": [
    "# Aggregating only the deposits\n",
    "one_customer_deposits = one_customer[one_customer[\"Value\"] > 0]\n",
    "one_customer_deposits.shape"
   ]
  },
  {
   "cell_type": "code",
   "execution_count": 13,
   "id": "fourth-reserve",
   "metadata": {},
   "outputs": [
    {
     "data": {
      "text/html": [
       "<div>\n",
       "<style scoped>\n",
       "    .dataframe tbody tr th:only-of-type {\n",
       "        vertical-align: middle;\n",
       "    }\n",
       "\n",
       "    .dataframe tbody tr th {\n",
       "        vertical-align: top;\n",
       "    }\n",
       "\n",
       "    .dataframe thead th {\n",
       "        text-align: right;\n",
       "    }\n",
       "</style>\n",
       "<table border=\"1\" class=\"dataframe\">\n",
       "  <thead>\n",
       "    <tr style=\"text-align: right;\">\n",
       "      <th></th>\n",
       "      <th>Transaction ID</th>\n",
       "      <th>Customer ID</th>\n",
       "      <th>Value</th>\n",
       "      <th>account_type</th>\n",
       "      <th>memo</th>\n",
       "      <th>Category</th>\n",
       "      <th>Date</th>\n",
       "    </tr>\n",
       "  </thead>\n",
       "  <tbody>\n",
       "    <tr>\n",
       "      <th>0</th>\n",
       "      <td>1</td>\n",
       "      <td>AA1001</td>\n",
       "      <td>40.00</td>\n",
       "      <td>Checking</td>\n",
       "      <td>Credit - MoneySend - Goo*Pay Mountain ViewCAUS...</td>\n",
       "      <td>Misc Inflows</td>\n",
       "      <td>2018-05-08</td>\n",
       "    </tr>\n",
       "    <tr>\n",
       "      <th>2</th>\n",
       "      <td>3</td>\n",
       "      <td>AA1001</td>\n",
       "      <td>310.00</td>\n",
       "      <td>Checking</td>\n",
       "      <td>Deposit 11:15a #5758 - Citibank ATM 7105 E AV,...</td>\n",
       "      <td>ATM/Cash</td>\n",
       "      <td>2017-08-08</td>\n",
       "    </tr>\n",
       "    <tr>\n",
       "      <th>3</th>\n",
       "      <td>4</td>\n",
       "      <td>AA1001</td>\n",
       "      <td>10.03</td>\n",
       "      <td>Checking</td>\n",
       "      <td>Credit - MoneySend - SQC*Bianca Ortega San Fra...</td>\n",
       "      <td>Misc Inflows</td>\n",
       "      <td>2018-03-20</td>\n",
       "    </tr>\n",
       "    <tr>\n",
       "      <th>5</th>\n",
       "      <td>6</td>\n",
       "      <td>AA1001</td>\n",
       "      <td>300.00</td>\n",
       "      <td>Checking</td>\n",
       "      <td>Credit - MoneySend - Goo*Pay Mountain ViewCAUS...</td>\n",
       "      <td>Misc Inflows</td>\n",
       "      <td>2018-05-23</td>\n",
       "    </tr>\n",
       "    <tr>\n",
       "      <th>11</th>\n",
       "      <td>12</td>\n",
       "      <td>AA1001</td>\n",
       "      <td>333.85</td>\n",
       "      <td>Checking</td>\n",
       "      <td>Zelle Credit - PAY ID:JPM140610591 ORG ID:JPM ...</td>\n",
       "      <td>Misc Inflows</td>\n",
       "      <td>2017-12-21</td>\n",
       "    </tr>\n",
       "  </tbody>\n",
       "</table>\n",
       "</div>"
      ],
      "text/plain": [
       "    Transaction ID Customer ID   Value account_type  \\\n",
       "0                1      AA1001   40.00     Checking   \n",
       "2                3      AA1001  310.00     Checking   \n",
       "3                4      AA1001   10.03     Checking   \n",
       "5                6      AA1001  300.00     Checking   \n",
       "11              12      AA1001  333.85     Checking   \n",
       "\n",
       "                                                 memo      Category       Date  \n",
       "0   Credit - MoneySend - Goo*Pay Mountain ViewCAUS...  Misc Inflows 2018-05-08  \n",
       "2   Deposit 11:15a #5758 - Citibank ATM 7105 E AV,...      ATM/Cash 2017-08-08  \n",
       "3   Credit - MoneySend - SQC*Bianca Ortega San Fra...  Misc Inflows 2018-03-20  \n",
       "5   Credit - MoneySend - Goo*Pay Mountain ViewCAUS...  Misc Inflows 2018-05-23  \n",
       "11  Zelle Credit - PAY ID:JPM140610591 ORG ID:JPM ...  Misc Inflows 2017-12-21  "
      ]
     },
     "execution_count": 13,
     "metadata": {},
     "output_type": "execute_result"
    }
   ],
   "source": [
    "one_customer_deposits.head()"
   ]
  },
  {
   "cell_type": "code",
   "execution_count": 14,
   "id": "relevant-density",
   "metadata": {},
   "outputs": [
    {
     "data": {
      "text/plain": [
       "array(['Misc Inflows', 'ATM/Cash', 'Paychecks/Salary', 'Account Transfer',\n",
       "       'Uncategorized', 'General Merchandise', 'Travel'], dtype=object)"
      ]
     },
     "execution_count": 14,
     "metadata": {},
     "output_type": "execute_result"
    }
   ],
   "source": [
    "one_customer_deposits.Category.unique()"
   ]
  },
  {
   "cell_type": "code",
   "execution_count": 15,
   "id": "developmental-chamber",
   "metadata": {},
   "outputs": [
    {
     "data": {
      "text/plain": [
       "(127, 7)"
      ]
     },
     "execution_count": 15,
     "metadata": {},
     "output_type": "execute_result"
    }
   ],
   "source": [
    "# Aggregate the transactions by Paychecks/Salary\n",
    "one_customer_salary = one_customer_deposits[one_customer_deposits.Category == 'Paychecks/Salary'].sort_values(\"Date\")\n",
    "one_customer_salary.shape"
   ]
  },
  {
   "cell_type": "code",
   "execution_count": 16,
   "id": "industrial-regard",
   "metadata": {},
   "outputs": [
    {
     "data": {
      "text/html": [
       "<div>\n",
       "<style scoped>\n",
       "    .dataframe tbody tr th:only-of-type {\n",
       "        vertical-align: middle;\n",
       "    }\n",
       "\n",
       "    .dataframe tbody tr th {\n",
       "        vertical-align: top;\n",
       "    }\n",
       "\n",
       "    .dataframe thead th {\n",
       "        text-align: right;\n",
       "    }\n",
       "</style>\n",
       "<table border=\"1\" class=\"dataframe\">\n",
       "  <thead>\n",
       "    <tr style=\"text-align: right;\">\n",
       "      <th></th>\n",
       "      <th>Transaction ID</th>\n",
       "      <th>Customer ID</th>\n",
       "      <th>Value</th>\n",
       "      <th>account_type</th>\n",
       "      <th>memo</th>\n",
       "      <th>Category</th>\n",
       "      <th>Date</th>\n",
       "    </tr>\n",
       "  </thead>\n",
       "  <tbody>\n",
       "    <tr>\n",
       "      <th>2273</th>\n",
       "      <td>2274</td>\n",
       "      <td>AA1001</td>\n",
       "      <td>353.45</td>\n",
       "      <td>Checking</td>\n",
       "      <td>VENSURE HR INC PAYROLL PPD ID: 1200455785 ACH_...</td>\n",
       "      <td>Paychecks/Salary</td>\n",
       "      <td>2016-08-12</td>\n",
       "    </tr>\n",
       "    <tr>\n",
       "      <th>32032</th>\n",
       "      <td>32033</td>\n",
       "      <td>AA1001</td>\n",
       "      <td>353.45</td>\n",
       "      <td>Checking</td>\n",
       "      <td>VENSURE HR INC PAYROLL PPD ID: 1200455785 ACH_...</td>\n",
       "      <td>Paychecks/Salary</td>\n",
       "      <td>2016-08-12</td>\n",
       "    </tr>\n",
       "    <tr>\n",
       "      <th>1863</th>\n",
       "      <td>1864</td>\n",
       "      <td>AA1001</td>\n",
       "      <td>353.45</td>\n",
       "      <td>Checking</td>\n",
       "      <td>VENSURE HR INC PAYROLL PPD ID: 1200455785 ACH_...</td>\n",
       "      <td>Paychecks/Salary</td>\n",
       "      <td>2016-08-12</td>\n",
       "    </tr>\n",
       "    <tr>\n",
       "      <th>32098</th>\n",
       "      <td>32099</td>\n",
       "      <td>AA1001</td>\n",
       "      <td>367.27</td>\n",
       "      <td>Checking</td>\n",
       "      <td>VENSURE HR INC PAYROLL PPD ID: 1200455785 ACH_...</td>\n",
       "      <td>Paychecks/Salary</td>\n",
       "      <td>2016-08-19</td>\n",
       "    </tr>\n",
       "    <tr>\n",
       "      <th>1929</th>\n",
       "      <td>1930</td>\n",
       "      <td>AA1001</td>\n",
       "      <td>367.27</td>\n",
       "      <td>Checking</td>\n",
       "      <td>VENSURE HR INC PAYROLL PPD ID: 1200455785 ACH_...</td>\n",
       "      <td>Paychecks/Salary</td>\n",
       "      <td>2016-08-19</td>\n",
       "    </tr>\n",
       "  </tbody>\n",
       "</table>\n",
       "</div>"
      ],
      "text/plain": [
       "       Transaction ID Customer ID   Value account_type  \\\n",
       "2273             2274      AA1001  353.45     Checking   \n",
       "32032           32033      AA1001  353.45     Checking   \n",
       "1863             1864      AA1001  353.45     Checking   \n",
       "32098           32099      AA1001  367.27     Checking   \n",
       "1929             1930      AA1001  367.27     Checking   \n",
       "\n",
       "                                                    memo          Category  \\\n",
       "2273   VENSURE HR INC PAYROLL PPD ID: 1200455785 ACH_...  Paychecks/Salary   \n",
       "32032  VENSURE HR INC PAYROLL PPD ID: 1200455785 ACH_...  Paychecks/Salary   \n",
       "1863   VENSURE HR INC PAYROLL PPD ID: 1200455785 ACH_...  Paychecks/Salary   \n",
       "32098  VENSURE HR INC PAYROLL PPD ID: 1200455785 ACH_...  Paychecks/Salary   \n",
       "1929   VENSURE HR INC PAYROLL PPD ID: 1200455785 ACH_...  Paychecks/Salary   \n",
       "\n",
       "            Date  \n",
       "2273  2016-08-12  \n",
       "32032 2016-08-12  \n",
       "1863  2016-08-12  \n",
       "32098 2016-08-19  \n",
       "1929  2016-08-19  "
      ]
     },
     "execution_count": 16,
     "metadata": {},
     "output_type": "execute_result"
    }
   ],
   "source": [
    "one_customer_salary.head()"
   ]
  },
  {
   "cell_type": "code",
   "execution_count": 17,
   "id": "universal-reunion",
   "metadata": {},
   "outputs": [],
   "source": [
    "one_customer_salary = one_customer_salary.set_index('Date')"
   ]
  },
  {
   "cell_type": "code",
   "execution_count": 18,
   "id": "promising-charter",
   "metadata": {},
   "outputs": [
    {
     "name": "stdout",
     "output_type": "stream",
     "text": [
      "Transaction timeline: 26 months.\n"
     ]
    },
    {
     "data": {
      "text/html": [
       "<div>\n",
       "<style scoped>\n",
       "    .dataframe tbody tr th:only-of-type {\n",
       "        vertical-align: middle;\n",
       "    }\n",
       "\n",
       "    .dataframe tbody tr th {\n",
       "        vertical-align: top;\n",
       "    }\n",
       "\n",
       "    .dataframe thead th {\n",
       "        text-align: right;\n",
       "    }\n",
       "</style>\n",
       "<table border=\"1\" class=\"dataframe\">\n",
       "  <thead>\n",
       "    <tr style=\"text-align: right;\">\n",
       "      <th></th>\n",
       "      <th>Transaction ID</th>\n",
       "      <th>Value</th>\n",
       "    </tr>\n",
       "    <tr>\n",
       "      <th>Date</th>\n",
       "      <th></th>\n",
       "      <th></th>\n",
       "    </tr>\n",
       "  </thead>\n",
       "  <tbody>\n",
       "    <tr>\n",
       "      <th>2016-08-01</th>\n",
       "      <td>109434</td>\n",
       "      <td>3258.99</td>\n",
       "    </tr>\n",
       "    <tr>\n",
       "      <th>2016-09-01</th>\n",
       "      <td>147540</td>\n",
       "      <td>4360.74</td>\n",
       "    </tr>\n",
       "    <tr>\n",
       "      <th>2016-10-01</th>\n",
       "      <td>147294</td>\n",
       "      <td>5092.20</td>\n",
       "    </tr>\n",
       "    <tr>\n",
       "      <th>2016-11-01</th>\n",
       "      <td>146025</td>\n",
       "      <td>4731.75</td>\n",
       "    </tr>\n",
       "    <tr>\n",
       "      <th>2016-12-01</th>\n",
       "      <td>183267</td>\n",
       "      <td>5744.22</td>\n",
       "    </tr>\n",
       "    <tr>\n",
       "      <th>2017-01-01</th>\n",
       "      <td>146109</td>\n",
       "      <td>4430.34</td>\n",
       "    </tr>\n",
       "    <tr>\n",
       "      <th>2017-02-01</th>\n",
       "      <td>109533</td>\n",
       "      <td>2032.32</td>\n",
       "    </tr>\n",
       "    <tr>\n",
       "      <th>2017-03-01</th>\n",
       "      <td>73008</td>\n",
       "      <td>610.17</td>\n",
       "    </tr>\n",
       "    <tr>\n",
       "      <th>2017-04-01</th>\n",
       "      <td>0</td>\n",
       "      <td>0.00</td>\n",
       "    </tr>\n",
       "    <tr>\n",
       "      <th>2017-05-01</th>\n",
       "      <td>0</td>\n",
       "      <td>0.00</td>\n",
       "    </tr>\n",
       "    <tr>\n",
       "      <th>2017-06-01</th>\n",
       "      <td>0</td>\n",
       "      <td>0.00</td>\n",
       "    </tr>\n",
       "    <tr>\n",
       "      <th>2017-07-01</th>\n",
       "      <td>0</td>\n",
       "      <td>0.00</td>\n",
       "    </tr>\n",
       "    <tr>\n",
       "      <th>2017-08-01</th>\n",
       "      <td>0</td>\n",
       "      <td>0.00</td>\n",
       "    </tr>\n",
       "    <tr>\n",
       "      <th>2017-09-01</th>\n",
       "      <td>0</td>\n",
       "      <td>0.00</td>\n",
       "    </tr>\n",
       "    <tr>\n",
       "      <th>2017-10-01</th>\n",
       "      <td>0</td>\n",
       "      <td>0.00</td>\n",
       "    </tr>\n",
       "    <tr>\n",
       "      <th>2017-11-01</th>\n",
       "      <td>0</td>\n",
       "      <td>0.00</td>\n",
       "    </tr>\n",
       "    <tr>\n",
       "      <th>2017-12-01</th>\n",
       "      <td>0</td>\n",
       "      <td>0.00</td>\n",
       "    </tr>\n",
       "    <tr>\n",
       "      <th>2018-01-01</th>\n",
       "      <td>0</td>\n",
       "      <td>0.00</td>\n",
       "    </tr>\n",
       "    <tr>\n",
       "      <th>2018-02-01</th>\n",
       "      <td>32185</td>\n",
       "      <td>2108.34</td>\n",
       "    </tr>\n",
       "    <tr>\n",
       "      <th>2018-03-01</th>\n",
       "      <td>100416</td>\n",
       "      <td>5884.47</td>\n",
       "    </tr>\n",
       "    <tr>\n",
       "      <th>2018-04-01</th>\n",
       "      <td>67394</td>\n",
       "      <td>4092.06</td>\n",
       "    </tr>\n",
       "    <tr>\n",
       "      <th>2018-05-01</th>\n",
       "      <td>65255</td>\n",
       "      <td>4027.77</td>\n",
       "    </tr>\n",
       "    <tr>\n",
       "      <th>2018-06-01</th>\n",
       "      <td>66311</td>\n",
       "      <td>3813.18</td>\n",
       "    </tr>\n",
       "    <tr>\n",
       "      <th>2018-07-01</th>\n",
       "      <td>2222</td>\n",
       "      <td>1620.08</td>\n",
       "    </tr>\n",
       "    <tr>\n",
       "      <th>2018-08-01</th>\n",
       "      <td>7022</td>\n",
       "      <td>4492.42</td>\n",
       "    </tr>\n",
       "    <tr>\n",
       "      <th>2018-09-01</th>\n",
       "      <td>2514</td>\n",
       "      <td>1575.08</td>\n",
       "    </tr>\n",
       "  </tbody>\n",
       "</table>\n",
       "</div>"
      ],
      "text/plain": [
       "            Transaction ID    Value\n",
       "Date                               \n",
       "2016-08-01          109434  3258.99\n",
       "2016-09-01          147540  4360.74\n",
       "2016-10-01          147294  5092.20\n",
       "2016-11-01          146025  4731.75\n",
       "2016-12-01          183267  5744.22\n",
       "2017-01-01          146109  4430.34\n",
       "2017-02-01          109533  2032.32\n",
       "2017-03-01           73008   610.17\n",
       "2017-04-01               0     0.00\n",
       "2017-05-01               0     0.00\n",
       "2017-06-01               0     0.00\n",
       "2017-07-01               0     0.00\n",
       "2017-08-01               0     0.00\n",
       "2017-09-01               0     0.00\n",
       "2017-10-01               0     0.00\n",
       "2017-11-01               0     0.00\n",
       "2017-12-01               0     0.00\n",
       "2018-01-01               0     0.00\n",
       "2018-02-01           32185  2108.34\n",
       "2018-03-01          100416  5884.47\n",
       "2018-04-01           67394  4092.06\n",
       "2018-05-01           65255  4027.77\n",
       "2018-06-01           66311  3813.18\n",
       "2018-07-01            2222  1620.08\n",
       "2018-08-01            7022  4492.42\n",
       "2018-09-01            2514  1575.08"
      ]
     },
     "execution_count": 18,
     "metadata": {},
     "output_type": "execute_result"
    }
   ],
   "source": [
    "monthly_one_customer_salary = one_customer_salary.resample('MS').sum()\n",
    "print(f\"Transaction timeline: {len(monthly_one_customer_salary)} months.\")\n",
    "monthly_one_customer_salary"
   ]
  },
  {
   "cell_type": "markdown",
   "id": "immune-brooks",
   "metadata": {},
   "source": [
    "We have a ~10 months duration where there were no deposit transactions"
   ]
  },
  {
   "cell_type": "markdown",
   "id": "elder-selling",
   "metadata": {},
   "source": [
    "Looking at the missing values"
   ]
  },
  {
   "cell_type": "code",
   "execution_count": 19,
   "id": "regular-copyright",
   "metadata": {},
   "outputs": [
    {
     "data": {
      "text/plain": [
       "3789"
      ]
     },
     "execution_count": 19,
     "metadata": {},
     "output_type": "execute_result"
    }
   ],
   "source": [
    "df_missing_values = df[df.Category.isna()]\n",
    "len(df_missing_values)"
   ]
  },
  {
   "cell_type": "code",
   "execution_count": 20,
   "id": "threaded-quick",
   "metadata": {},
   "outputs": [
    {
     "name": "stdout",
     "output_type": "stream",
     "text": [
      "Number of deposits with no category value: 1821\n",
      "Number of customers with deposits that have missing category: 24\n",
      "On average each customer is missing 75.9 deposits from the category over 26 month period\n",
      "Average of 2.9 deposits per month are missing from the category column per customer\n"
     ]
    }
   ],
   "source": [
    "df_missing_deposits = df_missing_values[df_missing_values.Value > 0]\n",
    "no_of_missing_deposits = df_missing_deposits.shape[0]\n",
    "unique_customers_with_missing_deposits = df_missing_deposits[\"Customer ID\"].nunique()\n",
    "average_deposits_missing_categories = no_of_missing_deposits / unique_customers_with_missing_deposits\n",
    "\n",
    "print(f\"Number of deposits with no category value: {no_of_missing_deposits}\")\n",
    "\n",
    "print(f\"Number of customers with deposits that have missing category:\", unique_customers_with_missing_deposits)\n",
    "print(f\"On average each customer is missing {average_deposits_missing_categories:.1f} deposits from the category over 26 month period\")\n",
    "print(f\"Average of {average_deposits_missing_categories / len(monthly_one_customer_salary):.1f} deposits per month are missing from the category column per customer\")"
   ]
  },
  {
   "cell_type": "markdown",
   "id": "threatened-lying",
   "metadata": {},
   "source": [
    "Writing a function to pull out deposits for all individuals"
   ]
  },
  {
   "cell_type": "code",
   "execution_count": 21,
   "id": "comparative-flower",
   "metadata": {},
   "outputs": [
    {
     "data": {
      "text/html": [
       "<div>\n",
       "<style scoped>\n",
       "    .dataframe tbody tr th:only-of-type {\n",
       "        vertical-align: middle;\n",
       "    }\n",
       "\n",
       "    .dataframe tbody tr th {\n",
       "        vertical-align: top;\n",
       "    }\n",
       "\n",
       "    .dataframe thead th {\n",
       "        text-align: right;\n",
       "    }\n",
       "</style>\n",
       "<table border=\"1\" class=\"dataframe\">\n",
       "  <thead>\n",
       "    <tr style=\"text-align: right;\">\n",
       "      <th></th>\n",
       "      <th>Transaction ID</th>\n",
       "      <th>Customer ID</th>\n",
       "      <th>Value</th>\n",
       "      <th>account_type</th>\n",
       "      <th>memo</th>\n",
       "      <th>Category</th>\n",
       "      <th>Date</th>\n",
       "    </tr>\n",
       "  </thead>\n",
       "  <tbody>\n",
       "    <tr>\n",
       "      <th>0</th>\n",
       "      <td>1</td>\n",
       "      <td>AA1001</td>\n",
       "      <td>40.00</td>\n",
       "      <td>Checking</td>\n",
       "      <td>Credit - MoneySend - Goo*Pay Mountain ViewCAUS...</td>\n",
       "      <td>Misc Inflows</td>\n",
       "      <td>2018-05-08</td>\n",
       "    </tr>\n",
       "    <tr>\n",
       "      <th>1</th>\n",
       "      <td>2</td>\n",
       "      <td>AA1001</td>\n",
       "      <td>-14.12</td>\n",
       "      <td>Checking</td>\n",
       "      <td>Debit PIN Purchase - GAMESTOP #2497 6939 EASBE...</td>\n",
       "      <td>Entertainment</td>\n",
       "      <td>2017-12-26</td>\n",
       "    </tr>\n",
       "    <tr>\n",
       "      <th>2</th>\n",
       "      <td>3</td>\n",
       "      <td>AA1001</td>\n",
       "      <td>310.00</td>\n",
       "      <td>Checking</td>\n",
       "      <td>Deposit 11:15a #5758 - Citibank ATM 7105 E AV,...</td>\n",
       "      <td>ATM/Cash</td>\n",
       "      <td>2017-08-08</td>\n",
       "    </tr>\n",
       "    <tr>\n",
       "      <th>3</th>\n",
       "      <td>4</td>\n",
       "      <td>AA1001</td>\n",
       "      <td>10.03</td>\n",
       "      <td>Checking</td>\n",
       "      <td>Credit - MoneySend - SQC*Bianca Ortega San Fra...</td>\n",
       "      <td>Misc Inflows</td>\n",
       "      <td>2018-03-20</td>\n",
       "    </tr>\n",
       "    <tr>\n",
       "      <th>4</th>\n",
       "      <td>5</td>\n",
       "      <td>AA1001</td>\n",
       "      <td>-10.98</td>\n",
       "      <td>Checking</td>\n",
       "      <td>Debit Card Purchase 09/29 08:24p #5758 - MCDON...</td>\n",
       "      <td>Food and Beverages</td>\n",
       "      <td>2017-10-03</td>\n",
       "    </tr>\n",
       "  </tbody>\n",
       "</table>\n",
       "</div>"
      ],
      "text/plain": [
       "   Transaction ID Customer ID   Value account_type  \\\n",
       "0               1      AA1001   40.00     Checking   \n",
       "1               2      AA1001  -14.12     Checking   \n",
       "2               3      AA1001  310.00     Checking   \n",
       "3               4      AA1001   10.03     Checking   \n",
       "4               5      AA1001  -10.98     Checking   \n",
       "\n",
       "                                                memo            Category  \\\n",
       "0  Credit - MoneySend - Goo*Pay Mountain ViewCAUS...        Misc Inflows   \n",
       "1  Debit PIN Purchase - GAMESTOP #2497 6939 EASBE...       Entertainment   \n",
       "2  Deposit 11:15a #5758 - Citibank ATM 7105 E AV,...            ATM/Cash   \n",
       "3  Credit - MoneySend - SQC*Bianca Ortega San Fra...        Misc Inflows   \n",
       "4  Debit Card Purchase 09/29 08:24p #5758 - MCDON...  Food and Beverages   \n",
       "\n",
       "        Date  \n",
       "0 2018-05-08  \n",
       "1 2017-12-26  \n",
       "2 2017-08-08  \n",
       "3 2018-03-20  \n",
       "4 2017-10-03  "
      ]
     },
     "execution_count": 21,
     "metadata": {},
     "output_type": "execute_result"
    }
   ],
   "source": [
    "df.head()"
   ]
  },
  {
   "cell_type": "code",
   "execution_count": 22,
   "id": "extreme-intelligence",
   "metadata": {},
   "outputs": [],
   "source": [
    "\n",
    "def return_customer_deposits(file_path):\n",
    "    \"\"\"\n",
    "    Takes in a excel file and returns a dictionary with keys\n",
    "    as customer id and values as  pandas dataframe of deposits \n",
    "    aggregated by months and year where Category value is \n",
    "    Paychecks/Salary\n",
    "    \n",
    "    Parameter: \n",
    "    ----------\n",
    "    file_path : path of file\n",
    "    \n",
    "    Returns: \n",
    "    --------\n",
    "    customer_deposits_dictionary : Keys are customer id and values \n",
    "                                pandas dataframe of deposits \n",
    "                                aggregated by months and year where \n",
    "                                Category value is Paychecks/Salary\n",
    "                                \n",
    "    \n",
    "    \"\"\"\n",
    "    \n",
    "    data = pd.read_excel(file_path)\n",
    "    unique_customers = data[\"Customer ID\"].unique()\n",
    "    customer_deposits_dictionary = {}\n",
    "\n",
    "    for idx, customer in enumerate(unique_customers):\n",
    "        customer_data = df[df[\"Customer ID\"] == customer]\n",
    "        customer_deposit = customer_data[customer_data[\"Value\"] > 0]\n",
    "        customer_salary_deposit = customer_deposit[customer_deposit.Category == 'Paychecks/Salary'].sort_values(\"Date\")\n",
    "        customer_salary_deposit = customer_salary_deposit.set_index('Date')\n",
    "        monthly_customer_salary = customer_salary_deposit.resample('MS').sum()\n",
    "\n",
    "        customer_deposits_dictionary[f\"{customer}\"] = monthly_customer_salary\n",
    "    \n",
    "    return customer_deposits_dictionary \n",
    "\n",
    "\n",
    "customer_deposits_dictionary = return_customer_deposits(\"income_assessment.xlsx\")\n",
    "\n",
    "assert len(customer_deposits_dictionary) == df[\"Customer ID\"].nunique()\n"
   ]
  },
  {
   "cell_type": "code",
   "execution_count": 23,
   "id": "relative-desire",
   "metadata": {},
   "outputs": [
    {
     "data": {
      "text/plain": [
       "dict_keys(['AA1001', 'AA1034', 'AA1056', 'AA1066', 'AA1067', 'AA1071', 'AA1123', 'AA1133', 'AA1142', 'AA1162', 'AA1169', 'AA1242', 'AA1224', 'AA1225', 'AA1238', 'AA1276', 'AA1291', 'AA1301', 'AA1307', 'AA1312', 'AA1330', 'AA1382', 'AA1401', 'AA1394', 'AA1396', 'AA1418', 'AA1419', 'AA1455', 'AA1480', 'AA1478', 'AA1520', 'AA1521', 'AA485', 'AA487', 'AA516', 'AA541', 'AA546', 'AA551', 'AA554', 'AA555', 'AA557', 'AA562', 'AA564', 'AA569', 'AA573', 'AA575', 'AA579', 'AA582', 'AA581', 'AA586', 'AA588', 'AA592', 'AA598', 'AA595', 'AA597', 'AA600', 'AA601', 'AA604', 'AA607', 'AA608', 'AA611', 'AA614', 'AA616', 'AA618', 'AA619', 'AA622', 'AA623', 'AA629', 'AA633', 'AA634', 'AA635', 'AA638', 'AA640', 'AA645', 'AA693', 'AA694', 'AA698', 'AA704', 'AA707', 'AA736', 'AA747', 'AA756', 'AA809', 'AA796', 'AA805', 'AA812', 'AA815', 'AA832', 'AA863', 'AA896', 'AA920', 'AA916', 'AA930', 'AA982'])"
      ]
     },
     "execution_count": 23,
     "metadata": {},
     "output_type": "execute_result"
    }
   ],
   "source": [
    "customer_deposits_dictionary.keys()"
   ]
  },
  {
   "cell_type": "code",
   "execution_count": 24,
   "id": "unauthorized-panama",
   "metadata": {},
   "outputs": [
    {
     "data": {
      "text/html": [
       "<div>\n",
       "<style scoped>\n",
       "    .dataframe tbody tr th:only-of-type {\n",
       "        vertical-align: middle;\n",
       "    }\n",
       "\n",
       "    .dataframe tbody tr th {\n",
       "        vertical-align: top;\n",
       "    }\n",
       "\n",
       "    .dataframe thead th {\n",
       "        text-align: right;\n",
       "    }\n",
       "</style>\n",
       "<table border=\"1\" class=\"dataframe\">\n",
       "  <thead>\n",
       "    <tr style=\"text-align: right;\">\n",
       "      <th></th>\n",
       "      <th>Transaction ID</th>\n",
       "      <th>Customer ID</th>\n",
       "      <th>Value</th>\n",
       "      <th>account_type</th>\n",
       "      <th>memo</th>\n",
       "      <th>Category</th>\n",
       "    </tr>\n",
       "    <tr>\n",
       "      <th>Date</th>\n",
       "      <th></th>\n",
       "      <th></th>\n",
       "      <th></th>\n",
       "      <th></th>\n",
       "      <th></th>\n",
       "      <th></th>\n",
       "    </tr>\n",
       "  </thead>\n",
       "  <tbody>\n",
       "  </tbody>\n",
       "</table>\n",
       "</div>"
      ],
      "text/plain": [
       "Empty DataFrame\n",
       "Columns: [Transaction ID, Customer ID, Value, account_type, memo, Category]\n",
       "Index: []"
      ]
     },
     "execution_count": 24,
     "metadata": {},
     "output_type": "execute_result"
    }
   ],
   "source": [
    "customer_deposits_dictionary[\"AA1067\"]"
   ]
  },
  {
   "cell_type": "markdown",
   "id": "bibliographic-manor",
   "metadata": {},
   "source": [
    "Double checking to make sure the deposits are really missing"
   ]
  },
  {
   "cell_type": "code",
   "execution_count": 25,
   "id": "pointed-evans",
   "metadata": {},
   "outputs": [
    {
     "data": {
      "text/plain": [
       "0"
      ]
     },
     "execution_count": 25,
     "metadata": {},
     "output_type": "execute_result"
    }
   ],
   "source": [
    "(df[df[\"Customer ID\"] == \"AA1067\"].Category == \"Paychecks/Salary\").sum()"
   ]
  },
  {
   "cell_type": "code",
   "execution_count": 26,
   "id": "acting-bridal",
   "metadata": {},
   "outputs": [
    {
     "data": {
      "text/html": [
       "<div>\n",
       "<style scoped>\n",
       "    .dataframe tbody tr th:only-of-type {\n",
       "        vertical-align: middle;\n",
       "    }\n",
       "\n",
       "    .dataframe tbody tr th {\n",
       "        vertical-align: top;\n",
       "    }\n",
       "\n",
       "    .dataframe thead th {\n",
       "        text-align: right;\n",
       "    }\n",
       "</style>\n",
       "<table border=\"1\" class=\"dataframe\">\n",
       "  <thead>\n",
       "    <tr style=\"text-align: right;\">\n",
       "      <th></th>\n",
       "      <th>Transaction ID</th>\n",
       "      <th>Customer ID</th>\n",
       "      <th>Value</th>\n",
       "      <th>account_type</th>\n",
       "      <th>memo</th>\n",
       "      <th>Category</th>\n",
       "      <th>Date</th>\n",
       "    </tr>\n",
       "  </thead>\n",
       "  <tbody>\n",
       "  </tbody>\n",
       "</table>\n",
       "</div>"
      ],
      "text/plain": [
       "Empty DataFrame\n",
       "Columns: [Transaction ID, Customer ID, Value, account_type, memo, Category, Date]\n",
       "Index: []"
      ]
     },
     "execution_count": 26,
     "metadata": {},
     "output_type": "execute_result"
    }
   ],
   "source": [
    "# sanity check to make sure deposits are really missing\n",
    "empty_deposits = df[df[\"Customer ID\"] == \"AA1067\"]\n",
    "empty_deposits[empty_deposits[\"Category\"] == \"Paychecks/Salary\"]"
   ]
  },
  {
   "cell_type": "markdown",
   "id": "palestinian-subject",
   "metadata": {},
   "source": [
    "Since we have values missing we will use the monthly deposits as a proxy to estimate salary."
   ]
  },
  {
   "cell_type": "code",
   "execution_count": 27,
   "id": "imposed-coach",
   "metadata": {},
   "outputs": [],
   "source": [
    "def salary_estimates(deposit_dictionary):\n",
    "\n",
    "    monthly_salary_estimate = {}\n",
    "    annual_salary_estimate = {}\n",
    "\n",
    "    for customer, monthly_deposits in customer_deposits_dictionary.items():\n",
    "        if monthly_deposits[\"Value\"].values.sum() > 0:                                                       # Filtering out the zeros deposits\n",
    "            monthly_dep = monthly_deposits[\"Value\"].values                                                   # values are nd-array\n",
    "            monthly_deposit_above_zero = monthly_dep[monthly_dep > 0]                                        # filtering out zero values\n",
    "            average_monthly_deposit = round(monthly_deposit_above_zero.sum() / len(monthly_deposit_above_zero), 2)\n",
    "            monthly_salary_estimate[customer] = average_monthly_deposit\n",
    "            annual_salary_estimate[customer] = round(average_monthly_deposit * 12, 2)\n",
    "        \n",
    "    return monthly_salary_estimate, annual_salary_estimate"
   ]
  },
  {
   "cell_type": "code",
   "execution_count": 28,
   "id": "induced-familiar",
   "metadata": {},
   "outputs": [],
   "source": [
    "monthly_salary_estimate, annual_salary_estimate = salary_estimates(customer_deposits_dictionary)"
   ]
  },
  {
   "cell_type": "code",
   "execution_count": 29,
   "id": "organic-browse",
   "metadata": {},
   "outputs": [
    {
     "data": {
      "text/html": [
       "<div>\n",
       "<style scoped>\n",
       "    .dataframe tbody tr th:only-of-type {\n",
       "        vertical-align: middle;\n",
       "    }\n",
       "\n",
       "    .dataframe tbody tr th {\n",
       "        vertical-align: top;\n",
       "    }\n",
       "\n",
       "    .dataframe thead th {\n",
       "        text-align: right;\n",
       "    }\n",
       "</style>\n",
       "<table border=\"1\" class=\"dataframe\">\n",
       "  <thead>\n",
       "    <tr style=\"text-align: right;\">\n",
       "      <th></th>\n",
       "      <th>monthly_salary</th>\n",
       "    </tr>\n",
       "  </thead>\n",
       "  <tbody>\n",
       "    <tr>\n",
       "      <th>AA1001</th>\n",
       "      <td>3617.13</td>\n",
       "    </tr>\n",
       "    <tr>\n",
       "      <th>AA1056</th>\n",
       "      <td>7777.74</td>\n",
       "    </tr>\n",
       "    <tr>\n",
       "      <th>AA1066</th>\n",
       "      <td>1556.43</td>\n",
       "    </tr>\n",
       "    <tr>\n",
       "      <th>AA1133</th>\n",
       "      <td>4666.34</td>\n",
       "    </tr>\n",
       "    <tr>\n",
       "      <th>AA1142</th>\n",
       "      <td>1.00</td>\n",
       "    </tr>\n",
       "  </tbody>\n",
       "</table>\n",
       "</div>"
      ],
      "text/plain": [
       "        monthly_salary\n",
       "AA1001         3617.13\n",
       "AA1056         7777.74\n",
       "AA1066         1556.43\n",
       "AA1133         4666.34\n",
       "AA1142            1.00"
      ]
     },
     "execution_count": 29,
     "metadata": {},
     "output_type": "execute_result"
    }
   ],
   "source": [
    "monthly_deposit_DataFrame = pd.DataFrame.from_dict(monthly_salary_estimate, orient='index', columns=[\"monthly_salary\"])\n",
    "monthly_deposit_DataFrame.head()"
   ]
  },
  {
   "cell_type": "markdown",
   "id": "applicable-accent",
   "metadata": {},
   "source": [
    "Plotting the distribution of salary"
   ]
  },
  {
   "cell_type": "code",
   "execution_count": 59,
   "id": "connected-singles",
   "metadata": {},
   "outputs": [
    {
     "data": {
      "application/vnd.plotly.v1+json": {
       "config": {
        "plotlyServerURL": "https://plot.ly"
       },
       "data": [
        {
         "alignmentgroup": "True",
         "hovertemplate": "variable=monthly_salary<br>Customer ID=%{x}<br>Amount in $=%{y}<extra></extra>",
         "legendgroup": "monthly_salary",
         "marker": {
          "color": "#636efa"
         },
         "name": "monthly_salary",
         "offsetgroup": "monthly_salary",
         "orientation": "v",
         "showlegend": true,
         "textposition": "auto",
         "type": "bar",
         "x": [
          "AA1001",
          "AA1056",
          "AA1066",
          "AA1133",
          "AA1142",
          "AA1242",
          "AA1225",
          "AA1238",
          "AA1276",
          "AA1301",
          "AA1307",
          "AA1382",
          "AA1401",
          "AA1396",
          "AA1418",
          "AA1455",
          "AA1480",
          "AA1478",
          "AA1520",
          "AA1521",
          "AA516",
          "AA541",
          "AA546",
          "AA555",
          "AA557",
          "AA562",
          "AA564",
          "AA569",
          "AA573",
          "AA575",
          "AA579",
          "AA582",
          "AA581",
          "AA586",
          "AA588",
          "AA592",
          "AA598",
          "AA595",
          "AA597",
          "AA600",
          "AA601",
          "AA604",
          "AA607",
          "AA608",
          "AA614",
          "AA616",
          "AA618",
          "AA619",
          "AA622",
          "AA633",
          "AA634",
          "AA635",
          "AA638",
          "AA640",
          "AA698",
          "AA704",
          "AA707",
          "AA736",
          "AA747",
          "AA756",
          "AA809",
          "AA796",
          "AA805",
          "AA812",
          "AA815",
          "AA863",
          "AA896",
          "AA920",
          "AA916",
          "AA930",
          "AA982"
         ],
         "xaxis": "x",
         "y": [
          3617.13,
          7777.74,
          1556.43,
          4666.34,
          1,
          144.17,
          916.12,
          1314.64,
          543.12,
          5205.33,
          2089.09,
          3522.46,
          26992.04,
          880.53,
          2577.62,
          296.66,
          3736.64,
          881.58,
          5345.06,
          4263.48,
          3534.07,
          5605.6,
          3519.7,
          5605.6,
          3000.49,
          3609.91,
          6091.57,
          6091.57,
          3429.54,
          6774.63,
          1469.73,
          5605.6,
          3609.91,
          6091.57,
          6774.63,
          5605.6,
          1932.26,
          4491.91,
          1469.73,
          3519.7,
          4491.91,
          5495.98,
          3609.91,
          5495.98,
          3603.84,
          871.32,
          5495.98,
          6727.77,
          5495.98,
          3349.44,
          3425.1,
          5386.36,
          466.6,
          1981.6,
          5569.88,
          4640.88,
          5915.25,
          1.08,
          1250.99,
          1255.44,
          3304.5,
          276.98,
          5133.8,
          0.28,
          12821.81,
          102.5,
          1708.39,
          4675.15,
          192.3,
          3751.1,
          1320.95
         ],
         "yaxis": "y"
        }
       ],
       "layout": {
        "autosize": true,
        "barmode": "relative",
        "legend": {
         "title": {
          "text": "variable"
         },
         "tracegroupgap": 0
        },
        "template": {
         "data": {
          "bar": [
           {
            "error_x": {
             "color": "#2a3f5f"
            },
            "error_y": {
             "color": "#2a3f5f"
            },
            "marker": {
             "line": {
              "color": "#E5ECF6",
              "width": 0.5
             }
            },
            "type": "bar"
           }
          ],
          "barpolar": [
           {
            "marker": {
             "line": {
              "color": "#E5ECF6",
              "width": 0.5
             }
            },
            "type": "barpolar"
           }
          ],
          "carpet": [
           {
            "aaxis": {
             "endlinecolor": "#2a3f5f",
             "gridcolor": "white",
             "linecolor": "white",
             "minorgridcolor": "white",
             "startlinecolor": "#2a3f5f"
            },
            "baxis": {
             "endlinecolor": "#2a3f5f",
             "gridcolor": "white",
             "linecolor": "white",
             "minorgridcolor": "white",
             "startlinecolor": "#2a3f5f"
            },
            "type": "carpet"
           }
          ],
          "choropleth": [
           {
            "colorbar": {
             "outlinewidth": 0,
             "ticks": ""
            },
            "type": "choropleth"
           }
          ],
          "contour": [
           {
            "colorbar": {
             "outlinewidth": 0,
             "ticks": ""
            },
            "colorscale": [
             [
              0,
              "#0d0887"
             ],
             [
              0.1111111111111111,
              "#46039f"
             ],
             [
              0.2222222222222222,
              "#7201a8"
             ],
             [
              0.3333333333333333,
              "#9c179e"
             ],
             [
              0.4444444444444444,
              "#bd3786"
             ],
             [
              0.5555555555555556,
              "#d8576b"
             ],
             [
              0.6666666666666666,
              "#ed7953"
             ],
             [
              0.7777777777777778,
              "#fb9f3a"
             ],
             [
              0.8888888888888888,
              "#fdca26"
             ],
             [
              1,
              "#f0f921"
             ]
            ],
            "type": "contour"
           }
          ],
          "contourcarpet": [
           {
            "colorbar": {
             "outlinewidth": 0,
             "ticks": ""
            },
            "type": "contourcarpet"
           }
          ],
          "heatmap": [
           {
            "colorbar": {
             "outlinewidth": 0,
             "ticks": ""
            },
            "colorscale": [
             [
              0,
              "#0d0887"
             ],
             [
              0.1111111111111111,
              "#46039f"
             ],
             [
              0.2222222222222222,
              "#7201a8"
             ],
             [
              0.3333333333333333,
              "#9c179e"
             ],
             [
              0.4444444444444444,
              "#bd3786"
             ],
             [
              0.5555555555555556,
              "#d8576b"
             ],
             [
              0.6666666666666666,
              "#ed7953"
             ],
             [
              0.7777777777777778,
              "#fb9f3a"
             ],
             [
              0.8888888888888888,
              "#fdca26"
             ],
             [
              1,
              "#f0f921"
             ]
            ],
            "type": "heatmap"
           }
          ],
          "heatmapgl": [
           {
            "colorbar": {
             "outlinewidth": 0,
             "ticks": ""
            },
            "colorscale": [
             [
              0,
              "#0d0887"
             ],
             [
              0.1111111111111111,
              "#46039f"
             ],
             [
              0.2222222222222222,
              "#7201a8"
             ],
             [
              0.3333333333333333,
              "#9c179e"
             ],
             [
              0.4444444444444444,
              "#bd3786"
             ],
             [
              0.5555555555555556,
              "#d8576b"
             ],
             [
              0.6666666666666666,
              "#ed7953"
             ],
             [
              0.7777777777777778,
              "#fb9f3a"
             ],
             [
              0.8888888888888888,
              "#fdca26"
             ],
             [
              1,
              "#f0f921"
             ]
            ],
            "type": "heatmapgl"
           }
          ],
          "histogram": [
           {
            "marker": {
             "colorbar": {
              "outlinewidth": 0,
              "ticks": ""
             }
            },
            "type": "histogram"
           }
          ],
          "histogram2d": [
           {
            "colorbar": {
             "outlinewidth": 0,
             "ticks": ""
            },
            "colorscale": [
             [
              0,
              "#0d0887"
             ],
             [
              0.1111111111111111,
              "#46039f"
             ],
             [
              0.2222222222222222,
              "#7201a8"
             ],
             [
              0.3333333333333333,
              "#9c179e"
             ],
             [
              0.4444444444444444,
              "#bd3786"
             ],
             [
              0.5555555555555556,
              "#d8576b"
             ],
             [
              0.6666666666666666,
              "#ed7953"
             ],
             [
              0.7777777777777778,
              "#fb9f3a"
             ],
             [
              0.8888888888888888,
              "#fdca26"
             ],
             [
              1,
              "#f0f921"
             ]
            ],
            "type": "histogram2d"
           }
          ],
          "histogram2dcontour": [
           {
            "colorbar": {
             "outlinewidth": 0,
             "ticks": ""
            },
            "colorscale": [
             [
              0,
              "#0d0887"
             ],
             [
              0.1111111111111111,
              "#46039f"
             ],
             [
              0.2222222222222222,
              "#7201a8"
             ],
             [
              0.3333333333333333,
              "#9c179e"
             ],
             [
              0.4444444444444444,
              "#bd3786"
             ],
             [
              0.5555555555555556,
              "#d8576b"
             ],
             [
              0.6666666666666666,
              "#ed7953"
             ],
             [
              0.7777777777777778,
              "#fb9f3a"
             ],
             [
              0.8888888888888888,
              "#fdca26"
             ],
             [
              1,
              "#f0f921"
             ]
            ],
            "type": "histogram2dcontour"
           }
          ],
          "mesh3d": [
           {
            "colorbar": {
             "outlinewidth": 0,
             "ticks": ""
            },
            "type": "mesh3d"
           }
          ],
          "parcoords": [
           {
            "line": {
             "colorbar": {
              "outlinewidth": 0,
              "ticks": ""
             }
            },
            "type": "parcoords"
           }
          ],
          "pie": [
           {
            "automargin": true,
            "type": "pie"
           }
          ],
          "scatter": [
           {
            "marker": {
             "colorbar": {
              "outlinewidth": 0,
              "ticks": ""
             }
            },
            "type": "scatter"
           }
          ],
          "scatter3d": [
           {
            "line": {
             "colorbar": {
              "outlinewidth": 0,
              "ticks": ""
             }
            },
            "marker": {
             "colorbar": {
              "outlinewidth": 0,
              "ticks": ""
             }
            },
            "type": "scatter3d"
           }
          ],
          "scattercarpet": [
           {
            "marker": {
             "colorbar": {
              "outlinewidth": 0,
              "ticks": ""
             }
            },
            "type": "scattercarpet"
           }
          ],
          "scattergeo": [
           {
            "marker": {
             "colorbar": {
              "outlinewidth": 0,
              "ticks": ""
             }
            },
            "type": "scattergeo"
           }
          ],
          "scattergl": [
           {
            "marker": {
             "colorbar": {
              "outlinewidth": 0,
              "ticks": ""
             }
            },
            "type": "scattergl"
           }
          ],
          "scattermapbox": [
           {
            "marker": {
             "colorbar": {
              "outlinewidth": 0,
              "ticks": ""
             }
            },
            "type": "scattermapbox"
           }
          ],
          "scatterpolar": [
           {
            "marker": {
             "colorbar": {
              "outlinewidth": 0,
              "ticks": ""
             }
            },
            "type": "scatterpolar"
           }
          ],
          "scatterpolargl": [
           {
            "marker": {
             "colorbar": {
              "outlinewidth": 0,
              "ticks": ""
             }
            },
            "type": "scatterpolargl"
           }
          ],
          "scatterternary": [
           {
            "marker": {
             "colorbar": {
              "outlinewidth": 0,
              "ticks": ""
             }
            },
            "type": "scatterternary"
           }
          ],
          "surface": [
           {
            "colorbar": {
             "outlinewidth": 0,
             "ticks": ""
            },
            "colorscale": [
             [
              0,
              "#0d0887"
             ],
             [
              0.1111111111111111,
              "#46039f"
             ],
             [
              0.2222222222222222,
              "#7201a8"
             ],
             [
              0.3333333333333333,
              "#9c179e"
             ],
             [
              0.4444444444444444,
              "#bd3786"
             ],
             [
              0.5555555555555556,
              "#d8576b"
             ],
             [
              0.6666666666666666,
              "#ed7953"
             ],
             [
              0.7777777777777778,
              "#fb9f3a"
             ],
             [
              0.8888888888888888,
              "#fdca26"
             ],
             [
              1,
              "#f0f921"
             ]
            ],
            "type": "surface"
           }
          ],
          "table": [
           {
            "cells": {
             "fill": {
              "color": "#EBF0F8"
             },
             "line": {
              "color": "white"
             }
            },
            "header": {
             "fill": {
              "color": "#C8D4E3"
             },
             "line": {
              "color": "white"
             }
            },
            "type": "table"
           }
          ]
         },
         "layout": {
          "annotationdefaults": {
           "arrowcolor": "#2a3f5f",
           "arrowhead": 0,
           "arrowwidth": 1
          },
          "autotypenumbers": "strict",
          "coloraxis": {
           "colorbar": {
            "outlinewidth": 0,
            "ticks": ""
           }
          },
          "colorscale": {
           "diverging": [
            [
             0,
             "#8e0152"
            ],
            [
             0.1,
             "#c51b7d"
            ],
            [
             0.2,
             "#de77ae"
            ],
            [
             0.3,
             "#f1b6da"
            ],
            [
             0.4,
             "#fde0ef"
            ],
            [
             0.5,
             "#f7f7f7"
            ],
            [
             0.6,
             "#e6f5d0"
            ],
            [
             0.7,
             "#b8e186"
            ],
            [
             0.8,
             "#7fbc41"
            ],
            [
             0.9,
             "#4d9221"
            ],
            [
             1,
             "#276419"
            ]
           ],
           "sequential": [
            [
             0,
             "#0d0887"
            ],
            [
             0.1111111111111111,
             "#46039f"
            ],
            [
             0.2222222222222222,
             "#7201a8"
            ],
            [
             0.3333333333333333,
             "#9c179e"
            ],
            [
             0.4444444444444444,
             "#bd3786"
            ],
            [
             0.5555555555555556,
             "#d8576b"
            ],
            [
             0.6666666666666666,
             "#ed7953"
            ],
            [
             0.7777777777777778,
             "#fb9f3a"
            ],
            [
             0.8888888888888888,
             "#fdca26"
            ],
            [
             1,
             "#f0f921"
            ]
           ],
           "sequentialminus": [
            [
             0,
             "#0d0887"
            ],
            [
             0.1111111111111111,
             "#46039f"
            ],
            [
             0.2222222222222222,
             "#7201a8"
            ],
            [
             0.3333333333333333,
             "#9c179e"
            ],
            [
             0.4444444444444444,
             "#bd3786"
            ],
            [
             0.5555555555555556,
             "#d8576b"
            ],
            [
             0.6666666666666666,
             "#ed7953"
            ],
            [
             0.7777777777777778,
             "#fb9f3a"
            ],
            [
             0.8888888888888888,
             "#fdca26"
            ],
            [
             1,
             "#f0f921"
            ]
           ]
          },
          "colorway": [
           "#636efa",
           "#EF553B",
           "#00cc96",
           "#ab63fa",
           "#FFA15A",
           "#19d3f3",
           "#FF6692",
           "#B6E880",
           "#FF97FF",
           "#FECB52"
          ],
          "font": {
           "color": "#2a3f5f"
          },
          "geo": {
           "bgcolor": "white",
           "lakecolor": "white",
           "landcolor": "#E5ECF6",
           "showlakes": true,
           "showland": true,
           "subunitcolor": "white"
          },
          "hoverlabel": {
           "align": "left"
          },
          "hovermode": "closest",
          "mapbox": {
           "style": "light"
          },
          "paper_bgcolor": "white",
          "plot_bgcolor": "#E5ECF6",
          "polar": {
           "angularaxis": {
            "gridcolor": "white",
            "linecolor": "white",
            "ticks": ""
           },
           "bgcolor": "#E5ECF6",
           "radialaxis": {
            "gridcolor": "white",
            "linecolor": "white",
            "ticks": ""
           }
          },
          "scene": {
           "xaxis": {
            "backgroundcolor": "#E5ECF6",
            "gridcolor": "white",
            "gridwidth": 2,
            "linecolor": "white",
            "showbackground": true,
            "ticks": "",
            "zerolinecolor": "white"
           },
           "yaxis": {
            "backgroundcolor": "#E5ECF6",
            "gridcolor": "white",
            "gridwidth": 2,
            "linecolor": "white",
            "showbackground": true,
            "ticks": "",
            "zerolinecolor": "white"
           },
           "zaxis": {
            "backgroundcolor": "#E5ECF6",
            "gridcolor": "white",
            "gridwidth": 2,
            "linecolor": "white",
            "showbackground": true,
            "ticks": "",
            "zerolinecolor": "white"
           }
          },
          "shapedefaults": {
           "line": {
            "color": "#2a3f5f"
           }
          },
          "ternary": {
           "aaxis": {
            "gridcolor": "white",
            "linecolor": "white",
            "ticks": ""
           },
           "baxis": {
            "gridcolor": "white",
            "linecolor": "white",
            "ticks": ""
           },
           "bgcolor": "#E5ECF6",
           "caxis": {
            "gridcolor": "white",
            "linecolor": "white",
            "ticks": ""
           }
          },
          "title": {
           "x": 0.05
          },
          "xaxis": {
           "automargin": true,
           "gridcolor": "white",
           "linecolor": "white",
           "ticks": "",
           "title": {
            "standoff": 15
           },
           "zerolinecolor": "white",
           "zerolinewidth": 2
          },
          "yaxis": {
           "automargin": true,
           "gridcolor": "white",
           "linecolor": "white",
           "ticks": "",
           "title": {
            "standoff": 15
           },
           "zerolinecolor": "white",
           "zerolinewidth": 2
          }
         }
        },
        "title": {
         "text": "Average Monthly Salary Deposits"
        },
        "uniformtext": {
         "minsize": 8,
         "mode": "hide"
        },
        "xaxis": {
         "anchor": "y",
         "autorange": true,
         "domain": [
          0,
          1
         ],
         "range": [
          -0.5,
          70.5
         ],
         "title": {
          "text": "Customer ID"
         },
         "type": "category"
        },
        "yaxis": {
         "anchor": "x",
         "autorange": true,
         "domain": [
          0,
          1
         ],
         "range": [
          0,
          28412.673684210527
         ],
         "title": {
          "text": "Amount in $"
         },
         "type": "linear"
        }
       }
      },
      "image/png": "[encoded data removed]",
      "text/html": [
       "<div>                            <div id=\"541428d4-6021-4688-81ac-f247a92f2143\" class=\"plotly-graph-div\" style=\"height:525px; width:100%;\"></div>            <script type=\"text/javascript\">                require([\"plotly\"], function(Plotly) {                    window.PLOTLYENV=window.PLOTLYENV || {};                                    if (document.getElementById(\"541428d4-6021-4688-81ac-f247a92f2143\")) {                    Plotly.newPlot(                        \"541428d4-6021-4688-81ac-f247a92f2143\",                        [{\"alignmentgroup\": \"True\", \"hovertemplate\": \"variable=monthly_salary<br>Customer ID=%{x}<br>Amount in $=%{y}<extra></extra>\", \"legendgroup\": \"monthly_salary\", \"marker\": {\"color\": \"#636efa\"}, \"name\": \"monthly_salary\", \"offsetgroup\": \"monthly_salary\", \"orientation\": \"v\", \"showlegend\": true, \"textposition\": \"auto\", \"type\": \"bar\", \"x\": [\"AA1001\", \"AA1056\", \"AA1066\", \"AA1133\", \"AA1142\", \"AA1242\", \"AA1225\", \"AA1238\", \"AA1276\", \"AA1301\", \"AA1307\", \"AA1382\", \"AA1401\", \"AA1396\", \"AA1418\", \"AA1455\", \"AA1480\", \"AA1478\", \"AA1520\", \"AA1521\", \"AA516\", \"AA541\", \"AA546\", \"AA555\", \"AA557\", \"AA562\", \"AA564\", \"AA569\", \"AA573\", \"AA575\", \"AA579\", \"AA582\", \"AA581\", \"AA586\", \"AA588\", \"AA592\", \"AA598\", \"AA595\", \"AA597\", \"AA600\", \"AA601\", \"AA604\", \"AA607\", \"AA608\", \"AA614\", \"AA616\", \"AA618\", \"AA619\", \"AA622\", \"AA633\", \"AA634\", \"AA635\", \"AA638\", \"AA640\", \"AA698\", \"AA704\", \"AA707\", \"AA736\", \"AA747\", \"AA756\", \"AA809\", \"AA796\", \"AA805\", \"AA812\", \"AA815\", \"AA863\", \"AA896\", \"AA920\", \"AA916\", \"AA930\", \"AA982\"], \"xaxis\": \"x\", \"y\": [3617.13, 7777.74, 1556.43, 4666.34, 1.0, 144.17, 916.12, 1314.64, 543.12, 5205.33, 2089.09, 3522.46, 26992.04, 880.53, 2577.62, 296.66, 3736.64, 881.58, 5345.06, 4263.48, 3534.07, 5605.6, 3519.7, 5605.6, 3000.49, 3609.91, 6091.57, 6091.57, 3429.54, 6774.63, 1469.73, 5605.6, 3609.91, 6091.57, 6774.63, 5605.6, 1932.26, 4491.91, 1469.73, 3519.7, 4491.91, 5495.98, 3609.91, 5495.98, 3603.84, 871.32, 5495.98, 6727.77, 5495.98, 3349.44, 3425.1, 5386.36, 466.6, 1981.6, 5569.88, 4640.88, 5915.25, 1.08, 1250.99, 1255.44, 3304.5, 276.98, 5133.8, 0.28, 12821.81, 102.5, 1708.39, 4675.15, 192.3, 3751.1, 1320.95], \"yaxis\": \"y\"}],                        {\"barmode\": \"relative\", \"legend\": {\"title\": {\"text\": \"variable\"}, \"tracegroupgap\": 0}, \"template\": {\"data\": {\"bar\": [{\"error_x\": {\"color\": \"#2a3f5f\"}, \"error_y\": {\"color\": \"#2a3f5f\"}, \"marker\": {\"line\": {\"color\": \"#E5ECF6\", \"width\": 0.5}}, \"type\": \"bar\"}], \"barpolar\": [{\"marker\": {\"line\": {\"color\": \"#E5ECF6\", \"width\": 0.5}}, \"type\": \"barpolar\"}], \"carpet\": [{\"aaxis\": {\"endlinecolor\": \"#2a3f5f\", \"gridcolor\": \"white\", \"linecolor\": \"white\", \"minorgridcolor\": \"white\", \"startlinecolor\": \"#2a3f5f\"}, \"baxis\": {\"endlinecolor\": \"#2a3f5f\", \"gridcolor\": \"white\", \"linecolor\": \"white\", \"minorgridcolor\": \"white\", \"startlinecolor\": \"#2a3f5f\"}, \"type\": \"carpet\"}], \"choropleth\": [{\"colorbar\": {\"outlinewidth\": 0, \"ticks\": \"\"}, \"type\": \"choropleth\"}], \"contour\": [{\"colorbar\": {\"outlinewidth\": 0, \"ticks\": \"\"}, \"colorscale\": [[0.0, \"#0d0887\"], [0.1111111111111111, \"#46039f\"], [0.2222222222222222, \"#7201a8\"], [0.3333333333333333, \"#9c179e\"], [0.4444444444444444, \"#bd3786\"], [0.5555555555555556, \"#d8576b\"], [0.6666666666666666, \"#ed7953\"], [0.7777777777777778, \"#fb9f3a\"], [0.8888888888888888, \"#fdca26\"], [1.0, \"#f0f921\"]], \"type\": \"contour\"}], \"contourcarpet\": [{\"colorbar\": {\"outlinewidth\": 0, \"ticks\": \"\"}, \"type\": \"contourcarpet\"}], \"heatmap\": [{\"colorbar\": {\"outlinewidth\": 0, \"ticks\": \"\"}, \"colorscale\": [[0.0, \"#0d0887\"], [0.1111111111111111, \"#46039f\"], [0.2222222222222222, \"#7201a8\"], [0.3333333333333333, \"#9c179e\"], [0.4444444444444444, \"#bd3786\"], [0.5555555555555556, \"#d8576b\"], [0.6666666666666666, \"#ed7953\"], [0.7777777777777778, \"#fb9f3a\"], [0.8888888888888888, \"#fdca26\"], [1.0, \"#f0f921\"]], \"type\": \"heatmap\"}], \"heatmapgl\": [{\"colorbar\": {\"outlinewidth\": 0, \"ticks\": \"\"}, \"colorscale\": [[0.0, \"#0d0887\"], [0.1111111111111111, \"#46039f\"], [0.2222222222222222, \"#7201a8\"], [0.3333333333333333, \"#9c179e\"], [0.4444444444444444, \"#bd3786\"], [0.5555555555555556, \"#d8576b\"], [0.6666666666666666, \"#ed7953\"], [0.7777777777777778, \"#fb9f3a\"], [0.8888888888888888, \"#fdca26\"], [1.0, \"#f0f921\"]], \"type\": \"heatmapgl\"}], \"histogram\": [{\"marker\": {\"colorbar\": {\"outlinewidth\": 0, \"ticks\": \"\"}}, \"type\": \"histogram\"}], \"histogram2d\": [{\"colorbar\": {\"outlinewidth\": 0, \"ticks\": \"\"}, \"colorscale\": [[0.0, \"#0d0887\"], [0.1111111111111111, \"#46039f\"], [0.2222222222222222, \"#7201a8\"], [0.3333333333333333, \"#9c179e\"], [0.4444444444444444, \"#bd3786\"], [0.5555555555555556, \"#d8576b\"], [0.6666666666666666, \"#ed7953\"], [0.7777777777777778, \"#fb9f3a\"], [0.8888888888888888, \"#fdca26\"], [1.0, \"#f0f921\"]], \"type\": \"histogram2d\"}], \"histogram2dcontour\": [{\"colorbar\": {\"outlinewidth\": 0, \"ticks\": \"\"}, \"colorscale\": [[0.0, \"#0d0887\"], [0.1111111111111111, \"#46039f\"], [0.2222222222222222, \"#7201a8\"], [0.3333333333333333, \"#9c179e\"], [0.4444444444444444, \"#bd3786\"], [0.5555555555555556, \"#d8576b\"], [0.6666666666666666, \"#ed7953\"], [0.7777777777777778, \"#fb9f3a\"], [0.8888888888888888, \"#fdca26\"], [1.0, \"#f0f921\"]], \"type\": \"histogram2dcontour\"}], \"mesh3d\": [{\"colorbar\": {\"outlinewidth\": 0, \"ticks\": \"\"}, \"type\": \"mesh3d\"}], \"parcoords\": [{\"line\": {\"colorbar\": {\"outlinewidth\": 0, \"ticks\": \"\"}}, \"type\": \"parcoords\"}], \"pie\": [{\"automargin\": true, \"type\": \"pie\"}], \"scatter\": [{\"marker\": {\"colorbar\": {\"outlinewidth\": 0, \"ticks\": \"\"}}, \"type\": \"scatter\"}], \"scatter3d\": [{\"line\": {\"colorbar\": {\"outlinewidth\": 0, \"ticks\": \"\"}}, \"marker\": {\"colorbar\": {\"outlinewidth\": 0, \"ticks\": \"\"}}, \"type\": \"scatter3d\"}], \"scattercarpet\": [{\"marker\": {\"colorbar\": {\"outlinewidth\": 0, \"ticks\": \"\"}}, \"type\": \"scattercarpet\"}], \"scattergeo\": [{\"marker\": {\"colorbar\": {\"outlinewidth\": 0, \"ticks\": \"\"}}, \"type\": \"scattergeo\"}], \"scattergl\": [{\"marker\": {\"colorbar\": {\"outlinewidth\": 0, \"ticks\": \"\"}}, \"type\": \"scattergl\"}], \"scattermapbox\": [{\"marker\": {\"colorbar\": {\"outlinewidth\": 0, \"ticks\": \"\"}}, \"type\": \"scattermapbox\"}], \"scatterpolar\": [{\"marker\": {\"colorbar\": {\"outlinewidth\": 0, \"ticks\": \"\"}}, \"type\": \"scatterpolar\"}], \"scatterpolargl\": [{\"marker\": {\"colorbar\": {\"outlinewidth\": 0, \"ticks\": \"\"}}, \"type\": \"scatterpolargl\"}], \"scatterternary\": [{\"marker\": {\"colorbar\": {\"outlinewidth\": 0, \"ticks\": \"\"}}, \"type\": \"scatterternary\"}], \"surface\": [{\"colorbar\": {\"outlinewidth\": 0, \"ticks\": \"\"}, \"colorscale\": [[0.0, \"#0d0887\"], [0.1111111111111111, \"#46039f\"], [0.2222222222222222, \"#7201a8\"], [0.3333333333333333, \"#9c179e\"], [0.4444444444444444, \"#bd3786\"], [0.5555555555555556, \"#d8576b\"], [0.6666666666666666, \"#ed7953\"], [0.7777777777777778, \"#fb9f3a\"], [0.8888888888888888, \"#fdca26\"], [1.0, \"#f0f921\"]], \"type\": \"surface\"}], \"table\": [{\"cells\": {\"fill\": {\"color\": \"#EBF0F8\"}, \"line\": {\"color\": \"white\"}}, \"header\": {\"fill\": {\"color\": \"#C8D4E3\"}, \"line\": {\"color\": \"white\"}}, \"type\": \"table\"}]}, \"layout\": {\"annotationdefaults\": {\"arrowcolor\": \"#2a3f5f\", \"arrowhead\": 0, \"arrowwidth\": 1}, \"autotypenumbers\": \"strict\", \"coloraxis\": {\"colorbar\": {\"outlinewidth\": 0, \"ticks\": \"\"}}, \"colorscale\": {\"diverging\": [[0, \"#8e0152\"], [0.1, \"#c51b7d\"], [0.2, \"#de77ae\"], [0.3, \"#f1b6da\"], [0.4, \"#fde0ef\"], [0.5, \"#f7f7f7\"], [0.6, \"#e6f5d0\"], [0.7, \"#b8e186\"], [0.8, \"#7fbc41\"], [0.9, \"#4d9221\"], [1, \"#276419\"]], \"sequential\": [[0.0, \"#0d0887\"], [0.1111111111111111, \"#46039f\"], [0.2222222222222222, \"#7201a8\"], [0.3333333333333333, \"#9c179e\"], [0.4444444444444444, \"#bd3786\"], [0.5555555555555556, \"#d8576b\"], [0.6666666666666666, \"#ed7953\"], [0.7777777777777778, \"#fb9f3a\"], [0.8888888888888888, \"#fdca26\"], [1.0, \"#f0f921\"]], \"sequentialminus\": [[0.0, \"#0d0887\"], [0.1111111111111111, \"#46039f\"], [0.2222222222222222, \"#7201a8\"], [0.3333333333333333, \"#9c179e\"], [0.4444444444444444, \"#bd3786\"], [0.5555555555555556, \"#d8576b\"], [0.6666666666666666, \"#ed7953\"], [0.7777777777777778, \"#fb9f3a\"], [0.8888888888888888, \"#fdca26\"], [1.0, \"#f0f921\"]]}, \"colorway\": [\"#636efa\", \"#EF553B\", \"#00cc96\", \"#ab63fa\", \"#FFA15A\", \"#19d3f3\", \"#FF6692\", \"#B6E880\", \"#FF97FF\", \"#FECB52\"], \"font\": {\"color\": \"#2a3f5f\"}, \"geo\": {\"bgcolor\": \"white\", \"lakecolor\": \"white\", \"landcolor\": \"#E5ECF6\", \"showlakes\": true, \"showland\": true, \"subunitcolor\": \"white\"}, \"hoverlabel\": {\"align\": \"left\"}, \"hovermode\": \"closest\", \"mapbox\": {\"style\": \"light\"}, \"paper_bgcolor\": \"white\", \"plot_bgcolor\": \"#E5ECF6\", \"polar\": {\"angularaxis\": {\"gridcolor\": \"white\", \"linecolor\": \"white\", \"ticks\": \"\"}, \"bgcolor\": \"#E5ECF6\", \"radialaxis\": {\"gridcolor\": \"white\", \"linecolor\": \"white\", \"ticks\": \"\"}}, \"scene\": {\"xaxis\": {\"backgroundcolor\": \"#E5ECF6\", \"gridcolor\": \"white\", \"gridwidth\": 2, \"linecolor\": \"white\", \"showbackground\": true, \"ticks\": \"\", \"zerolinecolor\": \"white\"}, \"yaxis\": {\"backgroundcolor\": \"#E5ECF6\", \"gridcolor\": \"white\", \"gridwidth\": 2, \"linecolor\": \"white\", \"showbackground\": true, \"ticks\": \"\", \"zerolinecolor\": \"white\"}, \"zaxis\": {\"backgroundcolor\": \"#E5ECF6\", \"gridcolor\": \"white\", \"gridwidth\": 2, \"linecolor\": \"white\", \"showbackground\": true, \"ticks\": \"\", \"zerolinecolor\": \"white\"}}, \"shapedefaults\": {\"line\": {\"color\": \"#2a3f5f\"}}, \"ternary\": {\"aaxis\": {\"gridcolor\": \"white\", \"linecolor\": \"white\", \"ticks\": \"\"}, \"baxis\": {\"gridcolor\": \"white\", \"linecolor\": \"white\", \"ticks\": \"\"}, \"bgcolor\": \"#E5ECF6\", \"caxis\": {\"gridcolor\": \"white\", \"linecolor\": \"white\", \"ticks\": \"\"}}, \"title\": {\"x\": 0.05}, \"xaxis\": {\"automargin\": true, \"gridcolor\": \"white\", \"linecolor\": \"white\", \"ticks\": \"\", \"title\": {\"standoff\": 15}, \"zerolinecolor\": \"white\", \"zerolinewidth\": 2}, \"yaxis\": {\"automargin\": true, \"gridcolor\": \"white\", \"linecolor\": \"white\", \"ticks\": \"\", \"title\": {\"standoff\": 15}, \"zerolinecolor\": \"white\", \"zerolinewidth\": 2}}}, \"title\": {\"text\": \"Average Monthly Salary Deposits\"}, \"uniformtext\": {\"minsize\": 8, \"mode\": \"hide\"}, \"xaxis\": {\"anchor\": \"y\", \"domain\": [0.0, 1.0], \"title\": {\"text\": \"Customer ID\"}}, \"yaxis\": {\"anchor\": \"x\", \"domain\": [0.0, 1.0], \"title\": {\"text\": \"Amount in $\"}}},                        {\"responsive\": true}                    ).then(function(){\n",
       "                            \n",
       "var gd = document.getElementById('541428d4-6021-4688-81ac-f247a92f2143');\n",
       "var x = new MutationObserver(function (mutations, observer) {{\n",
       "        var display = window.getComputedStyle(gd).display;\n",
       "        if (!display || display === 'none') {{\n",
       "            console.log([gd, 'removed!']);\n",
       "            Plotly.purge(gd);\n",
       "            observer.disconnect();\n",
       "        }}\n",
       "}});\n",
       "\n",
       "// Listen for the removal of the full notebook cells\n",
       "var notebookContainer = gd.closest('#notebook-container');\n",
       "if (notebookContainer) {{\n",
       "    x.observe(notebookContainer, {childList: true});\n",
       "}}\n",
       "\n",
       "// Listen for the clearing of the current output cell\n",
       "var outputEl = gd.closest('.output');\n",
       "if (outputEl) {{\n",
       "    x.observe(outputEl, {childList: true});\n",
       "}}\n",
       "\n",
       "                        })                };                });            </script>        </div>"
      ]
     },
     "metadata": {},
     "output_type": "display_data"
    }
   ],
   "source": [
    "fig = px.bar(monthly_deposit_DataFrame, title=\"Average Monthly Salary Deposits\", \n",
    "            labels={\"value\": \"Amount in $\", \"index\": \"Customer ID\"})\n",
    "fig.update_layout(uniformtext_minsize=8, uniformtext_mode='hide')\n",
    "fig.show()"
   ]
  },
  {
   "cell_type": "code",
   "execution_count": 60,
   "id": "adjusted-anthony",
   "metadata": {},
   "outputs": [],
   "source": [
    "# ax = monthly_deposit_DataFrame.plot.bar(figsize=(20, 10), title=\"Average Monthly deposits\", xlabel=\"Customer ID\", ylabel=\"Amount in $\")"
   ]
  },
  {
   "cell_type": "code",
   "execution_count": 31,
   "id": "speaking-chance",
   "metadata": {},
   "outputs": [
    {
     "data": {
      "text/html": [
       "<div>\n",
       "<style scoped>\n",
       "    .dataframe tbody tr th:only-of-type {\n",
       "        vertical-align: middle;\n",
       "    }\n",
       "\n",
       "    .dataframe tbody tr th {\n",
       "        vertical-align: top;\n",
       "    }\n",
       "\n",
       "    .dataframe thead th {\n",
       "        text-align: right;\n",
       "    }\n",
       "</style>\n",
       "<table border=\"1\" class=\"dataframe\">\n",
       "  <thead>\n",
       "    <tr style=\"text-align: right;\">\n",
       "      <th></th>\n",
       "      <th>Annual_salary</th>\n",
       "    </tr>\n",
       "  </thead>\n",
       "  <tbody>\n",
       "    <tr>\n",
       "      <th>AA1001</th>\n",
       "      <td>43405.56</td>\n",
       "    </tr>\n",
       "    <tr>\n",
       "      <th>AA1056</th>\n",
       "      <td>93332.88</td>\n",
       "    </tr>\n",
       "    <tr>\n",
       "      <th>AA1066</th>\n",
       "      <td>18677.16</td>\n",
       "    </tr>\n",
       "    <tr>\n",
       "      <th>AA1133</th>\n",
       "      <td>55996.08</td>\n",
       "    </tr>\n",
       "    <tr>\n",
       "      <th>AA1142</th>\n",
       "      <td>12.00</td>\n",
       "    </tr>\n",
       "  </tbody>\n",
       "</table>\n",
       "</div>"
      ],
      "text/plain": [
       "        Annual_salary\n",
       "AA1001       43405.56\n",
       "AA1056       93332.88\n",
       "AA1066       18677.16\n",
       "AA1133       55996.08\n",
       "AA1142          12.00"
      ]
     },
     "execution_count": 31,
     "metadata": {},
     "output_type": "execute_result"
    }
   ],
   "source": [
    "annual_salary_DataFrame = pd.DataFrame.from_dict(annual_salary_estimate, orient='index', columns=[\"Annual_salary\"])\n",
    "annual_salary_DataFrame.head()"
   ]
  },
  {
   "cell_type": "code",
   "execution_count": 57,
   "id": "adjusted-pledge",
   "metadata": {},
   "outputs": [
    {
     "data": {
      "application/vnd.plotly.v1+json": {
       "config": {
        "plotlyServerURL": "https://plot.ly"
       },
       "data": [
        {
         "alignmentgroup": "True",
         "hovertemplate": "variable=Annual_salary<br>Customer ID=%{x}<br>Amount in $=%{y}<extra></extra>",
         "legendgroup": "Annual_salary",
         "marker": {
          "color": "#636efa"
         },
         "name": "Annual_salary",
         "offsetgroup": "Annual_salary",
         "orientation": "v",
         "showlegend": true,
         "textposition": "auto",
         "type": "bar",
         "x": [
          "AA1001",
          "AA1056",
          "AA1066",
          "AA1133",
          "AA1142",
          "AA1242",
          "AA1225",
          "AA1238",
          "AA1276",
          "AA1301",
          "AA1307",
          "AA1382",
          "AA1401",
          "AA1396",
          "AA1418",
          "AA1455",
          "AA1480",
          "AA1478",
          "AA1520",
          "AA1521",
          "AA516",
          "AA541",
          "AA546",
          "AA555",
          "AA557",
          "AA562",
          "AA564",
          "AA569",
          "AA573",
          "AA575",
          "AA579",
          "AA582",
          "AA581",
          "AA586",
          "AA588",
          "AA592",
          "AA598",
          "AA595",
          "AA597",
          "AA600",
          "AA601",
          "AA604",
          "AA607",
          "AA608",
          "AA614",
          "AA616",
          "AA618",
          "AA619",
          "AA622",
          "AA633",
          "AA634",
          "AA635",
          "AA638",
          "AA640",
          "AA698",
          "AA704",
          "AA707",
          "AA736",
          "AA747",
          "AA756",
          "AA809",
          "AA796",
          "AA805",
          "AA812",
          "AA815",
          "AA863",
          "AA896",
          "AA920",
          "AA916",
          "AA930",
          "AA982"
         ],
         "xaxis": "x",
         "y": [
          43405.56,
          93332.88,
          18677.16,
          55996.08,
          12,
          1730.04,
          10993.44,
          15775.68,
          6517.44,
          62463.96,
          25069.08,
          42269.52,
          323904.48,
          10566.36,
          30931.44,
          3559.92,
          44839.68,
          10578.96,
          64140.72,
          51161.76,
          42408.84,
          67267.2,
          42236.4,
          67267.2,
          36005.88,
          43318.92,
          73098.84,
          73098.84,
          41154.48,
          81295.56,
          17636.76,
          67267.2,
          43318.92,
          73098.84,
          81295.56,
          67267.2,
          23187.12,
          53902.92,
          17636.76,
          42236.4,
          53902.92,
          65951.76,
          43318.92,
          65951.76,
          43246.08,
          10455.84,
          65951.76,
          80733.24,
          65951.76,
          40193.28,
          41101.2,
          64636.32,
          5599.2,
          23779.2,
          66838.56,
          55690.56,
          70983,
          12.96,
          15011.88,
          15065.28,
          39654,
          3323.76,
          61605.6,
          3.36,
          153861.72,
          1230,
          20500.68,
          56101.8,
          2307.6,
          45013.2,
          15851.4
         ],
         "yaxis": "y"
        }
       ],
       "layout": {
        "autosize": true,
        "barmode": "relative",
        "legend": {
         "title": {
          "text": "variable"
         },
         "tracegroupgap": 0
        },
        "template": {
         "data": {
          "bar": [
           {
            "error_x": {
             "color": "#2a3f5f"
            },
            "error_y": {
             "color": "#2a3f5f"
            },
            "marker": {
             "line": {
              "color": "#E5ECF6",
              "width": 0.5
             }
            },
            "type": "bar"
           }
          ],
          "barpolar": [
           {
            "marker": {
             "line": {
              "color": "#E5ECF6",
              "width": 0.5
             }
            },
            "type": "barpolar"
           }
          ],
          "carpet": [
           {
            "aaxis": {
             "endlinecolor": "#2a3f5f",
             "gridcolor": "white",
             "linecolor": "white",
             "minorgridcolor": "white",
             "startlinecolor": "#2a3f5f"
            },
            "baxis": {
             "endlinecolor": "#2a3f5f",
             "gridcolor": "white",
             "linecolor": "white",
             "minorgridcolor": "white",
             "startlinecolor": "#2a3f5f"
            },
            "type": "carpet"
           }
          ],
          "choropleth": [
           {
            "colorbar": {
             "outlinewidth": 0,
             "ticks": ""
            },
            "type": "choropleth"
           }
          ],
          "contour": [
           {
            "colorbar": {
             "outlinewidth": 0,
             "ticks": ""
            },
            "colorscale": [
             [
              0,
              "#0d0887"
             ],
             [
              0.1111111111111111,
              "#46039f"
             ],
             [
              0.2222222222222222,
              "#7201a8"
             ],
             [
              0.3333333333333333,
              "#9c179e"
             ],
             [
              0.4444444444444444,
              "#bd3786"
             ],
             [
              0.5555555555555556,
              "#d8576b"
             ],
             [
              0.6666666666666666,
              "#ed7953"
             ],
             [
              0.7777777777777778,
              "#fb9f3a"
             ],
             [
              0.8888888888888888,
              "#fdca26"
             ],
             [
              1,
              "#f0f921"
             ]
            ],
            "type": "contour"
           }
          ],
          "contourcarpet": [
           {
            "colorbar": {
             "outlinewidth": 0,
             "ticks": ""
            },
            "type": "contourcarpet"
           }
          ],
          "heatmap": [
           {
            "colorbar": {
             "outlinewidth": 0,
             "ticks": ""
            },
            "colorscale": [
             [
              0,
              "#0d0887"
             ],
             [
              0.1111111111111111,
              "#46039f"
             ],
             [
              0.2222222222222222,
              "#7201a8"
             ],
             [
              0.3333333333333333,
              "#9c179e"
             ],
             [
              0.4444444444444444,
              "#bd3786"
             ],
             [
              0.5555555555555556,
              "#d8576b"
             ],
             [
              0.6666666666666666,
              "#ed7953"
             ],
             [
              0.7777777777777778,
              "#fb9f3a"
             ],
             [
              0.8888888888888888,
              "#fdca26"
             ],
             [
              1,
              "#f0f921"
             ]
            ],
            "type": "heatmap"
           }
          ],
          "heatmapgl": [
           {
            "colorbar": {
             "outlinewidth": 0,
             "ticks": ""
            },
            "colorscale": [
             [
              0,
              "#0d0887"
             ],
             [
              0.1111111111111111,
              "#46039f"
             ],
             [
              0.2222222222222222,
              "#7201a8"
             ],
             [
              0.3333333333333333,
              "#9c179e"
             ],
             [
              0.4444444444444444,
              "#bd3786"
             ],
             [
              0.5555555555555556,
              "#d8576b"
             ],
             [
              0.6666666666666666,
              "#ed7953"
             ],
             [
              0.7777777777777778,
              "#fb9f3a"
             ],
             [
              0.8888888888888888,
              "#fdca26"
             ],
             [
              1,
              "#f0f921"
             ]
            ],
            "type": "heatmapgl"
           }
          ],
          "histogram": [
           {
            "marker": {
             "colorbar": {
              "outlinewidth": 0,
              "ticks": ""
             }
            },
            "type": "histogram"
           }
          ],
          "histogram2d": [
           {
            "colorbar": {
             "outlinewidth": 0,
             "ticks": ""
            },
            "colorscale": [
             [
              0,
              "#0d0887"
             ],
             [
              0.1111111111111111,
              "#46039f"
             ],
             [
              0.2222222222222222,
              "#7201a8"
             ],
             [
              0.3333333333333333,
              "#9c179e"
             ],
             [
              0.4444444444444444,
              "#bd3786"
             ],
             [
              0.5555555555555556,
              "#d8576b"
             ],
             [
              0.6666666666666666,
              "#ed7953"
             ],
             [
              0.7777777777777778,
              "#fb9f3a"
             ],
             [
              0.8888888888888888,
              "#fdca26"
             ],
             [
              1,
              "#f0f921"
             ]
            ],
            "type": "histogram2d"
           }
          ],
          "histogram2dcontour": [
           {
            "colorbar": {
             "outlinewidth": 0,
             "ticks": ""
            },
            "colorscale": [
             [
              0,
              "#0d0887"
             ],
             [
              0.1111111111111111,
              "#46039f"
             ],
             [
              0.2222222222222222,
              "#7201a8"
             ],
             [
              0.3333333333333333,
              "#9c179e"
             ],
             [
              0.4444444444444444,
              "#bd3786"
             ],
             [
              0.5555555555555556,
              "#d8576b"
             ],
             [
              0.6666666666666666,
              "#ed7953"
             ],
             [
              0.7777777777777778,
              "#fb9f3a"
             ],
             [
              0.8888888888888888,
              "#fdca26"
             ],
             [
              1,
              "#f0f921"
             ]
            ],
            "type": "histogram2dcontour"
           }
          ],
          "mesh3d": [
           {
            "colorbar": {
             "outlinewidth": 0,
             "ticks": ""
            },
            "type": "mesh3d"
           }
          ],
          "parcoords": [
           {
            "line": {
             "colorbar": {
              "outlinewidth": 0,
              "ticks": ""
             }
            },
            "type": "parcoords"
           }
          ],
          "pie": [
           {
            "automargin": true,
            "type": "pie"
           }
          ],
          "scatter": [
           {
            "marker": {
             "colorbar": {
              "outlinewidth": 0,
              "ticks": ""
             }
            },
            "type": "scatter"
           }
          ],
          "scatter3d": [
           {
            "line": {
             "colorbar": {
              "outlinewidth": 0,
              "ticks": ""
             }
            },
            "marker": {
             "colorbar": {
              "outlinewidth": 0,
              "ticks": ""
             }
            },
            "type": "scatter3d"
           }
          ],
          "scattercarpet": [
           {
            "marker": {
             "colorbar": {
              "outlinewidth": 0,
              "ticks": ""
             }
            },
            "type": "scattercarpet"
           }
          ],
          "scattergeo": [
           {
            "marker": {
             "colorbar": {
              "outlinewidth": 0,
              "ticks": ""
             }
            },
            "type": "scattergeo"
           }
          ],
          "scattergl": [
           {
            "marker": {
             "colorbar": {
              "outlinewidth": 0,
              "ticks": ""
             }
            },
            "type": "scattergl"
           }
          ],
          "scattermapbox": [
           {
            "marker": {
             "colorbar": {
              "outlinewidth": 0,
              "ticks": ""
             }
            },
            "type": "scattermapbox"
           }
          ],
          "scatterpolar": [
           {
            "marker": {
             "colorbar": {
              "outlinewidth": 0,
              "ticks": ""
             }
            },
            "type": "scatterpolar"
           }
          ],
          "scatterpolargl": [
           {
            "marker": {
             "colorbar": {
              "outlinewidth": 0,
              "ticks": ""
             }
            },
            "type": "scatterpolargl"
           }
          ],
          "scatterternary": [
           {
            "marker": {
             "colorbar": {
              "outlinewidth": 0,
              "ticks": ""
             }
            },
            "type": "scatterternary"
           }
          ],
          "surface": [
           {
            "colorbar": {
             "outlinewidth": 0,
             "ticks": ""
            },
            "colorscale": [
             [
              0,
              "#0d0887"
             ],
             [
              0.1111111111111111,
              "#46039f"
             ],
             [
              0.2222222222222222,
              "#7201a8"
             ],
             [
              0.3333333333333333,
              "#9c179e"
             ],
             [
              0.4444444444444444,
              "#bd3786"
             ],
             [
              0.5555555555555556,
              "#d8576b"
             ],
             [
              0.6666666666666666,
              "#ed7953"
             ],
             [
              0.7777777777777778,
              "#fb9f3a"
             ],
             [
              0.8888888888888888,
              "#fdca26"
             ],
             [
              1,
              "#f0f921"
             ]
            ],
            "type": "surface"
           }
          ],
          "table": [
           {
            "cells": {
             "fill": {
              "color": "#EBF0F8"
             },
             "line": {
              "color": "white"
             }
            },
            "header": {
             "fill": {
              "color": "#C8D4E3"
             },
             "line": {
              "color": "white"
             }
            },
            "type": "table"
           }
          ]
         },
         "layout": {
          "annotationdefaults": {
           "arrowcolor": "#2a3f5f",
           "arrowhead": 0,
           "arrowwidth": 1
          },
          "autotypenumbers": "strict",
          "coloraxis": {
           "colorbar": {
            "outlinewidth": 0,
            "ticks": ""
           }
          },
          "colorscale": {
           "diverging": [
            [
             0,
             "#8e0152"
            ],
            [
             0.1,
             "#c51b7d"
            ],
            [
             0.2,
             "#de77ae"
            ],
            [
             0.3,
             "#f1b6da"
            ],
            [
             0.4,
             "#fde0ef"
            ],
            [
             0.5,
             "#f7f7f7"
            ],
            [
             0.6,
             "#e6f5d0"
            ],
            [
             0.7,
             "#b8e186"
            ],
            [
             0.8,
             "#7fbc41"
            ],
            [
             0.9,
             "#4d9221"
            ],
            [
             1,
             "#276419"
            ]
           ],
           "sequential": [
            [
             0,
             "#0d0887"
            ],
            [
             0.1111111111111111,
             "#46039f"
            ],
            [
             0.2222222222222222,
             "#7201a8"
            ],
            [
             0.3333333333333333,
             "#9c179e"
            ],
            [
             0.4444444444444444,
             "#bd3786"
            ],
            [
             0.5555555555555556,
             "#d8576b"
            ],
            [
             0.6666666666666666,
             "#ed7953"
            ],
            [
             0.7777777777777778,
             "#fb9f3a"
            ],
            [
             0.8888888888888888,
             "#fdca26"
            ],
            [
             1,
             "#f0f921"
            ]
           ],
           "sequentialminus": [
            [
             0,
             "#0d0887"
            ],
            [
             0.1111111111111111,
             "#46039f"
            ],
            [
             0.2222222222222222,
             "#7201a8"
            ],
            [
             0.3333333333333333,
             "#9c179e"
            ],
            [
             0.4444444444444444,
             "#bd3786"
            ],
            [
             0.5555555555555556,
             "#d8576b"
            ],
            [
             0.6666666666666666,
             "#ed7953"
            ],
            [
             0.7777777777777778,
             "#fb9f3a"
            ],
            [
             0.8888888888888888,
             "#fdca26"
            ],
            [
             1,
             "#f0f921"
            ]
           ]
          },
          "colorway": [
           "#636efa",
           "#EF553B",
           "#00cc96",
           "#ab63fa",
           "#FFA15A",
           "#19d3f3",
           "#FF6692",
           "#B6E880",
           "#FF97FF",
           "#FECB52"
          ],
          "font": {
           "color": "#2a3f5f"
          },
          "geo": {
           "bgcolor": "white",
           "lakecolor": "white",
           "landcolor": "#E5ECF6",
           "showlakes": true,
           "showland": true,
           "subunitcolor": "white"
          },
          "hoverlabel": {
           "align": "left"
          },
          "hovermode": "closest",
          "mapbox": {
           "style": "light"
          },
          "paper_bgcolor": "white",
          "plot_bgcolor": "#E5ECF6",
          "polar": {
           "angularaxis": {
            "gridcolor": "white",
            "linecolor": "white",
            "ticks": ""
           },
           "bgcolor": "#E5ECF6",
           "radialaxis": {
            "gridcolor": "white",
            "linecolor": "white",
            "ticks": ""
           }
          },
          "scene": {
           "xaxis": {
            "backgroundcolor": "#E5ECF6",
            "gridcolor": "white",
            "gridwidth": 2,
            "linecolor": "white",
            "showbackground": true,
            "ticks": "",
            "zerolinecolor": "white"
           },
           "yaxis": {
            "backgroundcolor": "#E5ECF6",
            "gridcolor": "white",
            "gridwidth": 2,
            "linecolor": "white",
            "showbackground": true,
            "ticks": "",
            "zerolinecolor": "white"
           },
           "zaxis": {
            "backgroundcolor": "#E5ECF6",
            "gridcolor": "white",
            "gridwidth": 2,
            "linecolor": "white",
            "showbackground": true,
            "ticks": "",
            "zerolinecolor": "white"
           }
          },
          "shapedefaults": {
           "line": {
            "color": "#2a3f5f"
           }
          },
          "ternary": {
           "aaxis": {
            "gridcolor": "white",
            "linecolor": "white",
            "ticks": ""
           },
           "baxis": {
            "gridcolor": "white",
            "linecolor": "white",
            "ticks": ""
           },
           "bgcolor": "#E5ECF6",
           "caxis": {
            "gridcolor": "white",
            "linecolor": "white",
            "ticks": ""
           }
          },
          "title": {
           "x": 0.05
          },
          "xaxis": {
           "automargin": true,
           "gridcolor": "white",
           "linecolor": "white",
           "ticks": "",
           "title": {
            "standoff": 15
           },
           "zerolinecolor": "white",
           "zerolinewidth": 2
          },
          "yaxis": {
           "automargin": true,
           "gridcolor": "white",
           "linecolor": "white",
           "ticks": "",
           "title": {
            "standoff": 15
           },
           "zerolinecolor": "white",
           "zerolinewidth": 2
          }
         }
        },
        "title": {
         "text": "Average Yearly Salary"
        },
        "uniformtext": {
         "minsize": 8,
         "mode": "hide"
        },
        "xaxis": {
         "anchor": "y",
         "autorange": true,
         "domain": [
          0,
          1
         ],
         "range": [
          -0.5,
          70.5
         ],
         "title": {
          "text": "Customer ID"
         },
         "type": "category"
        },
        "yaxis": {
         "anchor": "x",
         "autorange": true,
         "domain": [
          0,
          1
         ],
         "range": [
          0,
          340952.0842105263
         ],
         "title": {
          "text": "Amount in $"
         },
         "type": "linear"
        }
       }
      },
      "image/png": "[encoded data removed]",
      "text/html": [
       "<div>                            <div id=\"4d902e06-79d1-48bf-9220-880eab1fbe87\" class=\"plotly-graph-div\" style=\"height:525px; width:100%;\"></div>            <script type=\"text/javascript\">                require([\"plotly\"], function(Plotly) {                    window.PLOTLYENV=window.PLOTLYENV || {};                                    if (document.getElementById(\"4d902e06-79d1-48bf-9220-880eab1fbe87\")) {                    Plotly.newPlot(                        \"4d902e06-79d1-48bf-9220-880eab1fbe87\",                        [{\"alignmentgroup\": \"True\", \"hovertemplate\": \"variable=Annual_salary<br>Customer ID=%{x}<br>Amount in $=%{y}<extra></extra>\", \"legendgroup\": \"Annual_salary\", \"marker\": {\"color\": \"#636efa\"}, \"name\": \"Annual_salary\", \"offsetgroup\": \"Annual_salary\", \"orientation\": \"v\", \"showlegend\": true, \"textposition\": \"auto\", \"type\": \"bar\", \"x\": [\"AA1001\", \"AA1056\", \"AA1066\", \"AA1133\", \"AA1142\", \"AA1242\", \"AA1225\", \"AA1238\", \"AA1276\", \"AA1301\", \"AA1307\", \"AA1382\", \"AA1401\", \"AA1396\", \"AA1418\", \"AA1455\", \"AA1480\", \"AA1478\", \"AA1520\", \"AA1521\", \"AA516\", \"AA541\", \"AA546\", \"AA555\", \"AA557\", \"AA562\", \"AA564\", \"AA569\", \"AA573\", \"AA575\", \"AA579\", \"AA582\", \"AA581\", \"AA586\", \"AA588\", \"AA592\", \"AA598\", \"AA595\", \"AA597\", \"AA600\", \"AA601\", \"AA604\", \"AA607\", \"AA608\", \"AA614\", \"AA616\", \"AA618\", \"AA619\", \"AA622\", \"AA633\", \"AA634\", \"AA635\", \"AA638\", \"AA640\", \"AA698\", \"AA704\", \"AA707\", \"AA736\", \"AA747\", \"AA756\", \"AA809\", \"AA796\", \"AA805\", \"AA812\", \"AA815\", \"AA863\", \"AA896\", \"AA920\", \"AA916\", \"AA930\", \"AA982\"], \"xaxis\": \"x\", \"y\": [43405.56, 93332.88, 18677.16, 55996.08, 12.0, 1730.04, 10993.44, 15775.68, 6517.44, 62463.96, 25069.08, 42269.52, 323904.48, 10566.36, 30931.44, 3559.92, 44839.68, 10578.96, 64140.72, 51161.76, 42408.84, 67267.2, 42236.4, 67267.2, 36005.88, 43318.92, 73098.84, 73098.84, 41154.48, 81295.56, 17636.76, 67267.2, 43318.92, 73098.84, 81295.56, 67267.2, 23187.12, 53902.92, 17636.76, 42236.4, 53902.92, 65951.76, 43318.92, 65951.76, 43246.08, 10455.84, 65951.76, 80733.24, 65951.76, 40193.28, 41101.2, 64636.32, 5599.2, 23779.2, 66838.56, 55690.56, 70983.0, 12.96, 15011.88, 15065.28, 39654.0, 3323.76, 61605.6, 3.36, 153861.72, 1230.0, 20500.68, 56101.8, 2307.6, 45013.2, 15851.4], \"yaxis\": \"y\"}],                        {\"barmode\": \"relative\", \"legend\": {\"title\": {\"text\": \"variable\"}, \"tracegroupgap\": 0}, \"template\": {\"data\": {\"bar\": [{\"error_x\": {\"color\": \"#2a3f5f\"}, \"error_y\": {\"color\": \"#2a3f5f\"}, \"marker\": {\"line\": {\"color\": \"#E5ECF6\", \"width\": 0.5}}, \"type\": \"bar\"}], \"barpolar\": [{\"marker\": {\"line\": {\"color\": \"#E5ECF6\", \"width\": 0.5}}, \"type\": \"barpolar\"}], \"carpet\": [{\"aaxis\": {\"endlinecolor\": \"#2a3f5f\", \"gridcolor\": \"white\", \"linecolor\": \"white\", \"minorgridcolor\": \"white\", \"startlinecolor\": \"#2a3f5f\"}, \"baxis\": {\"endlinecolor\": \"#2a3f5f\", \"gridcolor\": \"white\", \"linecolor\": \"white\", \"minorgridcolor\": \"white\", \"startlinecolor\": \"#2a3f5f\"}, \"type\": \"carpet\"}], \"choropleth\": [{\"colorbar\": {\"outlinewidth\": 0, \"ticks\": \"\"}, \"type\": \"choropleth\"}], \"contour\": [{\"colorbar\": {\"outlinewidth\": 0, \"ticks\": \"\"}, \"colorscale\": [[0.0, \"#0d0887\"], [0.1111111111111111, \"#46039f\"], [0.2222222222222222, \"#7201a8\"], [0.3333333333333333, \"#9c179e\"], [0.4444444444444444, \"#bd3786\"], [0.5555555555555556, \"#d8576b\"], [0.6666666666666666, \"#ed7953\"], [0.7777777777777778, \"#fb9f3a\"], [0.8888888888888888, \"#fdca26\"], [1.0, \"#f0f921\"]], \"type\": \"contour\"}], \"contourcarpet\": [{\"colorbar\": {\"outlinewidth\": 0, \"ticks\": \"\"}, \"type\": \"contourcarpet\"}], \"heatmap\": [{\"colorbar\": {\"outlinewidth\": 0, \"ticks\": \"\"}, \"colorscale\": [[0.0, \"#0d0887\"], [0.1111111111111111, \"#46039f\"], [0.2222222222222222, \"#7201a8\"], [0.3333333333333333, \"#9c179e\"], [0.4444444444444444, \"#bd3786\"], [0.5555555555555556, \"#d8576b\"], [0.6666666666666666, \"#ed7953\"], [0.7777777777777778, \"#fb9f3a\"], [0.8888888888888888, \"#fdca26\"], [1.0, \"#f0f921\"]], \"type\": \"heatmap\"}], \"heatmapgl\": [{\"colorbar\": {\"outlinewidth\": 0, \"ticks\": \"\"}, \"colorscale\": [[0.0, \"#0d0887\"], [0.1111111111111111, \"#46039f\"], [0.2222222222222222, \"#7201a8\"], [0.3333333333333333, \"#9c179e\"], [0.4444444444444444, \"#bd3786\"], [0.5555555555555556, \"#d8576b\"], [0.6666666666666666, \"#ed7953\"], [0.7777777777777778, \"#fb9f3a\"], [0.8888888888888888, \"#fdca26\"], [1.0, \"#f0f921\"]], \"type\": \"heatmapgl\"}], \"histogram\": [{\"marker\": {\"colorbar\": {\"outlinewidth\": 0, \"ticks\": \"\"}}, \"type\": \"histogram\"}], \"histogram2d\": [{\"colorbar\": {\"outlinewidth\": 0, \"ticks\": \"\"}, \"colorscale\": [[0.0, \"#0d0887\"], [0.1111111111111111, \"#46039f\"], [0.2222222222222222, \"#7201a8\"], [0.3333333333333333, \"#9c179e\"], [0.4444444444444444, \"#bd3786\"], [0.5555555555555556, \"#d8576b\"], [0.6666666666666666, \"#ed7953\"], [0.7777777777777778, \"#fb9f3a\"], [0.8888888888888888, \"#fdca26\"], [1.0, \"#f0f921\"]], \"type\": \"histogram2d\"}], \"histogram2dcontour\": [{\"colorbar\": {\"outlinewidth\": 0, \"ticks\": \"\"}, \"colorscale\": [[0.0, \"#0d0887\"], [0.1111111111111111, \"#46039f\"], [0.2222222222222222, \"#7201a8\"], [0.3333333333333333, \"#9c179e\"], [0.4444444444444444, \"#bd3786\"], [0.5555555555555556, \"#d8576b\"], [0.6666666666666666, \"#ed7953\"], [0.7777777777777778, \"#fb9f3a\"], [0.8888888888888888, \"#fdca26\"], [1.0, \"#f0f921\"]], \"type\": \"histogram2dcontour\"}], \"mesh3d\": [{\"colorbar\": {\"outlinewidth\": 0, \"ticks\": \"\"}, \"type\": \"mesh3d\"}], \"parcoords\": [{\"line\": {\"colorbar\": {\"outlinewidth\": 0, \"ticks\": \"\"}}, \"type\": \"parcoords\"}], \"pie\": [{\"automargin\": true, \"type\": \"pie\"}], \"scatter\": [{\"marker\": {\"colorbar\": {\"outlinewidth\": 0, \"ticks\": \"\"}}, \"type\": \"scatter\"}], \"scatter3d\": [{\"line\": {\"colorbar\": {\"outlinewidth\": 0, \"ticks\": \"\"}}, \"marker\": {\"colorbar\": {\"outlinewidth\": 0, \"ticks\": \"\"}}, \"type\": \"scatter3d\"}], \"scattercarpet\": [{\"marker\": {\"colorbar\": {\"outlinewidth\": 0, \"ticks\": \"\"}}, \"type\": \"scattercarpet\"}], \"scattergeo\": [{\"marker\": {\"colorbar\": {\"outlinewidth\": 0, \"ticks\": \"\"}}, \"type\": \"scattergeo\"}], \"scattergl\": [{\"marker\": {\"colorbar\": {\"outlinewidth\": 0, \"ticks\": \"\"}}, \"type\": \"scattergl\"}], \"scattermapbox\": [{\"marker\": {\"colorbar\": {\"outlinewidth\": 0, \"ticks\": \"\"}}, \"type\": \"scattermapbox\"}], \"scatterpolar\": [{\"marker\": {\"colorbar\": {\"outlinewidth\": 0, \"ticks\": \"\"}}, \"type\": \"scatterpolar\"}], \"scatterpolargl\": [{\"marker\": {\"colorbar\": {\"outlinewidth\": 0, \"ticks\": \"\"}}, \"type\": \"scatterpolargl\"}], \"scatterternary\": [{\"marker\": {\"colorbar\": {\"outlinewidth\": 0, \"ticks\": \"\"}}, \"type\": \"scatterternary\"}], \"surface\": [{\"colorbar\": {\"outlinewidth\": 0, \"ticks\": \"\"}, \"colorscale\": [[0.0, \"#0d0887\"], [0.1111111111111111, \"#46039f\"], [0.2222222222222222, \"#7201a8\"], [0.3333333333333333, \"#9c179e\"], [0.4444444444444444, \"#bd3786\"], [0.5555555555555556, \"#d8576b\"], [0.6666666666666666, \"#ed7953\"], [0.7777777777777778, \"#fb9f3a\"], [0.8888888888888888, \"#fdca26\"], [1.0, \"#f0f921\"]], \"type\": \"surface\"}], \"table\": [{\"cells\": {\"fill\": {\"color\": \"#EBF0F8\"}, \"line\": {\"color\": \"white\"}}, \"header\": {\"fill\": {\"color\": \"#C8D4E3\"}, \"line\": {\"color\": \"white\"}}, \"type\": \"table\"}]}, \"layout\": {\"annotationdefaults\": {\"arrowcolor\": \"#2a3f5f\", \"arrowhead\": 0, \"arrowwidth\": 1}, \"autotypenumbers\": \"strict\", \"coloraxis\": {\"colorbar\": {\"outlinewidth\": 0, \"ticks\": \"\"}}, \"colorscale\": {\"diverging\": [[0, \"#8e0152\"], [0.1, \"#c51b7d\"], [0.2, \"#de77ae\"], [0.3, \"#f1b6da\"], [0.4, \"#fde0ef\"], [0.5, \"#f7f7f7\"], [0.6, \"#e6f5d0\"], [0.7, \"#b8e186\"], [0.8, \"#7fbc41\"], [0.9, \"#4d9221\"], [1, \"#276419\"]], \"sequential\": [[0.0, \"#0d0887\"], [0.1111111111111111, \"#46039f\"], [0.2222222222222222, \"#7201a8\"], [0.3333333333333333, \"#9c179e\"], [0.4444444444444444, \"#bd3786\"], [0.5555555555555556, \"#d8576b\"], [0.6666666666666666, \"#ed7953\"], [0.7777777777777778, \"#fb9f3a\"], [0.8888888888888888, \"#fdca26\"], [1.0, \"#f0f921\"]], \"sequentialminus\": [[0.0, \"#0d0887\"], [0.1111111111111111, \"#46039f\"], [0.2222222222222222, \"#7201a8\"], [0.3333333333333333, \"#9c179e\"], [0.4444444444444444, \"#bd3786\"], [0.5555555555555556, \"#d8576b\"], [0.6666666666666666, \"#ed7953\"], [0.7777777777777778, \"#fb9f3a\"], [0.8888888888888888, \"#fdca26\"], [1.0, \"#f0f921\"]]}, \"colorway\": [\"#636efa\", \"#EF553B\", \"#00cc96\", \"#ab63fa\", \"#FFA15A\", \"#19d3f3\", \"#FF6692\", \"#B6E880\", \"#FF97FF\", \"#FECB52\"], \"font\": {\"color\": \"#2a3f5f\"}, \"geo\": {\"bgcolor\": \"white\", \"lakecolor\": \"white\", \"landcolor\": \"#E5ECF6\", \"showlakes\": true, \"showland\": true, \"subunitcolor\": \"white\"}, \"hoverlabel\": {\"align\": \"left\"}, \"hovermode\": \"closest\", \"mapbox\": {\"style\": \"light\"}, \"paper_bgcolor\": \"white\", \"plot_bgcolor\": \"#E5ECF6\", \"polar\": {\"angularaxis\": {\"gridcolor\": \"white\", \"linecolor\": \"white\", \"ticks\": \"\"}, \"bgcolor\": \"#E5ECF6\", \"radialaxis\": {\"gridcolor\": \"white\", \"linecolor\": \"white\", \"ticks\": \"\"}}, \"scene\": {\"xaxis\": {\"backgroundcolor\": \"#E5ECF6\", \"gridcolor\": \"white\", \"gridwidth\": 2, \"linecolor\": \"white\", \"showbackground\": true, \"ticks\": \"\", \"zerolinecolor\": \"white\"}, \"yaxis\": {\"backgroundcolor\": \"#E5ECF6\", \"gridcolor\": \"white\", \"gridwidth\": 2, \"linecolor\": \"white\", \"showbackground\": true, \"ticks\": \"\", \"zerolinecolor\": \"white\"}, \"zaxis\": {\"backgroundcolor\": \"#E5ECF6\", \"gridcolor\": \"white\", \"gridwidth\": 2, \"linecolor\": \"white\", \"showbackground\": true, \"ticks\": \"\", \"zerolinecolor\": \"white\"}}, \"shapedefaults\": {\"line\": {\"color\": \"#2a3f5f\"}}, \"ternary\": {\"aaxis\": {\"gridcolor\": \"white\", \"linecolor\": \"white\", \"ticks\": \"\"}, \"baxis\": {\"gridcolor\": \"white\", \"linecolor\": \"white\", \"ticks\": \"\"}, \"bgcolor\": \"#E5ECF6\", \"caxis\": {\"gridcolor\": \"white\", \"linecolor\": \"white\", \"ticks\": \"\"}}, \"title\": {\"x\": 0.05}, \"xaxis\": {\"automargin\": true, \"gridcolor\": \"white\", \"linecolor\": \"white\", \"ticks\": \"\", \"title\": {\"standoff\": 15}, \"zerolinecolor\": \"white\", \"zerolinewidth\": 2}, \"yaxis\": {\"automargin\": true, \"gridcolor\": \"white\", \"linecolor\": \"white\", \"ticks\": \"\", \"title\": {\"standoff\": 15}, \"zerolinecolor\": \"white\", \"zerolinewidth\": 2}}}, \"title\": {\"text\": \"Average Yearly Salary\"}, \"uniformtext\": {\"minsize\": 8, \"mode\": \"hide\"}, \"xaxis\": {\"anchor\": \"y\", \"domain\": [0.0, 1.0], \"title\": {\"text\": \"Customer ID\"}}, \"yaxis\": {\"anchor\": \"x\", \"domain\": [0.0, 1.0], \"title\": {\"text\": \"Amount in $\"}}},                        {\"responsive\": true}                    ).then(function(){\n",
       "                            \n",
       "var gd = document.getElementById('4d902e06-79d1-48bf-9220-880eab1fbe87');\n",
       "var x = new MutationObserver(function (mutations, observer) {{\n",
       "        var display = window.getComputedStyle(gd).display;\n",
       "        if (!display || display === 'none') {{\n",
       "            console.log([gd, 'removed!']);\n",
       "            Plotly.purge(gd);\n",
       "            observer.disconnect();\n",
       "        }}\n",
       "}});\n",
       "\n",
       "// Listen for the removal of the full notebook cells\n",
       "var notebookContainer = gd.closest('#notebook-container');\n",
       "if (notebookContainer) {{\n",
       "    x.observe(notebookContainer, {childList: true});\n",
       "}}\n",
       "\n",
       "// Listen for the clearing of the current output cell\n",
       "var outputEl = gd.closest('.output');\n",
       "if (outputEl) {{\n",
       "    x.observe(outputEl, {childList: true});\n",
       "}}\n",
       "\n",
       "                        })                };                });            </script>        </div>"
      ]
     },
     "metadata": {},
     "output_type": "display_data"
    }
   ],
   "source": [
    "fig = px.bar(annual_salary_DataFrame, title=\"Average Yearly Salary\", \n",
    "            labels={\"value\": \"Amount in $\", \"index\": \"Customer ID\"})\n",
    "fig.update_layout(uniformtext_minsize=8, uniformtext_mode='hide')\n",
    "fig.show()"
   ]
  },
  {
   "cell_type": "code",
   "execution_count": 58,
   "id": "forced-crowd",
   "metadata": {},
   "outputs": [],
   "source": [
    "# ax = annual_salary_DataFrame.plot.bar(figsize=(20, 10), title=\"Average Yearly Salary\", xlabel=\"Customer ID\", ylabel=\"Amount in $\")"
   ]
  },
  {
   "cell_type": "markdown",
   "id": "undefined-fabric",
   "metadata": {},
   "source": [
    "Removing the outlier with 150000+ dollars annual estimated salary\n",
    "\n",
    "Visualizing the spread"
   ]
  },
  {
   "cell_type": "code",
   "execution_count": 56,
   "id": "prerequisite-jones",
   "metadata": {},
   "outputs": [],
   "source": [
    "# annual_salary_DataFrame_without_outlier = annual_salary_DataFrame[annual_salary_DataFrame[\"Annual_salary\"] < 150000]\n",
    "# ax = annual_salary_DataFrame_without_outlier.plot.bar(figsize=(20, 10), title=\"Average Yearly Salary after removing outlier\", xlabel=\"Customer ID\", ylabel=\"Amount in $\",\n",
    "#                                                      )"
   ]
  },
  {
   "cell_type": "code",
   "execution_count": 55,
   "id": "facial-wallpaper",
   "metadata": {},
   "outputs": [
    {
     "data": {
      "application/vnd.plotly.v1+json": {
       "config": {
        "plotlyServerURL": "https://plot.ly"
       },
       "data": [
        {
         "alignmentgroup": "True",
         "hovertemplate": "variable=Annual_salary<br>Customer ID=%{x}<br>Amount in $=%{y}<extra></extra>",
         "legendgroup": "Annual_salary",
         "marker": {
          "color": "#636efa"
         },
         "name": "Annual_salary",
         "offsetgroup": "Annual_salary",
         "orientation": "v",
         "showlegend": true,
         "textposition": "auto",
         "type": "bar",
         "x": [
          "AA1001",
          "AA1056",
          "AA1066",
          "AA1133",
          "AA1142",
          "AA1242",
          "AA1225",
          "AA1238",
          "AA1276",
          "AA1301",
          "AA1307",
          "AA1382",
          "AA1396",
          "AA1418",
          "AA1455",
          "AA1480",
          "AA1478",
          "AA1520",
          "AA1521",
          "AA516",
          "AA541",
          "AA546",
          "AA555",
          "AA557",
          "AA562",
          "AA564",
          "AA569",
          "AA573",
          "AA575",
          "AA579",
          "AA582",
          "AA581",
          "AA586",
          "AA588",
          "AA592",
          "AA598",
          "AA595",
          "AA597",
          "AA600",
          "AA601",
          "AA604",
          "AA607",
          "AA608",
          "AA614",
          "AA616",
          "AA618",
          "AA619",
          "AA622",
          "AA633",
          "AA634",
          "AA635",
          "AA638",
          "AA640",
          "AA698",
          "AA704",
          "AA707",
          "AA736",
          "AA747",
          "AA756",
          "AA809",
          "AA796",
          "AA805",
          "AA812",
          "AA863",
          "AA896",
          "AA920",
          "AA916",
          "AA930",
          "AA982"
         ],
         "xaxis": "x",
         "y": [
          43405.56,
          93332.88,
          18677.16,
          55996.08,
          12,
          1730.04,
          10993.44,
          15775.68,
          6517.44,
          62463.96,
          25069.08,
          42269.52,
          10566.36,
          30931.44,
          3559.92,
          44839.68,
          10578.96,
          64140.72,
          51161.76,
          42408.84,
          67267.2,
          42236.4,
          67267.2,
          36005.88,
          43318.92,
          73098.84,
          73098.84,
          41154.48,
          81295.56,
          17636.76,
          67267.2,
          43318.92,
          73098.84,
          81295.56,
          67267.2,
          23187.12,
          53902.92,
          17636.76,
          42236.4,
          53902.92,
          65951.76,
          43318.92,
          65951.76,
          43246.08,
          10455.84,
          65951.76,
          80733.24,
          65951.76,
          40193.28,
          41101.2,
          64636.32,
          5599.2,
          23779.2,
          66838.56,
          55690.56,
          70983,
          12.96,
          15011.88,
          15065.28,
          39654,
          3323.76,
          61605.6,
          3.36,
          1230,
          20500.68,
          56101.8,
          2307.6,
          45013.2,
          15851.4
         ],
         "yaxis": "y"
        }
       ],
       "layout": {
        "autosize": true,
        "barmode": "relative",
        "legend": {
         "title": {
          "text": "variable"
         },
         "tracegroupgap": 0
        },
        "template": {
         "data": {
          "bar": [
           {
            "error_x": {
             "color": "#2a3f5f"
            },
            "error_y": {
             "color": "#2a3f5f"
            },
            "marker": {
             "line": {
              "color": "#E5ECF6",
              "width": 0.5
             }
            },
            "type": "bar"
           }
          ],
          "barpolar": [
           {
            "marker": {
             "line": {
              "color": "#E5ECF6",
              "width": 0.5
             }
            },
            "type": "barpolar"
           }
          ],
          "carpet": [
           {
            "aaxis": {
             "endlinecolor": "#2a3f5f",
             "gridcolor": "white",
             "linecolor": "white",
             "minorgridcolor": "white",
             "startlinecolor": "#2a3f5f"
            },
            "baxis": {
             "endlinecolor": "#2a3f5f",
             "gridcolor": "white",
             "linecolor": "white",
             "minorgridcolor": "white",
             "startlinecolor": "#2a3f5f"
            },
            "type": "carpet"
           }
          ],
          "choropleth": [
           {
            "colorbar": {
             "outlinewidth": 0,
             "ticks": ""
            },
            "type": "choropleth"
           }
          ],
          "contour": [
           {
            "colorbar": {
             "outlinewidth": 0,
             "ticks": ""
            },
            "colorscale": [
             [
              0,
              "#0d0887"
             ],
             [
              0.1111111111111111,
              "#46039f"
             ],
             [
              0.2222222222222222,
              "#7201a8"
             ],
             [
              0.3333333333333333,
              "#9c179e"
             ],
             [
              0.4444444444444444,
              "#bd3786"
             ],
             [
              0.5555555555555556,
              "#d8576b"
             ],
             [
              0.6666666666666666,
              "#ed7953"
             ],
             [
              0.7777777777777778,
              "#fb9f3a"
             ],
             [
              0.8888888888888888,
              "#fdca26"
             ],
             [
              1,
              "#f0f921"
             ]
            ],
            "type": "contour"
           }
          ],
          "contourcarpet": [
           {
            "colorbar": {
             "outlinewidth": 0,
             "ticks": ""
            },
            "type": "contourcarpet"
           }
          ],
          "heatmap": [
           {
            "colorbar": {
             "outlinewidth": 0,
             "ticks": ""
            },
            "colorscale": [
             [
              0,
              "#0d0887"
             ],
             [
              0.1111111111111111,
              "#46039f"
             ],
             [
              0.2222222222222222,
              "#7201a8"
             ],
             [
              0.3333333333333333,
              "#9c179e"
             ],
             [
              0.4444444444444444,
              "#bd3786"
             ],
             [
              0.5555555555555556,
              "#d8576b"
             ],
             [
              0.6666666666666666,
              "#ed7953"
             ],
             [
              0.7777777777777778,
              "#fb9f3a"
             ],
             [
              0.8888888888888888,
              "#fdca26"
             ],
             [
              1,
              "#f0f921"
             ]
            ],
            "type": "heatmap"
           }
          ],
          "heatmapgl": [
           {
            "colorbar": {
             "outlinewidth": 0,
             "ticks": ""
            },
            "colorscale": [
             [
              0,
              "#0d0887"
             ],
             [
              0.1111111111111111,
              "#46039f"
             ],
             [
              0.2222222222222222,
              "#7201a8"
             ],
             [
              0.3333333333333333,
              "#9c179e"
             ],
             [
              0.4444444444444444,
              "#bd3786"
             ],
             [
              0.5555555555555556,
              "#d8576b"
             ],
             [
              0.6666666666666666,
              "#ed7953"
             ],
             [
              0.7777777777777778,
              "#fb9f3a"
             ],
             [
              0.8888888888888888,
              "#fdca26"
             ],
             [
              1,
              "#f0f921"
             ]
            ],
            "type": "heatmapgl"
           }
          ],
          "histogram": [
           {
            "marker": {
             "colorbar": {
              "outlinewidth": 0,
              "ticks": ""
             }
            },
            "type": "histogram"
           }
          ],
          "histogram2d": [
           {
            "colorbar": {
             "outlinewidth": 0,
             "ticks": ""
            },
            "colorscale": [
             [
              0,
              "#0d0887"
             ],
             [
              0.1111111111111111,
              "#46039f"
             ],
             [
              0.2222222222222222,
              "#7201a8"
             ],
             [
              0.3333333333333333,
              "#9c179e"
             ],
             [
              0.4444444444444444,
              "#bd3786"
             ],
             [
              0.5555555555555556,
              "#d8576b"
             ],
             [
              0.6666666666666666,
              "#ed7953"
             ],
             [
              0.7777777777777778,
              "#fb9f3a"
             ],
             [
              0.8888888888888888,
              "#fdca26"
             ],
             [
              1,
              "#f0f921"
             ]
            ],
            "type": "histogram2d"
           }
          ],
          "histogram2dcontour": [
           {
            "colorbar": {
             "outlinewidth": 0,
             "ticks": ""
            },
            "colorscale": [
             [
              0,
              "#0d0887"
             ],
             [
              0.1111111111111111,
              "#46039f"
             ],
             [
              0.2222222222222222,
              "#7201a8"
             ],
             [
              0.3333333333333333,
              "#9c179e"
             ],
             [
              0.4444444444444444,
              "#bd3786"
             ],
             [
              0.5555555555555556,
              "#d8576b"
             ],
             [
              0.6666666666666666,
              "#ed7953"
             ],
             [
              0.7777777777777778,
              "#fb9f3a"
             ],
             [
              0.8888888888888888,
              "#fdca26"
             ],
             [
              1,
              "#f0f921"
             ]
            ],
            "type": "histogram2dcontour"
           }
          ],
          "mesh3d": [
           {
            "colorbar": {
             "outlinewidth": 0,
             "ticks": ""
            },
            "type": "mesh3d"
           }
          ],
          "parcoords": [
           {
            "line": {
             "colorbar": {
              "outlinewidth": 0,
              "ticks": ""
             }
            },
            "type": "parcoords"
           }
          ],
          "pie": [
           {
            "automargin": true,
            "type": "pie"
           }
          ],
          "scatter": [
           {
            "marker": {
             "colorbar": {
              "outlinewidth": 0,
              "ticks": ""
             }
            },
            "type": "scatter"
           }
          ],
          "scatter3d": [
           {
            "line": {
             "colorbar": {
              "outlinewidth": 0,
              "ticks": ""
             }
            },
            "marker": {
             "colorbar": {
              "outlinewidth": 0,
              "ticks": ""
             }
            },
            "type": "scatter3d"
           }
          ],
          "scattercarpet": [
           {
            "marker": {
             "colorbar": {
              "outlinewidth": 0,
              "ticks": ""
             }
            },
            "type": "scattercarpet"
           }
          ],
          "scattergeo": [
           {
            "marker": {
             "colorbar": {
              "outlinewidth": 0,
              "ticks": ""
             }
            },
            "type": "scattergeo"
           }
          ],
          "scattergl": [
           {
            "marker": {
             "colorbar": {
              "outlinewidth": 0,
              "ticks": ""
             }
            },
            "type": "scattergl"
           }
          ],
          "scattermapbox": [
           {
            "marker": {
             "colorbar": {
              "outlinewidth": 0,
              "ticks": ""
             }
            },
            "type": "scattermapbox"
           }
          ],
          "scatterpolar": [
           {
            "marker": {
             "colorbar": {
              "outlinewidth": 0,
              "ticks": ""
             }
            },
            "type": "scatterpolar"
           }
          ],
          "scatterpolargl": [
           {
            "marker": {
             "colorbar": {
              "outlinewidth": 0,
              "ticks": ""
             }
            },
            "type": "scatterpolargl"
           }
          ],
          "scatterternary": [
           {
            "marker": {
             "colorbar": {
              "outlinewidth": 0,
              "ticks": ""
             }
            },
            "type": "scatterternary"
           }
          ],
          "surface": [
           {
            "colorbar": {
             "outlinewidth": 0,
             "ticks": ""
            },
            "colorscale": [
             [
              0,
              "#0d0887"
             ],
             [
              0.1111111111111111,
              "#46039f"
             ],
             [
              0.2222222222222222,
              "#7201a8"
             ],
             [
              0.3333333333333333,
              "#9c179e"
             ],
             [
              0.4444444444444444,
              "#bd3786"
             ],
             [
              0.5555555555555556,
              "#d8576b"
             ],
             [
              0.6666666666666666,
              "#ed7953"
             ],
             [
              0.7777777777777778,
              "#fb9f3a"
             ],
             [
              0.8888888888888888,
              "#fdca26"
             ],
             [
              1,
              "#f0f921"
             ]
            ],
            "type": "surface"
           }
          ],
          "table": [
           {
            "cells": {
             "fill": {
              "color": "#EBF0F8"
             },
             "line": {
              "color": "white"
             }
            },
            "header": {
             "fill": {
              "color": "#C8D4E3"
             },
             "line": {
              "color": "white"
             }
            },
            "type": "table"
           }
          ]
         },
         "layout": {
          "annotationdefaults": {
           "arrowcolor": "#2a3f5f",
           "arrowhead": 0,
           "arrowwidth": 1
          },
          "autotypenumbers": "strict",
          "coloraxis": {
           "colorbar": {
            "outlinewidth": 0,
            "ticks": ""
           }
          },
          "colorscale": {
           "diverging": [
            [
             0,
             "#8e0152"
            ],
            [
             0.1,
             "#c51b7d"
            ],
            [
             0.2,
             "#de77ae"
            ],
            [
             0.3,
             "#f1b6da"
            ],
            [
             0.4,
             "#fde0ef"
            ],
            [
             0.5,
             "#f7f7f7"
            ],
            [
             0.6,
             "#e6f5d0"
            ],
            [
             0.7,
             "#b8e186"
            ],
            [
             0.8,
             "#7fbc41"
            ],
            [
             0.9,
             "#4d9221"
            ],
            [
             1,
             "#276419"
            ]
           ],
           "sequential": [
            [
             0,
             "#0d0887"
            ],
            [
             0.1111111111111111,
             "#46039f"
            ],
            [
             0.2222222222222222,
             "#7201a8"
            ],
            [
             0.3333333333333333,
             "#9c179e"
            ],
            [
             0.4444444444444444,
             "#bd3786"
            ],
            [
             0.5555555555555556,
             "#d8576b"
            ],
            [
             0.6666666666666666,
             "#ed7953"
            ],
            [
             0.7777777777777778,
             "#fb9f3a"
            ],
            [
             0.8888888888888888,
             "#fdca26"
            ],
            [
             1,
             "#f0f921"
            ]
           ],
           "sequentialminus": [
            [
             0,
             "#0d0887"
            ],
            [
             0.1111111111111111,
             "#46039f"
            ],
            [
             0.2222222222222222,
             "#7201a8"
            ],
            [
             0.3333333333333333,
             "#9c179e"
            ],
            [
             0.4444444444444444,
             "#bd3786"
            ],
            [
             0.5555555555555556,
             "#d8576b"
            ],
            [
             0.6666666666666666,
             "#ed7953"
            ],
            [
             0.7777777777777778,
             "#fb9f3a"
            ],
            [
             0.8888888888888888,
             "#fdca26"
            ],
            [
             1,
             "#f0f921"
            ]
           ]
          },
          "colorway": [
           "#636efa",
           "#EF553B",
           "#00cc96",
           "#ab63fa",
           "#FFA15A",
           "#19d3f3",
           "#FF6692",
           "#B6E880",
           "#FF97FF",
           "#FECB52"
          ],
          "font": {
           "color": "#2a3f5f"
          },
          "geo": {
           "bgcolor": "white",
           "lakecolor": "white",
           "landcolor": "#E5ECF6",
           "showlakes": true,
           "showland": true,
           "subunitcolor": "white"
          },
          "hoverlabel": {
           "align": "left"
          },
          "hovermode": "closest",
          "mapbox": {
           "style": "light"
          },
          "paper_bgcolor": "white",
          "plot_bgcolor": "#E5ECF6",
          "polar": {
           "angularaxis": {
            "gridcolor": "white",
            "linecolor": "white",
            "ticks": ""
           },
           "bgcolor": "#E5ECF6",
           "radialaxis": {
            "gridcolor": "white",
            "linecolor": "white",
            "ticks": ""
           }
          },
          "scene": {
           "xaxis": {
            "backgroundcolor": "#E5ECF6",
            "gridcolor": "white",
            "gridwidth": 2,
            "linecolor": "white",
            "showbackground": true,
            "ticks": "",
            "zerolinecolor": "white"
           },
           "yaxis": {
            "backgroundcolor": "#E5ECF6",
            "gridcolor": "white",
            "gridwidth": 2,
            "linecolor": "white",
            "showbackground": true,
            "ticks": "",
            "zerolinecolor": "white"
           },
           "zaxis": {
            "backgroundcolor": "#E5ECF6",
            "gridcolor": "white",
            "gridwidth": 2,
            "linecolor": "white",
            "showbackground": true,
            "ticks": "",
            "zerolinecolor": "white"
           }
          },
          "shapedefaults": {
           "line": {
            "color": "#2a3f5f"
           }
          },
          "ternary": {
           "aaxis": {
            "gridcolor": "white",
            "linecolor": "white",
            "ticks": ""
           },
           "baxis": {
            "gridcolor": "white",
            "linecolor": "white",
            "ticks": ""
           },
           "bgcolor": "#E5ECF6",
           "caxis": {
            "gridcolor": "white",
            "linecolor": "white",
            "ticks": ""
           }
          },
          "title": {
           "x": 0.05
          },
          "xaxis": {
           "automargin": true,
           "gridcolor": "white",
           "linecolor": "white",
           "ticks": "",
           "title": {
            "standoff": 15
           },
           "zerolinecolor": "white",
           "zerolinewidth": 2
          },
          "yaxis": {
           "automargin": true,
           "gridcolor": "white",
           "linecolor": "white",
           "ticks": "",
           "title": {
            "standoff": 15
           },
           "zerolinecolor": "white",
           "zerolinewidth": 2
          }
         }
        },
        "title": {
         "text": "Average Yearly Salary after removing outlier"
        },
        "uniformtext": {
         "minsize": 8,
         "mode": "hide"
        },
        "xaxis": {
         "anchor": "y",
         "autorange": true,
         "domain": [
          0,
          1
         ],
         "range": [
          -0.5,
          68.5
         ],
         "title": {
          "text": "Customer ID"
         },
         "type": "category"
        },
        "yaxis": {
         "anchor": "x",
         "autorange": true,
         "domain": [
          0,
          1
         ],
         "range": [
          0,
          98245.13684210528
         ],
         "title": {
          "text": "Amount in $"
         },
         "type": "linear"
        }
       }
      },
      "image/png": "[encoded data removed]",
      "text/html": [
       "<div>                            <div id=\"e4cda552-a9c4-4cf8-8023-17954fa98cee\" class=\"plotly-graph-div\" style=\"height:525px; width:100%;\"></div>            <script type=\"text/javascript\">                require([\"plotly\"], function(Plotly) {                    window.PLOTLYENV=window.PLOTLYENV || {};                                    if (document.getElementById(\"e4cda552-a9c4-4cf8-8023-17954fa98cee\")) {                    Plotly.newPlot(                        \"e4cda552-a9c4-4cf8-8023-17954fa98cee\",                        [{\"alignmentgroup\": \"True\", \"hovertemplate\": \"variable=Annual_salary<br>Customer ID=%{x}<br>Amount in $=%{y}<extra></extra>\", \"legendgroup\": \"Annual_salary\", \"marker\": {\"color\": \"#636efa\"}, \"name\": \"Annual_salary\", \"offsetgroup\": \"Annual_salary\", \"orientation\": \"v\", \"showlegend\": true, \"textposition\": \"auto\", \"type\": \"bar\", \"x\": [\"AA1001\", \"AA1056\", \"AA1066\", \"AA1133\", \"AA1142\", \"AA1242\", \"AA1225\", \"AA1238\", \"AA1276\", \"AA1301\", \"AA1307\", \"AA1382\", \"AA1396\", \"AA1418\", \"AA1455\", \"AA1480\", \"AA1478\", \"AA1520\", \"AA1521\", \"AA516\", \"AA541\", \"AA546\", \"AA555\", \"AA557\", \"AA562\", \"AA564\", \"AA569\", \"AA573\", \"AA575\", \"AA579\", \"AA582\", \"AA581\", \"AA586\", \"AA588\", \"AA592\", \"AA598\", \"AA595\", \"AA597\", \"AA600\", \"AA601\", \"AA604\", \"AA607\", \"AA608\", \"AA614\", \"AA616\", \"AA618\", \"AA619\", \"AA622\", \"AA633\", \"AA634\", \"AA635\", \"AA638\", \"AA640\", \"AA698\", \"AA704\", \"AA707\", \"AA736\", \"AA747\", \"AA756\", \"AA809\", \"AA796\", \"AA805\", \"AA812\", \"AA863\", \"AA896\", \"AA920\", \"AA916\", \"AA930\", \"AA982\"], \"xaxis\": \"x\", \"y\": [43405.56, 93332.88, 18677.16, 55996.08, 12.0, 1730.04, 10993.44, 15775.68, 6517.44, 62463.96, 25069.08, 42269.52, 10566.36, 30931.44, 3559.92, 44839.68, 10578.96, 64140.72, 51161.76, 42408.84, 67267.2, 42236.4, 67267.2, 36005.88, 43318.92, 73098.84, 73098.84, 41154.48, 81295.56, 17636.76, 67267.2, 43318.92, 73098.84, 81295.56, 67267.2, 23187.12, 53902.92, 17636.76, 42236.4, 53902.92, 65951.76, 43318.92, 65951.76, 43246.08, 10455.84, 65951.76, 80733.24, 65951.76, 40193.28, 41101.2, 64636.32, 5599.2, 23779.2, 66838.56, 55690.56, 70983.0, 12.96, 15011.88, 15065.28, 39654.0, 3323.76, 61605.6, 3.36, 1230.0, 20500.68, 56101.8, 2307.6, 45013.2, 15851.4], \"yaxis\": \"y\"}],                        {\"barmode\": \"relative\", \"legend\": {\"title\": {\"text\": \"variable\"}, \"tracegroupgap\": 0}, \"template\": {\"data\": {\"bar\": [{\"error_x\": {\"color\": \"#2a3f5f\"}, \"error_y\": {\"color\": \"#2a3f5f\"}, \"marker\": {\"line\": {\"color\": \"#E5ECF6\", \"width\": 0.5}}, \"type\": \"bar\"}], \"barpolar\": [{\"marker\": {\"line\": {\"color\": \"#E5ECF6\", \"width\": 0.5}}, \"type\": \"barpolar\"}], \"carpet\": [{\"aaxis\": {\"endlinecolor\": \"#2a3f5f\", \"gridcolor\": \"white\", \"linecolor\": \"white\", \"minorgridcolor\": \"white\", \"startlinecolor\": \"#2a3f5f\"}, \"baxis\": {\"endlinecolor\": \"#2a3f5f\", \"gridcolor\": \"white\", \"linecolor\": \"white\", \"minorgridcolor\": \"white\", \"startlinecolor\": \"#2a3f5f\"}, \"type\": \"carpet\"}], \"choropleth\": [{\"colorbar\": {\"outlinewidth\": 0, \"ticks\": \"\"}, \"type\": \"choropleth\"}], \"contour\": [{\"colorbar\": {\"outlinewidth\": 0, \"ticks\": \"\"}, \"colorscale\": [[0.0, \"#0d0887\"], [0.1111111111111111, \"#46039f\"], [0.2222222222222222, \"#7201a8\"], [0.3333333333333333, \"#9c179e\"], [0.4444444444444444, \"#bd3786\"], [0.5555555555555556, \"#d8576b\"], [0.6666666666666666, \"#ed7953\"], [0.7777777777777778, \"#fb9f3a\"], [0.8888888888888888, \"#fdca26\"], [1.0, \"#f0f921\"]], \"type\": \"contour\"}], \"contourcarpet\": [{\"colorbar\": {\"outlinewidth\": 0, \"ticks\": \"\"}, \"type\": \"contourcarpet\"}], \"heatmap\": [{\"colorbar\": {\"outlinewidth\": 0, \"ticks\": \"\"}, \"colorscale\": [[0.0, \"#0d0887\"], [0.1111111111111111, \"#46039f\"], [0.2222222222222222, \"#7201a8\"], [0.3333333333333333, \"#9c179e\"], [0.4444444444444444, \"#bd3786\"], [0.5555555555555556, \"#d8576b\"], [0.6666666666666666, \"#ed7953\"], [0.7777777777777778, \"#fb9f3a\"], [0.8888888888888888, \"#fdca26\"], [1.0, \"#f0f921\"]], \"type\": \"heatmap\"}], \"heatmapgl\": [{\"colorbar\": {\"outlinewidth\": 0, \"ticks\": \"\"}, \"colorscale\": [[0.0, \"#0d0887\"], [0.1111111111111111, \"#46039f\"], [0.2222222222222222, \"#7201a8\"], [0.3333333333333333, \"#9c179e\"], [0.4444444444444444, \"#bd3786\"], [0.5555555555555556, \"#d8576b\"], [0.6666666666666666, \"#ed7953\"], [0.7777777777777778, \"#fb9f3a\"], [0.8888888888888888, \"#fdca26\"], [1.0, \"#f0f921\"]], \"type\": \"heatmapgl\"}], \"histogram\": [{\"marker\": {\"colorbar\": {\"outlinewidth\": 0, \"ticks\": \"\"}}, \"type\": \"histogram\"}], \"histogram2d\": [{\"colorbar\": {\"outlinewidth\": 0, \"ticks\": \"\"}, \"colorscale\": [[0.0, \"#0d0887\"], [0.1111111111111111, \"#46039f\"], [0.2222222222222222, \"#7201a8\"], [0.3333333333333333, \"#9c179e\"], [0.4444444444444444, \"#bd3786\"], [0.5555555555555556, \"#d8576b\"], [0.6666666666666666, \"#ed7953\"], [0.7777777777777778, \"#fb9f3a\"], [0.8888888888888888, \"#fdca26\"], [1.0, \"#f0f921\"]], \"type\": \"histogram2d\"}], \"histogram2dcontour\": [{\"colorbar\": {\"outlinewidth\": 0, \"ticks\": \"\"}, \"colorscale\": [[0.0, \"#0d0887\"], [0.1111111111111111, \"#46039f\"], [0.2222222222222222, \"#7201a8\"], [0.3333333333333333, \"#9c179e\"], [0.4444444444444444, \"#bd3786\"], [0.5555555555555556, \"#d8576b\"], [0.6666666666666666, \"#ed7953\"], [0.7777777777777778, \"#fb9f3a\"], [0.8888888888888888, \"#fdca26\"], [1.0, \"#f0f921\"]], \"type\": \"histogram2dcontour\"}], \"mesh3d\": [{\"colorbar\": {\"outlinewidth\": 0, \"ticks\": \"\"}, \"type\": \"mesh3d\"}], \"parcoords\": [{\"line\": {\"colorbar\": {\"outlinewidth\": 0, \"ticks\": \"\"}}, \"type\": \"parcoords\"}], \"pie\": [{\"automargin\": true, \"type\": \"pie\"}], \"scatter\": [{\"marker\": {\"colorbar\": {\"outlinewidth\": 0, \"ticks\": \"\"}}, \"type\": \"scatter\"}], \"scatter3d\": [{\"line\": {\"colorbar\": {\"outlinewidth\": 0, \"ticks\": \"\"}}, \"marker\": {\"colorbar\": {\"outlinewidth\": 0, \"ticks\": \"\"}}, \"type\": \"scatter3d\"}], \"scattercarpet\": [{\"marker\": {\"colorbar\": {\"outlinewidth\": 0, \"ticks\": \"\"}}, \"type\": \"scattercarpet\"}], \"scattergeo\": [{\"marker\": {\"colorbar\": {\"outlinewidth\": 0, \"ticks\": \"\"}}, \"type\": \"scattergeo\"}], \"scattergl\": [{\"marker\": {\"colorbar\": {\"outlinewidth\": 0, \"ticks\": \"\"}}, \"type\": \"scattergl\"}], \"scattermapbox\": [{\"marker\": {\"colorbar\": {\"outlinewidth\": 0, \"ticks\": \"\"}}, \"type\": \"scattermapbox\"}], \"scatterpolar\": [{\"marker\": {\"colorbar\": {\"outlinewidth\": 0, \"ticks\": \"\"}}, \"type\": \"scatterpolar\"}], \"scatterpolargl\": [{\"marker\": {\"colorbar\": {\"outlinewidth\": 0, \"ticks\": \"\"}}, \"type\": \"scatterpolargl\"}], \"scatterternary\": [{\"marker\": {\"colorbar\": {\"outlinewidth\": 0, \"ticks\": \"\"}}, \"type\": \"scatterternary\"}], \"surface\": [{\"colorbar\": {\"outlinewidth\": 0, \"ticks\": \"\"}, \"colorscale\": [[0.0, \"#0d0887\"], [0.1111111111111111, \"#46039f\"], [0.2222222222222222, \"#7201a8\"], [0.3333333333333333, \"#9c179e\"], [0.4444444444444444, \"#bd3786\"], [0.5555555555555556, \"#d8576b\"], [0.6666666666666666, \"#ed7953\"], [0.7777777777777778, \"#fb9f3a\"], [0.8888888888888888, \"#fdca26\"], [1.0, \"#f0f921\"]], \"type\": \"surface\"}], \"table\": [{\"cells\": {\"fill\": {\"color\": \"#EBF0F8\"}, \"line\": {\"color\": \"white\"}}, \"header\": {\"fill\": {\"color\": \"#C8D4E3\"}, \"line\": {\"color\": \"white\"}}, \"type\": \"table\"}]}, \"layout\": {\"annotationdefaults\": {\"arrowcolor\": \"#2a3f5f\", \"arrowhead\": 0, \"arrowwidth\": 1}, \"autotypenumbers\": \"strict\", \"coloraxis\": {\"colorbar\": {\"outlinewidth\": 0, \"ticks\": \"\"}}, \"colorscale\": {\"diverging\": [[0, \"#8e0152\"], [0.1, \"#c51b7d\"], [0.2, \"#de77ae\"], [0.3, \"#f1b6da\"], [0.4, \"#fde0ef\"], [0.5, \"#f7f7f7\"], [0.6, \"#e6f5d0\"], [0.7, \"#b8e186\"], [0.8, \"#7fbc41\"], [0.9, \"#4d9221\"], [1, \"#276419\"]], \"sequential\": [[0.0, \"#0d0887\"], [0.1111111111111111, \"#46039f\"], [0.2222222222222222, \"#7201a8\"], [0.3333333333333333, \"#9c179e\"], [0.4444444444444444, \"#bd3786\"], [0.5555555555555556, \"#d8576b\"], [0.6666666666666666, \"#ed7953\"], [0.7777777777777778, \"#fb9f3a\"], [0.8888888888888888, \"#fdca26\"], [1.0, \"#f0f921\"]], \"sequentialminus\": [[0.0, \"#0d0887\"], [0.1111111111111111, \"#46039f\"], [0.2222222222222222, \"#7201a8\"], [0.3333333333333333, \"#9c179e\"], [0.4444444444444444, \"#bd3786\"], [0.5555555555555556, \"#d8576b\"], [0.6666666666666666, \"#ed7953\"], [0.7777777777777778, \"#fb9f3a\"], [0.8888888888888888, \"#fdca26\"], [1.0, \"#f0f921\"]]}, \"colorway\": [\"#636efa\", \"#EF553B\", \"#00cc96\", \"#ab63fa\", \"#FFA15A\", \"#19d3f3\", \"#FF6692\", \"#B6E880\", \"#FF97FF\", \"#FECB52\"], \"font\": {\"color\": \"#2a3f5f\"}, \"geo\": {\"bgcolor\": \"white\", \"lakecolor\": \"white\", \"landcolor\": \"#E5ECF6\", \"showlakes\": true, \"showland\": true, \"subunitcolor\": \"white\"}, \"hoverlabel\": {\"align\": \"left\"}, \"hovermode\": \"closest\", \"mapbox\": {\"style\": \"light\"}, \"paper_bgcolor\": \"white\", \"plot_bgcolor\": \"#E5ECF6\", \"polar\": {\"angularaxis\": {\"gridcolor\": \"white\", \"linecolor\": \"white\", \"ticks\": \"\"}, \"bgcolor\": \"#E5ECF6\", \"radialaxis\": {\"gridcolor\": \"white\", \"linecolor\": \"white\", \"ticks\": \"\"}}, \"scene\": {\"xaxis\": {\"backgroundcolor\": \"#E5ECF6\", \"gridcolor\": \"white\", \"gridwidth\": 2, \"linecolor\": \"white\", \"showbackground\": true, \"ticks\": \"\", \"zerolinecolor\": \"white\"}, \"yaxis\": {\"backgroundcolor\": \"#E5ECF6\", \"gridcolor\": \"white\", \"gridwidth\": 2, \"linecolor\": \"white\", \"showbackground\": true, \"ticks\": \"\", \"zerolinecolor\": \"white\"}, \"zaxis\": {\"backgroundcolor\": \"#E5ECF6\", \"gridcolor\": \"white\", \"gridwidth\": 2, \"linecolor\": \"white\", \"showbackground\": true, \"ticks\": \"\", \"zerolinecolor\": \"white\"}}, \"shapedefaults\": {\"line\": {\"color\": \"#2a3f5f\"}}, \"ternary\": {\"aaxis\": {\"gridcolor\": \"white\", \"linecolor\": \"white\", \"ticks\": \"\"}, \"baxis\": {\"gridcolor\": \"white\", \"linecolor\": \"white\", \"ticks\": \"\"}, \"bgcolor\": \"#E5ECF6\", \"caxis\": {\"gridcolor\": \"white\", \"linecolor\": \"white\", \"ticks\": \"\"}}, \"title\": {\"x\": 0.05}, \"xaxis\": {\"automargin\": true, \"gridcolor\": \"white\", \"linecolor\": \"white\", \"ticks\": \"\", \"title\": {\"standoff\": 15}, \"zerolinecolor\": \"white\", \"zerolinewidth\": 2}, \"yaxis\": {\"automargin\": true, \"gridcolor\": \"white\", \"linecolor\": \"white\", \"ticks\": \"\", \"title\": {\"standoff\": 15}, \"zerolinecolor\": \"white\", \"zerolinewidth\": 2}}}, \"title\": {\"text\": \"Average Yearly Salary after removing outlier\"}, \"uniformtext\": {\"minsize\": 8, \"mode\": \"hide\"}, \"xaxis\": {\"anchor\": \"y\", \"domain\": [0.0, 1.0], \"title\": {\"text\": \"Customer ID\"}}, \"yaxis\": {\"anchor\": \"x\", \"domain\": [0.0, 1.0], \"title\": {\"text\": \"Amount in $\"}}},                        {\"responsive\": true}                    ).then(function(){\n",
       "                            \n",
       "var gd = document.getElementById('e4cda552-a9c4-4cf8-8023-17954fa98cee');\n",
       "var x = new MutationObserver(function (mutations, observer) {{\n",
       "        var display = window.getComputedStyle(gd).display;\n",
       "        if (!display || display === 'none') {{\n",
       "            console.log([gd, 'removed!']);\n",
       "            Plotly.purge(gd);\n",
       "            observer.disconnect();\n",
       "        }}\n",
       "}});\n",
       "\n",
       "// Listen for the removal of the full notebook cells\n",
       "var notebookContainer = gd.closest('#notebook-container');\n",
       "if (notebookContainer) {{\n",
       "    x.observe(notebookContainer, {childList: true});\n",
       "}}\n",
       "\n",
       "// Listen for the clearing of the current output cell\n",
       "var outputEl = gd.closest('.output');\n",
       "if (outputEl) {{\n",
       "    x.observe(outputEl, {childList: true});\n",
       "}}\n",
       "\n",
       "                        })                };                });            </script>        </div>"
      ]
     },
     "metadata": {},
     "output_type": "display_data"
    }
   ],
   "source": [
    "fig = px.bar(annual_salary_DataFrame_without_outlier, title=\"Average Yearly Salary after removing outlier\", \n",
    "            labels={\"value\": \"Amount in $\", \"index\": \"Customer ID\"})\n",
    "fig.update_layout(uniformtext_minsize=8, uniformtext_mode='hide')\n",
    "fig.show()"
   ]
  },
  {
   "cell_type": "code",
   "execution_count": 103,
   "id": "stretch-cross",
   "metadata": {},
   "outputs": [],
   "source": [
    "less_than_ten_thousand = {}\n",
    "between_ten_thirty_thousand = {}\n",
    "between_thirty_fifty = {}\n",
    "between_fifty_seventy = {}\n",
    "between_seventy_ninety = {}\n",
    "above_ninety = {}\n",
    "\n",
    "for customer, salary_estimate in annual_salary_estimate.items():\n",
    "    if salary_estimate < 10000:\n",
    "        less_than_ten_thousand[customer] = salary_estimate\n",
    "    elif 10000 < salary_estimate < 30000:\n",
    "        between_ten_thirty_thousand[customer] = salary_estimate\n",
    "    elif 30000 < salary_estimate < 50000:\n",
    "        between_thirty_fifty[customer] = salary_estimate\n",
    "    elif 50000 < salary_estimate < 70000:\n",
    "        between_fifty_seventy[customer] = salary_estimate\n",
    "    elif 70000 < salary_estimate < 90000:\n",
    "        between_seventy_ninety[customer] = salary_estimate\n",
    "    else:\n",
    "        above_ninety[customer] = salary_estimate"
   ]
  },
  {
   "cell_type": "code",
   "execution_count": 109,
   "id": "specified-rubber",
   "metadata": {},
   "outputs": [
    {
     "name": "stdout",
     "output_type": "stream",
     "text": [
      "Crude annual salary estimates\n",
      "\n",
      "\n",
      "Customers with salaries less than $10000:\n",
      "dict_items([('AA1142', 12.0), ('AA1242', 1730.04), ('AA1276', 6517.44), ('AA1455', 3559.92), ('AA638', 5599.2), ('AA736', 12.96), ('AA796', 3323.76), ('AA812', 3.36), ('AA863', 1230.0), ('AA916', 2307.6)])\n",
      "\n",
      "Customers with salaries between $10000 and $30000:\n",
      "dict_items([('AA1066', 18677.16), ('AA1225', 10993.44), ('AA1238', 15775.68), ('AA1307', 25069.08), ('AA1396', 10566.36), ('AA1478', 10578.96), ('AA579', 17636.76), ('AA598', 23187.12), ('AA597', 17636.76), ('AA616', 10455.84), ('AA640', 23779.2), ('AA747', 15011.88), ('AA756', 15065.28), ('AA896', 20500.68), ('AA982', 15851.4)])\n",
      "\n",
      "Customers with salaries between $30000 and $50000:\n",
      "dict_items([('AA1001', 43405.56), ('AA1382', 42269.52), ('AA1418', 30931.44), ('AA1480', 44839.68), ('AA516', 42408.84), ('AA546', 42236.4), ('AA557', 36005.88), ('AA562', 43318.92), ('AA573', 41154.48), ('AA581', 43318.92), ('AA600', 42236.4), ('AA607', 43318.92), ('AA614', 43246.08), ('AA633', 40193.28), ('AA634', 41101.2), ('AA809', 39654.0), ('AA930', 45013.2)])\n",
      "\n",
      "Customers with salaries between $50000 and $70000:\n",
      "dict_items([('AA1133', 55996.08), ('AA1301', 62463.96), ('AA1520', 64140.72), ('AA1521', 51161.76), ('AA541', 67267.2), ('AA555', 67267.2), ('AA582', 67267.2), ('AA592', 67267.2), ('AA595', 53902.92), ('AA601', 53902.92), ('AA604', 65951.76), ('AA608', 65951.76), ('AA618', 65951.76), ('AA622', 65951.76), ('AA635', 64636.32), ('AA698', 66838.56), ('AA704', 55690.56), ('AA805', 61605.6), ('AA920', 56101.8)])\n",
      "\n",
      "Customers with salaries between $70000 and $90000:\n",
      "dict_items([('AA564', 73098.84), ('AA569', 73098.84), ('AA575', 81295.56), ('AA586', 73098.84), ('AA588', 81295.56), ('AA619', 80733.24), ('AA707', 70983.0)])\n",
      "\n",
      "Customers with salaries above $90000:\n",
      "dict_items([('AA1056', 93332.88), ('AA1401', 323904.48), ('AA815', 153861.72)])\n"
     ]
    }
   ],
   "source": [
    "print(f\"Crude annual salary estimates\\n\\n\")\n",
    "\n",
    "print(f\"Customers with salaries less than $10000:\")\n",
    "print(f\"{less_than_ten_thousand.items()}\\n\")\n",
    "print(f\"Customers with salaries between $10000 and $30000:\")\n",
    "print(f\"{between_ten_thirty_thousand.items()}\\n\")\n",
    "print(f\"Customers with salaries between $30000 and $50000:\")\n",
    "print(f\"{between_thirty_fifty.items()}\\n\")\n",
    "print(f\"Customers with salaries between $50000 and $70000:\")\n",
    "print(f\"{between_fifty_seventy.items()}\\n\")\n",
    "print(f\"Customers with salaries between $70000 and $90000:\")\n",
    "print(f\"{between_seventy_ninety.items()}\\n\")\n",
    "print(f\"Customers with salaries above $90000:\")\n",
    "print(f\"{above_ninety.items()}\")"
   ]
  },
  {
   "cell_type": "code",
   "execution_count": null,
   "id": "intermediate-trance",
   "metadata": {},
   "outputs": [],
   "source": []
  }
 ],
 "metadata": {
  "kernelspec": {
   "display_name": "Python 3",
   "language": "python",
   "name": "python3"
  },
  "language_info": {
   "codemirror_mode": {
    "name": "ipython",
    "version": 3
   },
   "file_extension": ".py",
   "mimetype": "text/x-python",
   "name": "python",
   "nbconvert_exporter": "python",
   "pygments_lexer": "ipython3",
   "version": "3.8.3"
  }
 },
 "nbformat": 4,
 "nbformat_minor": 5
}
