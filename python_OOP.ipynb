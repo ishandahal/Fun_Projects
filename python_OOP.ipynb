{
  "nbformat": 4,
  "nbformat_minor": 0,
  "metadata": {
    "colab": {
      "name": "python_OOP.ipynb",
      "provenance": [],
      "authorship_tag": "ABX9TyO9q3P7k4sAEPPy7lbXdhLo",
      "include_colab_link": true
    },
    "kernelspec": {
      "name": "python3",
      "display_name": "Python 3"
    }
  },
  "cells": [
    {
      "cell_type": "markdown",
      "metadata": {
        "id": "view-in-github",
        "colab_type": "text"
      },
      "source": [
        "<a href=\"https://colab.research.google.com/github/ishandahal/Fun_Projects/blob/master/python_OOP.ipynb\" target=\"_parent\"><img src=\"https://colab.research.google.com/assets/colab-badge.svg\" alt=\"Open In Colab\"/></a>"
      ]
    },
    {
      "cell_type": "markdown",
      "metadata": {
        "id": "2fBDjFboa2Zi",
        "colab_type": "text"
      },
      "source": [
        "###OOP: Python\n",
        "Class:"
      ]
    },
    {
      "cell_type": "code",
      "metadata": {
        "id": "goBqwCFsa96V",
        "colab_type": "code",
        "colab": {}
      },
      "source": [
        "class Rectangle:\n",
        "\n",
        "    def __init__(self, width, height, center=(0,0)):\n",
        "\n",
        "        self.height = height\n",
        "        self.width = width\n",
        "        self.center = center\n",
        "    \n",
        "    def __repr__(self):\n",
        "        return f\"Rectangle (width={self.width}, height={self.height}, center={self.center}\"\n",
        "\n",
        "    def compute_area(self):\n",
        "        return self.width * self.height\n",
        "\n",
        "    def compute_corners(self):\n",
        "        cx,cy = self.center\n",
        "        dx = self.width / 2.0\n",
        "        dy = self.height / 2.0\n",
        "        return [(cx + x, cy + y) for x,y in ((dx, dy), (dx, -dy), (-dx, -dy), (-dx, dy))]\n"
      ],
      "execution_count": 1,
      "outputs": []
    },
    {
      "cell_type": "code",
      "metadata": {
        "id": "KWX8aaEfdZgb",
        "colab_type": "code",
        "colab": {}
      },
      "source": [
        "#Creating an instance of a rectangle class\n",
        "rect1 = Rectangle(4, 10)"
      ],
      "execution_count": 2,
      "outputs": []
    },
    {
      "cell_type": "code",
      "metadata": {
        "id": "uYmlDA6Nd1xX",
        "colab_type": "code",
        "colab": {
          "base_uri": "https://localhost:8080/",
          "height": 34
        },
        "outputId": "55c60b63-242e-4cba-a735-47488b2d3001"
      },
      "source": [
        "print(rect1)"
      ],
      "execution_count": 3,
      "outputs": [
        {
          "output_type": "stream",
          "text": [
            "Rectangle (width=4, height=10, center=(0, 0)\n"
          ],
          "name": "stdout"
        }
      ]
    },
    {
      "cell_type": "code",
      "metadata": {
        "id": "dMQ2nYRmd3Um",
        "colab_type": "code",
        "colab": {
          "base_uri": "https://localhost:8080/",
          "height": 52
        },
        "outputId": "2ac019f9-aea5-4a97-b5c5-90469b52c834"
      },
      "source": [
        "#Calling class methods\n",
        "print( f\"The area of the rectange is {rect1.compute_area()}.\") \n",
        "print(f\"The corners of the rectangle are {rect1.compute_corners()}.\")"
      ],
      "execution_count": 4,
      "outputs": [
        {
          "output_type": "stream",
          "text": [
            "The area of the rectange is 40.\n",
            "The corners of the rectangle are [(2.0, 5.0), (2.0, -5.0), (-2.0, -5.0), (-2.0, 5.0)].\n"
          ],
          "name": "stdout"
        }
      ]
    },
    {
      "cell_type": "code",
      "metadata": {
        "id": "Plw18IGKd7Y_",
        "colab_type": "code",
        "colab": {}
      },
      "source": [
        "##Creating a new class\n",
        "class Dog:\n",
        "    \n",
        "    def __init__(self, name):\n",
        "        self.name = name\n",
        "    \n",
        "    def __repr__(self):\n",
        "        return self.name\n",
        "\n",
        "    def speak(self, say_something):\n",
        "        return \"woof \" + say_something + ' woof'\n",
        "    \n"
      ],
      "execution_count": 5,
      "outputs": []
    },
    {
      "cell_type": "code",
      "metadata": {
        "id": "aeJ2QG6xhMnE",
        "colab_type": "code",
        "colab": {}
      },
      "source": [
        "dog1 = Dog('Spike')"
      ],
      "execution_count": 6,
      "outputs": []
    },
    {
      "cell_type": "code",
      "metadata": {
        "id": "hVdPvPRKj-_D",
        "colab_type": "code",
        "colab": {
          "base_uri": "https://localhost:8080/",
          "height": 36
        },
        "outputId": "41b579bd-4b15-4f6b-c204-3ee6843d927b"
      },
      "source": [
        "dog1.name"
      ],
      "execution_count": 7,
      "outputs": [
        {
          "output_type": "execute_result",
          "data": {
            "application/vnd.google.colaboratory.intrinsic+json": {
              "type": "string"
            },
            "text/plain": [
              "'Spike'"
            ]
          },
          "metadata": {
            "tags": []
          },
          "execution_count": 7
        }
      ]
    },
    {
      "cell_type": "code",
      "metadata": {
        "id": "8RRpQ9_gkAMs",
        "colab_type": "code",
        "colab": {
          "base_uri": "https://localhost:8080/",
          "height": 34
        },
        "outputId": "d9cd125d-bdc2-4fac-ff5f-908a9e915fd4"
      },
      "source": [
        "print(dog1)"
      ],
      "execution_count": 8,
      "outputs": [
        {
          "output_type": "stream",
          "text": [
            "Spike\n"
          ],
          "name": "stdout"
        }
      ]
    },
    {
      "cell_type": "code",
      "metadata": {
        "id": "v9yI4vuVkBej",
        "colab_type": "code",
        "colab": {
          "base_uri": "https://localhost:8080/",
          "height": 36
        },
        "outputId": "1b5b3739-c198-43f6-b999-51a97bb1a9f4"
      },
      "source": [
        "dog1.speak(\"Hello\")"
      ],
      "execution_count": 9,
      "outputs": [
        {
          "output_type": "execute_result",
          "data": {
            "application/vnd.google.colaboratory.intrinsic+json": {
              "type": "string"
            },
            "text/plain": [
              "'woof Hello woof'"
            ]
          },
          "metadata": {
            "tags": []
          },
          "execution_count": 9
        }
      ]
    },
    {
      "cell_type": "code",
      "metadata": {
        "id": "bRtZ9VXBkDc7",
        "colab_type": "code",
        "colab": {
          "base_uri": "https://localhost:8080/",
          "height": 34
        },
        "outputId": "398b7fbf-c83f-4756-f6df-5487e671bd3c"
      },
      "source": [
        "hasattr(dog1, 'breed'), hasattr(dog1, 'name')"
      ],
      "execution_count": 10,
      "outputs": [
        {
          "output_type": "execute_result",
          "data": {
            "text/plain": [
              "(False, True)"
            ]
          },
          "metadata": {
            "tags": []
          },
          "execution_count": 10
        }
      ]
    },
    {
      "cell_type": "code",
      "metadata": {
        "id": "O8L07oxtlO_O",
        "colab_type": "code",
        "colab": {
          "base_uri": "https://localhost:8080/",
          "height": 36
        },
        "outputId": "88d7afe0-bdf6-435f-fef0-cd94d1af1dae"
      },
      "source": [
        "getattr(dog1, \"name\")"
      ],
      "execution_count": 11,
      "outputs": [
        {
          "output_type": "execute_result",
          "data": {
            "application/vnd.google.colaboratory.intrinsic+json": {
              "type": "string"
            },
            "text/plain": [
              "'Spike'"
            ]
          },
          "metadata": {
            "tags": []
          },
          "execution_count": 11
        }
      ]
    },
    {
      "cell_type": "code",
      "metadata": {
        "id": "pRiUhagDld8y",
        "colab_type": "code",
        "colab": {
          "base_uri": "https://localhost:8080/",
          "height": 34
        },
        "outputId": "dd6cadf3-4d19-4548-f98c-6615fd6a3a88"
      },
      "source": [
        "#Setting the atttribute from outside \n",
        "hasattr(dog1, 'Age'), setattr(dog1, \"Age\", '10')"
      ],
      "execution_count": 12,
      "outputs": [
        {
          "output_type": "execute_result",
          "data": {
            "text/plain": [
              "(False, None)"
            ]
          },
          "metadata": {
            "tags": []
          },
          "execution_count": 12
        }
      ]
    },
    {
      "cell_type": "code",
      "metadata": {
        "id": "PuhYp-RZlxhh",
        "colab_type": "code",
        "colab": {
          "base_uri": "https://localhost:8080/",
          "height": 36
        },
        "outputId": "5ee66409-68da-4643-fbdf-241416e9a2c1"
      },
      "source": [
        "getattr(dog1, 'Age')"
      ],
      "execution_count": 13,
      "outputs": [
        {
          "output_type": "execute_result",
          "data": {
            "application/vnd.google.colaboratory.intrinsic+json": {
              "type": "string"
            },
            "text/plain": [
              "'10'"
            ]
          },
          "metadata": {
            "tags": []
          },
          "execution_count": 13
        }
      ]
    },
    {
      "cell_type": "code",
      "metadata": {
        "id": "AMCJshG8mFxf",
        "colab_type": "code",
        "colab": {}
      },
      "source": [
        "#Setting attribute informally\n",
        "#Don't do this. Do it in the formal way by setting attributes or in the class\n",
        "dog1.breed = \"Bostoian\""
      ],
      "execution_count": 14,
      "outputs": []
    },
    {
      "cell_type": "code",
      "metadata": {
        "id": "iJwWt6HOmivz",
        "colab_type": "code",
        "colab": {
          "base_uri": "https://localhost:8080/",
          "height": 36
        },
        "outputId": "83617cef-8f45-415a-c16f-46604e071610"
      },
      "source": [
        "dog1.breed"
      ],
      "execution_count": 15,
      "outputs": [
        {
          "output_type": "execute_result",
          "data": {
            "application/vnd.google.colaboratory.intrinsic+json": {
              "type": "string"
            },
            "text/plain": [
              "'Bostoian'"
            ]
          },
          "metadata": {
            "tags": []
          },
          "execution_count": 15
        }
      ]
    },
    {
      "cell_type": "code",
      "metadata": {
        "id": "hBixVcQemk-R",
        "colab_type": "code",
        "colab": {
          "base_uri": "https://localhost:8080/",
          "height": 34
        },
        "outputId": "a3af29ee-cd95-484b-d63c-0fd655bbbc4f"
      },
      "source": [
        "isinstance(dog1, Dog)"
      ],
      "execution_count": 16,
      "outputs": [
        {
          "output_type": "execute_result",
          "data": {
            "text/plain": [
              "True"
            ]
          },
          "metadata": {
            "tags": []
          },
          "execution_count": 16
        }
      ]
    },
    {
      "cell_type": "markdown",
      "metadata": {
        "id": "eDvtczlHudGt",
        "colab_type": "text"
      },
      "source": [
        "##Instance Method"
      ]
    },
    {
      "cell_type": "code",
      "metadata": {
        "id": "CGqV8o_iugsf",
        "colab_type": "code",
        "colab": {}
      },
      "source": [
        "class Dummy:\n",
        "    def func(x):\n",
        "        return x"
      ],
      "execution_count": 17,
      "outputs": []
    },
    {
      "cell_type": "code",
      "metadata": {
        "id": "Xc6VNlcquoZw",
        "colab_type": "code",
        "colab": {
          "base_uri": "https://localhost:8080/",
          "height": 34
        },
        "outputId": "0ee0a33f-39b1-4e16-ee5e-0a402745467b"
      },
      "source": [
        "Dummy.func(2)"
      ],
      "execution_count": 18,
      "outputs": [
        {
          "output_type": "execute_result",
          "data": {
            "text/plain": [
              "2"
            ]
          },
          "metadata": {
            "tags": []
          },
          "execution_count": 18
        }
      ]
    },
    {
      "cell_type": "code",
      "metadata": {
        "id": "C0eYe3Liuqqn",
        "colab_type": "code",
        "colab": {
          "base_uri": "https://localhost:8080/",
          "height": 34
        },
        "outputId": "d7ec88b0-1158-4d75-fd9c-7ea0553b715f"
      },
      "source": [
        "inst = Dummy()\n",
        "inst.func(), inst"
      ],
      "execution_count": 19,
      "outputs": [
        {
          "output_type": "execute_result",
          "data": {
            "text/plain": [
              "(<__main__.Dummy at 0x7fe36e8d1048>, <__main__.Dummy at 0x7fe36e8d1048>)"
            ]
          },
          "metadata": {
            "tags": []
          },
          "execution_count": 19
        }
      ]
    },
    {
      "cell_type": "markdown",
      "metadata": {
        "id": "H2w3cLkSwOzS",
        "colab_type": "text"
      },
      "source": [
        "##Class Methods"
      ]
    },
    {
      "cell_type": "code",
      "metadata": {
        "id": "TlsuaI-lwQWO",
        "colab_type": "code",
        "colab": {}
      },
      "source": [
        "class Dummy:\n",
        "\n",
        "    @classmethod\n",
        "    def class_func(cls):\n",
        "        return cls\n"
      ],
      "execution_count": 20,
      "outputs": []
    },
    {
      "cell_type": "code",
      "metadata": {
        "id": "4BcK6CE5wkoP",
        "colab_type": "code",
        "colab": {}
      },
      "source": [
        "inst = Dummy()\n",
        "a = inst.class_func()"
      ],
      "execution_count": 21,
      "outputs": []
    },
    {
      "cell_type": "code",
      "metadata": {
        "id": "8_NOQG_nw2l6",
        "colab_type": "code",
        "colab": {
          "base_uri": "https://localhost:8080/",
          "height": 34
        },
        "outputId": "ba06aae5-dcb9-44c4-bc0f-1a56466e7558"
      },
      "source": [
        "a is Dummy"
      ],
      "execution_count": 22,
      "outputs": [
        {
          "output_type": "execute_result",
          "data": {
            "text/plain": [
              "True"
            ]
          },
          "metadata": {
            "tags": []
          },
          "execution_count": 22
        }
      ]
    },
    {
      "cell_type": "code",
      "metadata": {
        "id": "5haedgdmxE3j",
        "colab_type": "code",
        "colab": {
          "base_uri": "https://localhost:8080/",
          "height": 34
        },
        "outputId": "6a0958fb-5384-4878-c3a7-d0c0b9ff94ae"
      },
      "source": [
        "#Example\n",
        "dict.fromkeys('abcd', (2,3,4))"
      ],
      "execution_count": 23,
      "outputs": [
        {
          "output_type": "execute_result",
          "data": {
            "text/plain": [
              "{'a': (2, 3, 4), 'b': (2, 3, 4), 'c': (2, 3, 4), 'd': (2, 3, 4)}"
            ]
          },
          "metadata": {
            "tags": []
          },
          "execution_count": 23
        }
      ]
    },
    {
      "cell_type": "markdown",
      "metadata": {
        "id": "Suux_vjQ3J0u",
        "colab_type": "text"
      },
      "source": [
        "##Static method"
      ]
    },
    {
      "cell_type": "code",
      "metadata": {
        "id": "ZdspX2Sz3LtK",
        "colab_type": "code",
        "colab": {}
      },
      "source": [
        "##No arguments are implicitly passes.\n",
        "class Car:\n",
        "\n",
        "    @staticmethod\n",
        "    def car_color(color):\n",
        "        return color"
      ],
      "execution_count": 30,
      "outputs": []
    },
    {
      "cell_type": "code",
      "metadata": {
        "id": "QNZFVX4G3jNV",
        "colab_type": "code",
        "colab": {
          "base_uri": "https://localhost:8080/",
          "height": 36
        },
        "outputId": "7efa5c8d-aac3-4868-bdb2-5dcea0548b96"
      },
      "source": [
        "car1 = Car()\n",
        "car1.car_color('red')"
      ],
      "execution_count": 33,
      "outputs": [
        {
          "output_type": "execute_result",
          "data": {
            "application/vnd.google.colaboratory.intrinsic+json": {
              "type": "string"
            },
            "text/plain": [
              "'red'"
            ]
          },
          "metadata": {
            "tags": []
          },
          "execution_count": 33
        }
      ]
    },
    {
      "cell_type": "code",
      "metadata": {
        "id": "juTL8np73vuL",
        "colab_type": "code",
        "colab": {
          "base_uri": "https://localhost:8080/",
          "height": 36
        },
        "outputId": "6a617ab5-175f-4e20-af53-1e0c27eab51b"
      },
      "source": [
        "Car.car_color('blue')"
      ],
      "execution_count": 34,
      "outputs": [
        {
          "output_type": "execute_result",
          "data": {
            "application/vnd.google.colaboratory.intrinsic+json": {
              "type": "string"
            },
            "text/plain": [
              "'blue'"
            ]
          },
          "metadata": {
            "tags": []
          },
          "execution_count": 34
        }
      ]
    },
    {
      "cell_type": "markdown",
      "metadata": {
        "id": "MQjCXOap5npt",
        "colab_type": "text"
      },
      "source": [
        "##Inheritance"
      ]
    },
    {
      "cell_type": "code",
      "metadata": {
        "id": "SU7rQ50K5o_S",
        "colab_type": "code",
        "colab": {}
      },
      "source": [
        "class Square(Rectangle):\n",
        "    def __init__(self, side, center=(0,0)):\n",
        "        super().__init__(side, side, center)"
      ],
      "execution_count": 35,
      "outputs": []
    },
    {
      "cell_type": "code",
      "metadata": {
        "id": "8S8fhJCW6a7Z",
        "colab_type": "code",
        "colab": {}
      },
      "source": [
        "my_square = Square(2)"
      ],
      "execution_count": 36,
      "outputs": []
    },
    {
      "cell_type": "code",
      "metadata": {
        "id": "Ynp95Asv6e8_",
        "colab_type": "code",
        "colab": {
          "base_uri": "https://localhost:8080/",
          "height": 34
        },
        "outputId": "e7e85ee4-fe14-4470-a98d-b84686435cd9"
      },
      "source": [
        "my_square.compute_area()"
      ],
      "execution_count": 37,
      "outputs": [
        {
          "output_type": "execute_result",
          "data": {
            "text/plain": [
              "4"
            ]
          },
          "metadata": {
            "tags": []
          },
          "execution_count": 37
        }
      ]
    },
    {
      "cell_type": "code",
      "metadata": {
        "id": "Gk2Tt1fW6hEv",
        "colab_type": "code",
        "colab": {
          "base_uri": "https://localhost:8080/",
          "height": 34
        },
        "outputId": "65e3abf5-12cd-47e8-9147-7b4ed3aefaa3"
      },
      "source": [
        "print(my_square)"
      ],
      "execution_count": 38,
      "outputs": [
        {
          "output_type": "stream",
          "text": [
            "Rectangle (width=2, height=2, center=(0, 0)\n"
          ],
          "name": "stdout"
        }
      ]
    },
    {
      "cell_type": "code",
      "metadata": {
        "id": "MEv228ug6pXG",
        "colab_type": "code",
        "colab": {}
      },
      "source": [
        ""
      ],
      "execution_count": null,
      "outputs": []
    }
  ]
}