{
  "nbformat": 4,
  "nbformat_minor": 0,
  "metadata": {
    "colab": {
      "name": "Mnist_full_digit_classification.ipynb",
      "provenance": [],
      "authorship_tag": "ABX9TyNR7bccadny2/gc8UOCY5VS",
      "include_colab_link": true
    },
    "kernelspec": {
      "name": "python3",
      "display_name": "Python 3"
    },
    "accelerator": "GPU"
  },
  "cells": [
    {
      "cell_type": "markdown",
      "metadata": {
        "id": "view-in-github",
        "colab_type": "text"
      },
      "source": [
        "<a href=\"https://colab.research.google.com/github/ishandahal/Fun_Projects/blob/master/Mnist_full_digit_classification.ipynb\" target=\"_parent\"><img src=\"https://colab.research.google.com/assets/colab-badge.svg\" alt=\"Open In Colab\"/></a>"
      ]
    },
    {
      "cell_type": "markdown",
      "metadata": {
        "id": "ZDpllNDaUFbV",
        "colab_type": "text"
      },
      "source": [
        "###Attempting to create a minist digit classifier."
      ]
    },
    {
      "cell_type": "code",
      "metadata": {
        "id": "1duvGAmNSrXL",
        "colab_type": "code",
        "colab": {}
      },
      "source": [
        "!pip install fastai --upgrade -q"
      ],
      "execution_count": 1,
      "outputs": []
    },
    {
      "cell_type": "code",
      "metadata": {
        "id": "PhYF44fCSgUv",
        "colab_type": "code",
        "colab": {}
      },
      "source": [
        "import fastai\n",
        "from fastai.vision.all import *\n",
        "matplotlib.rc('image', cmap='Greys')"
      ],
      "execution_count": 2,
      "outputs": []
    },
    {
      "cell_type": "code",
      "metadata": {
        "id": "gRqvgJ9gTAII",
        "colab_type": "code",
        "colab": {}
      },
      "source": [
        "path = untar_data(URLs.MNIST)\n",
        "Path.BASE_PATH = path"
      ],
      "execution_count": 3,
      "outputs": []
    },
    {
      "cell_type": "code",
      "metadata": {
        "id": "OMj_U-6zUWPx",
        "colab_type": "code",
        "colab": {
          "base_uri": "https://localhost:8080/",
          "height": 34
        },
        "outputId": "16d59ab1-bc21-486c-ec7b-7aa7d4be6418"
      },
      "source": [
        "#Checking the contents of the dataset\n",
        "path.ls()"
      ],
      "execution_count": 4,
      "outputs": [
        {
          "output_type": "execute_result",
          "data": {
            "text/plain": [
              "(#2) [Path('training'),Path('testing')]"
            ]
          },
          "metadata": {
            "tags": []
          },
          "execution_count": 4
        }
      ]
    },
    {
      "cell_type": "markdown",
      "metadata": {
        "id": "Ni0GyJ5xcTf8",
        "colab_type": "text"
      },
      "source": [
        "###Lesson learned object needs to be modified by .ls() for it to be iterable.\n"
      ]
    },
    {
      "cell_type": "code",
      "metadata": {
        "id": "oRx2L5mvUnvM",
        "colab_type": "code",
        "colab": {
          "base_uri": "https://localhost:8080/",
          "height": 34
        },
        "outputId": "27e80b07-8d5a-458f-df93-5e991d8486dd"
      },
      "source": [
        "#Looking at the training set only\n",
        "train_set = (path / 'training').ls().sorted()\n",
        "train_set"
      ],
      "execution_count": 5,
      "outputs": [
        {
          "output_type": "execute_result",
          "data": {
            "text/plain": [
              "(#10) [Path('training/0'),Path('training/1'),Path('training/2'),Path('training/3'),Path('training/4'),Path('training/5'),Path('training/6'),Path('training/7'),Path('training/8'),Path('training/9')]"
            ]
          },
          "metadata": {
            "tags": []
          },
          "execution_count": 5
        }
      ]
    },
    {
      "cell_type": "code",
      "metadata": {
        "id": "QXZjkZ8XaXn2",
        "colab_type": "code",
        "colab": {
          "base_uri": "https://localhost:8080/",
          "height": 34
        },
        "outputId": "83ab48a8-af02-4e52-f17b-2312f254fb87"
      },
      "source": [
        "train_set[0]"
      ],
      "execution_count": 6,
      "outputs": [
        {
          "output_type": "execute_result",
          "data": {
            "text/plain": [
              "Path('training/0')"
            ]
          },
          "metadata": {
            "tags": []
          },
          "execution_count": 6
        }
      ]
    },
    {
      "cell_type": "code",
      "metadata": {
        "id": "UNapAlwQU5KR",
        "colab_type": "code",
        "colab": {
          "base_uri": "https://localhost:8080/",
          "height": 54
        },
        "outputId": "1b1b5b9a-6ff8-45ae-904e-b162e7fe0bc7"
      },
      "source": [
        "#Let's see what the digits look like. Just the 9s.\n",
        "sample_nines = train_set[9].ls()\n",
        "sample_nines"
      ],
      "execution_count": 7,
      "outputs": [
        {
          "output_type": "execute_result",
          "data": {
            "text/plain": [
              "(#5949) [Path('training/9/17107.png'),Path('training/9/41306.png'),Path('training/9/52315.png'),Path('training/9/46435.png'),Path('training/9/20333.png'),Path('training/9/31659.png'),Path('training/9/25828.png'),Path('training/9/27128.png'),Path('training/9/43324.png'),Path('training/9/3913.png')...]"
            ]
          },
          "metadata": {
            "tags": []
          },
          "execution_count": 7
        }
      ]
    },
    {
      "cell_type": "code",
      "metadata": {
        "id": "q4lv57JfVj9k",
        "colab_type": "code",
        "colab": {
          "base_uri": "https://localhost:8080/",
          "height": 45
        },
        "outputId": "1b2328da-b8d4-4b97-9ff2-fbdc2da068b5"
      },
      "source": [
        "view_nine = Image.open(sample_nines[9])\n",
        "view_nine"
      ],
      "execution_count": 8,
      "outputs": [
        {
          "output_type": "execute_result",
          "data": {
            "image/png": "[encoded data removed]",
            "text/plain": [
              "<PIL.PngImagePlugin.PngImageFile image mode=L size=28x28 at 0x7FC8EEB02C88>"
            ]
          },
          "metadata": {
            "tags": []
          },
          "execution_count": 8
        }
      ]
    },
    {
      "cell_type": "markdown",
      "metadata": {
        "id": "a8a7iXH8hrWn",
        "colab_type": "text"
      },
      "source": [
        "###Converting images into tensors and stacking them together in the training set."
      ]
    },
    {
      "cell_type": "code",
      "metadata": {
        "id": "Ymm2bjLpi8I9",
        "colab_type": "code",
        "colab": {}
      },
      "source": [
        "zeros = train_set[0].ls().sorted()\n",
        "ones = train_set[1].ls().sorted()\n",
        "zeros = train_set"
      ],
      "execution_count": 9,
      "outputs": []
    },
    {
      "cell_type": "code",
      "metadata": {
        "id": "LtnU-uqUj1jB",
        "colab_type": "code",
        "colab": {}
      },
      "source": [
        "##Function to create a dictionary of all the images into their respective named containers\n",
        "def dict_for_digits(path):\n",
        "    str_ = (0,1,2,3,4,5,6,7,8,9)\n",
        "    new_dict = {str_[idx]: letters.ls() for idx, letters in enumerate(path)}\n",
        "    return new_dict\n"
      ],
      "execution_count": 10,
      "outputs": []
    },
    {
      "cell_type": "code",
      "metadata": {
        "id": "NysafyIx5yMM",
        "colab_type": "code",
        "colab": {
          "base_uri": "https://localhost:8080/",
          "height": 34
        },
        "outputId": "8d0be60e-3b81-4a71-c091-845099cab252"
      },
      "source": [
        "##Going to get the test set ready while here\n",
        "test_set = path / 'testing'\n",
        "test_set = test_set.ls().sorted()\n",
        "test_set"
      ],
      "execution_count": 11,
      "outputs": [
        {
          "output_type": "execute_result",
          "data": {
            "text/plain": [
              "(#10) [Path('testing/0'),Path('testing/1'),Path('testing/2'),Path('testing/3'),Path('testing/4'),Path('testing/5'),Path('testing/6'),Path('testing/7'),Path('testing/8'),Path('testing/9')]"
            ]
          },
          "metadata": {
            "tags": []
          },
          "execution_count": 11
        }
      ]
    },
    {
      "cell_type": "code",
      "metadata": {
        "id": "0Tigl6Td26Ct",
        "colab_type": "code",
        "colab": {}
      },
      "source": [
        "digit_dict_train = dict_for_digits(train_set)\n",
        "digit_dict_test = dict_for_digits(test_set)"
      ],
      "execution_count": 12,
      "outputs": []
    },
    {
      "cell_type": "code",
      "metadata": {
        "id": "iFehcZDV6s7E",
        "colab_type": "code",
        "colab": {
          "base_uri": "https://localhost:8080/",
          "height": 211
        },
        "outputId": "51f51771-7340-454e-c187-9842461cf9fd"
      },
      "source": [
        "digit_dict_train"
      ],
      "execution_count": 13,
      "outputs": [
        {
          "output_type": "execute_result",
          "data": {
            "text/plain": [
              "{0: (#5923) [Path('training/0/52804.png'),Path('training/0/27283.png'),Path('training/0/9966.png'),Path('training/0/33214.png'),Path('training/0/19303.png'),Path('training/0/4488.png'),Path('training/0/43613.png'),Path('training/0/4926.png'),Path('training/0/5844.png'),Path('training/0/41358.png')...],\n",
              " 1: (#6742) [Path('training/1/49392.png'),Path('training/1/26745.png'),Path('training/1/8648.png'),Path('training/1/53206.png'),Path('training/1/27789.png'),Path('training/1/49308.png'),Path('training/1/18852.png'),Path('training/1/5966.png'),Path('training/1/27657.png'),Path('training/1/8625.png')...],\n",
              " 2: (#5958) [Path('training/2/1662.png'),Path('training/2/21623.png'),Path('training/2/472.png'),Path('training/2/55508.png'),Path('training/2/47369.png'),Path('training/2/5318.png'),Path('training/2/54052.png'),Path('training/2/44934.png'),Path('training/2/5129.png'),Path('training/2/48986.png')...],\n",
              " 3: (#6131) [Path('training/3/40940.png'),Path('training/3/55876.png'),Path('training/3/27726.png'),Path('training/3/20675.png'),Path('training/3/17967.png'),Path('training/3/22619.png'),Path('training/3/24867.png'),Path('training/3/23747.png'),Path('training/3/58881.png'),Path('training/3/17403.png')...],\n",
              " 4: (#5842) [Path('training/4/15942.png'),Path('training/4/23596.png'),Path('training/4/11255.png'),Path('training/4/11460.png'),Path('training/4/45184.png'),Path('training/4/12285.png'),Path('training/4/40334.png'),Path('training/4/36909.png'),Path('training/4/9496.png'),Path('training/4/41528.png')...],\n",
              " 5: (#5421) [Path('training/5/23200.png'),Path('training/5/12829.png'),Path('training/5/11359.png'),Path('training/5/51298.png'),Path('training/5/54189.png'),Path('training/5/24077.png'),Path('training/5/49928.png'),Path('training/5/31772.png'),Path('training/5/43882.png'),Path('training/5/26404.png')...],\n",
              " 6: (#5918) [Path('training/6/11832.png'),Path('training/6/16425.png'),Path('training/6/15708.png'),Path('training/6/26114.png'),Path('training/6/35213.png'),Path('training/6/23569.png'),Path('training/6/1020.png'),Path('training/6/57891.png'),Path('training/6/45080.png'),Path('training/6/57881.png')...],\n",
              " 7: (#6265) [Path('training/7/27392.png'),Path('training/7/26255.png'),Path('training/7/42265.png'),Path('training/7/46053.png'),Path('training/7/54638.png'),Path('training/7/22754.png'),Path('training/7/36611.png'),Path('training/7/8805.png'),Path('training/7/4832.png'),Path('training/7/10002.png')...],\n",
              " 8: (#5851) [Path('training/8/7872.png'),Path('training/8/16467.png'),Path('training/8/6792.png'),Path('training/8/40945.png'),Path('training/8/37715.png'),Path('training/8/40453.png'),Path('training/8/4021.png'),Path('training/8/20315.png'),Path('training/8/4139.png'),Path('training/8/13436.png')...],\n",
              " 9: (#5949) [Path('training/9/17107.png'),Path('training/9/41306.png'),Path('training/9/52315.png'),Path('training/9/46435.png'),Path('training/9/20333.png'),Path('training/9/31659.png'),Path('training/9/25828.png'),Path('training/9/27128.png'),Path('training/9/43324.png'),Path('training/9/3913.png')...]}"
            ]
          },
          "metadata": {
            "tags": []
          },
          "execution_count": 13
        }
      ]
    },
    {
      "cell_type": "code",
      "metadata": {
        "id": "Rf9E1MWI7lxY",
        "colab_type": "code",
        "colab": {}
      },
      "source": [
        "#Testing tensor conversion before creating a function\n",
        "tensor(Image.open(digit_dict_train[0][0]))\n",
        "tnsr_0 = torch.stack([tensor(Image.open(o)) for o in digit_dict_train[0]])"
      ],
      "execution_count": 14,
      "outputs": []
    },
    {
      "cell_type": "code",
      "metadata": {
        "id": "LH9oeqyhBWm1",
        "colab_type": "code",
        "colab": {
          "base_uri": "https://localhost:8080/",
          "height": 34
        },
        "outputId": "3e007d63-1882-4044-c4ed-f0df953acd2b"
      },
      "source": [
        "tnsr_0.shape"
      ],
      "execution_count": 15,
      "outputs": [
        {
          "output_type": "execute_result",
          "data": {
            "text/plain": [
              "torch.Size([5923, 28, 28])"
            ]
          },
          "metadata": {
            "tags": []
          },
          "execution_count": 15
        }
      ]
    },
    {
      "cell_type": "code",
      "metadata": {
        "id": "DJrP31pP31X4",
        "colab_type": "code",
        "colab": {}
      },
      "source": [
        "##Converting images into tensors and stacking\n",
        "## Function that converts one folder of images to tensors\n",
        "\n",
        "def img_to_tnsr(folder):\n",
        "    \"\"\"Converts iterable images into tensors and stacks them\"\"\"\n",
        "    return torch.stack([tensor(Image.open(i)) for i in folder]).float() / 255.0\n",
        "\n",
        "def agg_tnsr_imgs(dicts):\n",
        "    \"\"\"Takes in dictionary of images and converts to stacked tensors\"\"\"\n",
        "    tnsr_folder = [img_to_tnsr(dicts[key]) for key, value in dicts.items()]\n",
        "    agged_tnsrs = torch.cat(tnsr_folder[:])\n",
        "    return agged_tnsrs\n"
      ],
      "execution_count": 16,
      "outputs": []
    },
    {
      "cell_type": "code",
      "metadata": {
        "id": "fNcHYSZxd8UQ",
        "colab_type": "code",
        "colab": {}
      },
      "source": [
        "### Creating one hot encoded vectors (labels) for the dataset\n",
        "## Using the dictionary as a guide\n",
        "def one_hot_label(rows, cols, index):\n",
        "\n",
        "    shape_of_vector = torch.zeros([rows,cols])\n",
        "    shape_of_vector[:, index] = 1\n",
        "    return shape_of_vector\n",
        "\n",
        "def label_all(dicts):\n",
        "    labels = [one_hot_label(len(values), len(dicts.keys()), keys) for keys,values in dicts.items()]\n",
        "    labels = torch.cat(labels[:])\n",
        "    return labels\n"
      ],
      "execution_count": 17,
      "outputs": []
    },
    {
      "cell_type": "code",
      "metadata": {
        "id": "NOhaolLgieaN",
        "colab_type": "code",
        "colab": {}
      },
      "source": [
        "#Training and test set with all the images converted to tensor, stacked and concatenated\n",
        "train_x = agg_tnsr_imgs(digit_dict_train)\n",
        "test_x = agg_tnsr_imgs(digit_dict_test)"
      ],
      "execution_count": 18,
      "outputs": []
    },
    {
      "cell_type": "code",
      "metadata": {
        "id": "BfxV4PFFieOx",
        "colab_type": "code",
        "colab": {
          "base_uri": "https://localhost:8080/",
          "height": 85
        },
        "outputId": "62aa8c09-cc97-445d-a455-540cea6a5254"
      },
      "source": [
        "show_image(test_x[1500]);"
      ],
      "execution_count": 19,
      "outputs": [
        {
          "output_type": "display_data",
          "data": {
            "image/png": "[encoded data removed]",
            "text/plain": [
              "<Figure size 72x72 with 1 Axes>"
            ]
          },
          "metadata": {
            "tags": [],
            "needs_background": "light"
          }
        }
      ]
    },
    {
      "cell_type": "code",
      "metadata": {
        "id": "mc6zV3esieDE",
        "colab_type": "code",
        "colab": {
          "base_uri": "https://localhost:8080/",
          "height": 34
        },
        "outputId": "d1ceffc8-fa04-4099-d010-83fa45610a6c"
      },
      "source": [
        "##Checking the data type \n",
        "train_x.dtype, test_x.dtype"
      ],
      "execution_count": 20,
      "outputs": [
        {
          "output_type": "execute_result",
          "data": {
            "text/plain": [
              "(torch.float32, torch.float32)"
            ]
          },
          "metadata": {
            "tags": []
          },
          "execution_count": 20
        }
      ]
    },
    {
      "cell_type": "code",
      "metadata": {
        "id": "En1GGXFl5aro",
        "colab_type": "code",
        "colab": {
          "base_uri": "https://localhost:8080/",
          "height": 34
        },
        "outputId": "1ae74e24-8507-4334-9a94-4323357bb149"
      },
      "source": [
        "train_x.shape, test_x.shape"
      ],
      "execution_count": 21,
      "outputs": [
        {
          "output_type": "execute_result",
          "data": {
            "text/plain": [
              "(torch.Size([60000, 28, 28]), torch.Size([10000, 28, 28]))"
            ]
          },
          "metadata": {
            "tags": []
          },
          "execution_count": 21
        }
      ]
    },
    {
      "cell_type": "code",
      "metadata": {
        "id": "mSs8k5Wk_Gug",
        "colab_type": "code",
        "colab": {}
      },
      "source": [
        "##Creating training and testing labels\n",
        "train_y = label_all(digit_dict_train)\n",
        "test_y = label_all(digit_dict_test)"
      ],
      "execution_count": 22,
      "outputs": []
    },
    {
      "cell_type": "code",
      "metadata": {
        "id": "wB31JuHTfr21",
        "colab_type": "code",
        "colab": {
          "base_uri": "https://localhost:8080/",
          "height": 34
        },
        "outputId": "d8ff408a-64b2-444d-9146-027358e77fba"
      },
      "source": [
        "train_y.shape, test_y.shape"
      ],
      "execution_count": 23,
      "outputs": [
        {
          "output_type": "execute_result",
          "data": {
            "text/plain": [
              "(torch.Size([60000, 10]), torch.Size([10000, 10]))"
            ]
          },
          "metadata": {
            "tags": []
          },
          "execution_count": 23
        }
      ]
    },
    {
      "cell_type": "code",
      "metadata": {
        "id": "7xxXw0eHcSzX",
        "colab_type": "code",
        "colab": {
          "base_uri": "https://localhost:8080/",
          "height": 34
        },
        "outputId": "e074308d-1d45-45ca-b2b2-d65f776dc12b"
      },
      "source": [
        "train_x.shape, test_x.shape"
      ],
      "execution_count": 24,
      "outputs": [
        {
          "output_type": "execute_result",
          "data": {
            "text/plain": [
              "(torch.Size([60000, 28, 28]), torch.Size([10000, 28, 28]))"
            ]
          },
          "metadata": {
            "tags": []
          },
          "execution_count": 24
        }
      ]
    },
    {
      "cell_type": "code",
      "metadata": {
        "id": "8ilfk212ciuA",
        "colab_type": "code",
        "colab": {}
      },
      "source": [
        "##Flattening the inputs for test and training set\n",
        "## Adding an extra rank for the linear model computation\n",
        "train_x = train_x.view(-1, 28*28)\n",
        "test_x = test_x.view(-1, 28*28)"
      ],
      "execution_count": 25,
      "outputs": []
    },
    {
      "cell_type": "code",
      "metadata": {
        "id": "TAj0QSQVdBmL",
        "colab_type": "code",
        "colab": {
          "base_uri": "https://localhost:8080/",
          "height": 34
        },
        "outputId": "8197ec24-6575-4464-82bc-917681eb88cb"
      },
      "source": [
        "# train_x[0].shape, test_x[0].shape\n",
        "train_x.shape, test_x.shape"
      ],
      "execution_count": 26,
      "outputs": [
        {
          "output_type": "execute_result",
          "data": {
            "text/plain": [
              "(torch.Size([60000, 784]), torch.Size([10000, 784]))"
            ]
          },
          "metadata": {
            "tags": []
          },
          "execution_count": 26
        }
      ]
    },
    {
      "cell_type": "code",
      "metadata": {
        "id": "8stzPgY9dXyG",
        "colab_type": "code",
        "colab": {
          "base_uri": "https://localhost:8080/",
          "height": 34
        },
        "outputId": "489356d2-8553-4f2f-f6d0-555fb59b77c6"
      },
      "source": [
        "## Collating training inputs and labels\n",
        "dset = list(zip(train_x, train_y))\n",
        "x, y = dset[0]\n",
        "x.shape, y.shape"
      ],
      "execution_count": 27,
      "outputs": [
        {
          "output_type": "execute_result",
          "data": {
            "text/plain": [
              "(torch.Size([784]), torch.Size([10]))"
            ]
          },
          "metadata": {
            "tags": []
          },
          "execution_count": 27
        }
      ]
    },
    {
      "cell_type": "code",
      "metadata": {
        "id": "iv6hAu15fCY4",
        "colab_type": "code",
        "colab": {
          "base_uri": "https://localhost:8080/",
          "height": 34
        },
        "outputId": "48513413-60a8-46d1-f1ee-4685ff377efd"
      },
      "source": [
        "#Preparing the Test set\n",
        "dset_test = list(zip(test_x, test_y))\n",
        "x, y = dset_test[0]\n",
        "x.shape, y.shape"
      ],
      "execution_count": 28,
      "outputs": [
        {
          "output_type": "execute_result",
          "data": {
            "text/plain": [
              "(torch.Size([784]), torch.Size([10]))"
            ]
          },
          "metadata": {
            "tags": []
          },
          "execution_count": 28
        }
      ]
    },
    {
      "cell_type": "code",
      "metadata": {
        "id": "6Qo2MBKzjnCf",
        "colab_type": "code",
        "colab": {}
      },
      "source": [
        "## Creating dataloader with the training set and test set\n",
        "dls = DataLoader(dset, bs=64, shuffle=True)\n",
        "dls_test = DataLoader(dset_test, bs=64)"
      ],
      "execution_count": 29,
      "outputs": []
    },
    {
      "cell_type": "code",
      "metadata": {
        "id": "JWhHyzelgWPR",
        "colab_type": "code",
        "colab": {
          "base_uri": "https://localhost:8080/",
          "height": 34
        },
        "outputId": "52c12acd-df38-4570-d701-ed05eb1bced7"
      },
      "source": [
        "x, y = dls.one_batch()\n",
        "x.shape, y.shape"
      ],
      "execution_count": 30,
      "outputs": [
        {
          "output_type": "execute_result",
          "data": {
            "text/plain": [
              "(torch.Size([64, 784]), torch.Size([64, 10]))"
            ]
          },
          "metadata": {
            "tags": []
          },
          "execution_count": 30
        }
      ]
    },
    {
      "cell_type": "code",
      "metadata": {
        "id": "vOZYWliYnDwv",
        "colab_type": "code",
        "colab": {}
      },
      "source": [
        "## Initializing parameters(weights and biases)\n",
        "def init_params():\n",
        "    return torch.rand(28*28, 10).requires_grad_() , torch.rand(10).requires_grad_()\n",
        "\n",
        "#Simple one layer Linear Model \n",
        "def linear1(input):\n",
        "    #input dimension n,28*28\n",
        "    #weight dimension 28*28, 10\n",
        "    #bias dimension 10, 1\n",
        "    #output dimension n,10\n",
        "    return input @ weights + bias"
      ],
      "execution_count": 31,
      "outputs": []
    },
    {
      "cell_type": "code",
      "metadata": {
        "id": "ZtESf5HEgFoT",
        "colab_type": "code",
        "colab": {}
      },
      "source": [
        "## Loss function \n",
        "## Going to need cross entropy loss function\n",
        "## Had a tough time implementing softmax on torch. Kept running into numerical\n",
        "## Solution is to remove subtract max from numerator\n",
        "# instability on the first row which threw made loss function nan. \n",
        "def soft_max(preds):\n",
        "    \"Takes predictions from the final layer and return probabilities\"\n",
        "    # return torch.exp(preds) / torch.sum(torch.exp(preds), dim=1).view(-1,1)\n",
        "    return preds.softmax(dim=1)\n",
        "    # return exp(preds) / exp(preds).sum(dim=0, keepdim=True) #Applying softmax to get probabilities\n",
        "\n",
        "\n",
        "def neg_log_like(preds, targs):\n",
        "    \"Takes the probabilities from softmax and returns average loss\"\n",
        "    return -(preds.log() * targs).sum() / len(preds)\n",
        "\n",
        "\n",
        "def cross_entropy(preds, targs):\n",
        "    \"Putting softmax and neg-log together\"\n",
        "    soft = soft_max(preds)\n",
        "    return neg_log_like(soft, targs)"
      ],
      "execution_count": 32,
      "outputs": []
    },
    {
      "cell_type": "code",
      "metadata": {
        "id": "gU9-TBbrh4zx",
        "colab_type": "code",
        "colab": {
          "base_uri": "https://localhost:8080/",
          "height": 34
        },
        "outputId": "01c254a1-342c-42e3-b41a-5bd26fe7e22f"
      },
      "source": [
        "## Performing a simple forward pass.\n",
        "images, label = dls.one_batch()\n",
        "weights, bias = init_params()\n",
        "preds = linear1(images)\n",
        "loss = cross_entropy(preds, label)\n",
        "loss"
      ],
      "execution_count": 33,
      "outputs": [
        {
          "output_type": "execute_result",
          "data": {
            "text/plain": [
              "tensor(4.2534, grad_fn=<DivBackward0>)"
            ]
          },
          "metadata": {
            "tags": []
          },
          "execution_count": 33
        }
      ]
    },
    {
      "cell_type": "code",
      "metadata": {
        "id": "MF8WiiOhix40",
        "colab_type": "code",
        "colab": {}
      },
      "source": [
        "loss.backward()"
      ],
      "execution_count": 34,
      "outputs": []
    },
    {
      "cell_type": "code",
      "metadata": {
        "id": "yrlCMoIWi8Bd",
        "colab_type": "code",
        "colab": {}
      },
      "source": [
        "lr = 1e-3\n",
        "weights.data -= lr * weights.grad\n",
        "bias.data -= lr * bias.grad"
      ],
      "execution_count": 35,
      "outputs": []
    },
    {
      "cell_type": "code",
      "metadata": {
        "id": "QkIFvI4AjWL4",
        "colab_type": "code",
        "colab": {}
      },
      "source": [
        "weights.grad = None\n",
        "bias.grad = None"
      ],
      "execution_count": 36,
      "outputs": []
    },
    {
      "cell_type": "code",
      "metadata": {
        "id": "3zJc6EmCjY15",
        "colab_type": "code",
        "colab": {
          "base_uri": "https://localhost:8080/",
          "height": 34
        },
        "outputId": "be99352d-beca-4962-95ed-a55fc6f6d5bb"
      },
      "source": [
        "## Checking to see if the loss decreased.\n",
        "preds = linear1(images)\n",
        "loss = cross_entropy(preds, label)\n",
        "loss"
      ],
      "execution_count": 37,
      "outputs": [
        {
          "output_type": "execute_result",
          "data": {
            "text/plain": [
              "tensor(4.2469, grad_fn=<DivBackward0>)"
            ]
          },
          "metadata": {
            "tags": []
          },
          "execution_count": 37
        }
      ]
    },
    {
      "cell_type": "code",
      "metadata": {
        "id": "7RztKZ4Tr_KX",
        "colab_type": "code",
        "colab": {}
      },
      "source": [
        "## Calculating the gradient, taking the step and zeroizing the gradient\n",
        "\n",
        "def calc_grad_n_step(loss_, lr):\n",
        "    loss_.backward()\n",
        "    weights.data -= lr * weights.grad\n",
        "    bias.data -= lr * bias.grad\n",
        "    weights.grad, bias.grad = None, None\n",
        "\n",
        "def train_batch(lr):\n",
        "    for x,y in dls:\n",
        "        preds = linear1(x)\n",
        "        loss = cross_entropy(preds, y)\n",
        "        calc_grad_n_step(loss, lr)"
      ],
      "execution_count": 38,
      "outputs": []
    },
    {
      "cell_type": "code",
      "metadata": {
        "id": "huviVoj1mBzI",
        "colab_type": "code",
        "colab": {}
      },
      "source": [
        "## Calculating accuracy\n",
        "def acc_of_data(dls, model):\n",
        "    x, y = dls \n",
        "    preds = model(x)\n",
        "    probs = soft_max(preds)\n",
        "    return (torch.argmax(probs, dim=1) == torch.argmax(y, dim=1)).float().mean()\n",
        "\n",
        "\n",
        "def val_epoch(dls):\n",
        "    stacked_acc = [acc_of_data(batch, linear1) for batch in dls]\n",
        "    return torch.stack(stacked_acc).mean()\n",
        "\n",
        "## generic accuracy calculator from predictions and targets\n",
        "def cal_accuracy(preds, y):\n",
        "    probs = soft_max(preds)\n",
        "    return (torch.argmax(probs, dim=1) == torch.argmax(y, dim=1)).float().mean()"
      ],
      "execution_count": 39,
      "outputs": []
    },
    {
      "cell_type": "code",
      "metadata": {
        "id": "UXDe8fxC7IaO",
        "colab_type": "code",
        "colab": {}
      },
      "source": [
        "### Alternate accuracy metric\n",
        "def acc_of_data_(preds, targs):\n",
        "    probs = soft_max(preds)\n",
        "    return (torch.argmax(probs, dim=1) == torch.argmax(targs, dim=1)).float().mean()\n",
        "\n",
        "\n",
        "def val_epoch_(dls):\n",
        "    stacked_acc = [acc_of_data(linear1(x), y) for x,y in dls]\n",
        "    return torch.stack(stacked_acc).mean()\n",
        "\n",
        "def predict_(x,y):\n",
        "    preds = linear1(x)\n",
        "    prob = preds.softmax(dim=0)\n",
        "    prediction = torch.argmax(prob)\n",
        "    true_label = torch.argmax(y)\n",
        "    print(f\"Prediction: {prediction} : Correct label {true_label}\") \n"
      ],
      "execution_count": 77,
      "outputs": []
    },
    {
      "cell_type": "code",
      "metadata": {
        "id": "4U_JtivdmOMZ",
        "colab_type": "code",
        "colab": {
          "base_uri": "https://localhost:8080/",
          "height": 34
        },
        "outputId": "61e2dc97-6582-481c-9749-890c36e9b491"
      },
      "source": [
        "val_epoch(dls_test)"
      ],
      "execution_count": 41,
      "outputs": [
        {
          "output_type": "execute_result",
          "data": {
            "text/plain": [
              "tensor(0.1305)"
            ]
          },
          "metadata": {
            "tags": []
          },
          "execution_count": 41
        }
      ]
    },
    {
      "cell_type": "code",
      "metadata": {
        "id": "Xfp7eu5Gnkro",
        "colab_type": "code",
        "colab": {
          "base_uri": "https://localhost:8080/",
          "height": 54
        },
        "outputId": "5716a229-8b7f-4aeb-9e18-43468fe37da9"
      },
      "source": [
        "for _ in range(40):\n",
        "    train_batch(lr=lr)\n",
        "    print(f'{val_epoch(dls_test):.4f}', end=' ')"
      ],
      "execution_count": 42,
      "outputs": [
        {
          "output_type": "stream",
          "text": [
            "0.2050 0.3364 0.4522 0.5320 0.5889 0.6273 0.6574 0.6806 0.7024 0.7193 0.7349 0.7457 0.7561 0.7654 0.7724 0.7810 0.7881 0.7946 0.8007 0.8054 0.8102 0.8144 0.8183 0.8216 0.8247 0.8268 0.8296 0.8325 0.8354 0.8374 0.8416 0.8430 0.8446 0.8458 0.8474 0.8487 0.8493 0.8508 0.8530 0.8548 "
          ],
          "name": "stdout"
        }
      ]
    },
    {
      "cell_type": "markdown",
      "metadata": {
        "id": "L-2NU7vim7fy",
        "colab_type": "text"
      },
      "source": [
        "###Let's visualize what the weights look like after training.\n",
        "Looking at 3 out of the 10 units."
      ]
    },
    {
      "cell_type": "code",
      "metadata": {
        "id": "SDgnIZ0qkDCZ",
        "colab_type": "code",
        "colab": {
          "base_uri": "https://localhost:8080/",
          "height": 596
        },
        "outputId": "7b86ba64-cf64-4c33-8339-416eea2b9f70"
      },
      "source": [
        "img_weight0 = weights[:,0].view(28,-1)\n",
        "img_weight1 = weights[:,1].view(28,-1)\n",
        "img_weight2 = weights[:,2].view(28,-1)\n",
        "\n",
        "show_image(img_weight1, figsize=(3,3), title='Vizualizing one of the units in the network');\n",
        "show_image(img_weight0, figsize=(3,3), title='Vizualizing one of the units in the network');\n",
        "show_image(img_weight0, figsize=(3,3), title='Vizualizing one of the units in the network');"
      ],
      "execution_count": 61,
      "outputs": [
        {
          "output_type": "display_data",
          "data": {
            "image/png": "[encoded data removed]",
            "text/plain": [
              "<Figure size 216x216 with 1 Axes>"
            ]
          },
          "metadata": {
            "tags": [],
            "needs_background": "light"
          }
        },
        {
          "output_type": "display_data",
          "data": {
            "image/png": "[encoded data removed]",
            "text/plain": [
              "<Figure size 216x216 with 1 Axes>"
            ]
          },
          "metadata": {
            "tags": [],
            "needs_background": "light"
          }
        },
        {
          "output_type": "display_data",
          "data": {
            "image/png": "[encoded data removed]",
            "text/plain": [
              "<Figure size 216x216 with 1 Axes>"
            ]
          },
          "metadata": {
            "tags": [],
            "needs_background": "light"
          }
        }
      ]
    },
    {
      "cell_type": "markdown",
      "metadata": {
        "id": "A_dNaD0To6EE",
        "colab_type": "text"
      },
      "source": [
        "###**Let's see if we can try and predict some samples.** \n",
        "We can see from the data below that the classifier does a pretty good job! \n"
      ]
    },
    {
      "cell_type": "code",
      "metadata": {
        "id": "cXp6Pf0Fl_Zo",
        "colab_type": "code",
        "colab": {
          "base_uri": "https://localhost:8080/",
          "height": 34
        },
        "outputId": "8307f385-08fc-4c51-da86-98305b3e1fcc"
      },
      "source": [
        "### \n",
        "image, label = dset_test[0]\n",
        "prediction = predict_(image, label)"
      ],
      "execution_count": 78,
      "outputs": [
        {
          "output_type": "stream",
          "text": [
            "Prediction: 0 : Correct label 0\n"
          ],
          "name": "stdout"
        }
      ]
    },
    {
      "cell_type": "code",
      "metadata": {
        "id": "gcDzxoDvrWZL",
        "colab_type": "code",
        "colab": {
          "base_uri": "https://localhost:8080/",
          "height": 104
        },
        "outputId": "8fa96420-28e1-4c31-9a29-17ef7a3b1d95"
      },
      "source": [
        "###Now let's randomly grab a number and use that as in index to grab digit.\n",
        "idx = torch.randint(0,10000, (5,1)) ## We have 10000 images in the test set.\n",
        "for idx in idx:\n",
        "    image, label = dset_test[idx]\n",
        "    prediction = predict_(image, label)"
      ],
      "execution_count": 84,
      "outputs": [
        {
          "output_type": "stream",
          "text": [
            "Prediction: 4 : Correct label 4\n",
            "Prediction: 7 : Correct label 7\n",
            "Prediction: 1 : Correct label 1\n",
            "Prediction: 4 : Correct label 4\n",
            "Prediction: 2 : Correct label 2\n"
          ],
          "name": "stdout"
        }
      ]
    },
    {
      "cell_type": "code",
      "metadata": {
        "id": "M0gdhNB-tYJE",
        "colab_type": "code",
        "colab": {}
      },
      "source": [
        "def calc_grad(x, y, model):\n",
        "        preds = model(x)\n",
        "        loss = cross_entropy(preds, y)\n",
        "        print(loss)\n",
        "        loss.backward()"
      ],
      "execution_count": 91,
      "outputs": []
    },
    {
      "cell_type": "code",
      "metadata": {
        "id": "bHspK2hXt4xC",
        "colab_type": "code",
        "colab": {
          "base_uri": "https://localhost:8080/",
          "height": 34
        },
        "outputId": "63a84eb2-8f16-4698-c46f-a5d94b380539"
      },
      "source": [
        "batch = train_x[:10]\n",
        "calc_grad(batch, train_y[:10], linear1)\n",
        "weights.grad.mean(), bias.grad.mean()"
      ],
      "execution_count": 86,
      "outputs": [
        {
          "output_type": "execute_result",
          "data": {
            "text/plain": [
              "(tensor(-1.2164e-10), tensor(-1.9791e-10))"
            ]
          },
          "metadata": {
            "tags": []
          },
          "execution_count": 86
        }
      ]
    },
    {
      "cell_type": "code",
      "metadata": {
        "id": "9GMbMVhLo-HO",
        "colab_type": "code",
        "colab": {}
      },
      "source": [
        "## Creating an optimizer\n",
        "class Optim():\n",
        "    def __init__(self, params, lr):\n",
        "        self.params = list(params)\n",
        "        self.lr = lr\n",
        "    \n",
        "    def step(self):\n",
        "        for p in self.params:\n",
        "            p.data -= p.grad.data * self.lr\n",
        "    \n",
        "    def zero_grad(self):\n",
        "        for p in self.params:\n",
        "            p.grad = None"
      ],
      "execution_count": 87,
      "outputs": []
    },
    {
      "cell_type": "code",
      "metadata": {
        "id": "0_dIDItLtA3g",
        "colab_type": "code",
        "colab": {}
      },
      "source": [
        "weights, bias = init_params()\n",
        "optim = Optim((weights, bias), lr)"
      ],
      "execution_count": 95,
      "outputs": []
    },
    {
      "cell_type": "code",
      "metadata": {
        "id": "Jofx773DwDM9",
        "colab_type": "code",
        "colab": {
          "base_uri": "https://localhost:8080/",
          "height": 156
        },
        "outputId": "aa4b4d85-3bf5-4d1f-f1f8-a5a61022f555"
      },
      "source": [
        "optim.params"
      ],
      "execution_count": 98,
      "outputs": [
        {
          "output_type": "execute_result",
          "data": {
            "text/plain": [
              "[tensor([[nan, nan, nan,  ..., nan, nan, nan],\n",
              "         [nan, nan, nan,  ..., nan, nan, nan],\n",
              "         [nan, nan, nan,  ..., nan, nan, nan],\n",
              "         ...,\n",
              "         [nan, nan, nan,  ..., nan, nan, nan],\n",
              "         [nan, nan, nan,  ..., nan, nan, nan],\n",
              "         [nan, nan, nan,  ..., nan, nan, nan]], requires_grad=True),\n",
              " tensor([nan, nan, nan, nan, nan, nan, nan, nan, nan, nan], requires_grad=True)]"
            ]
          },
          "metadata": {
            "tags": []
          },
          "execution_count": 98
        }
      ]
    },
    {
      "cell_type": "code",
      "metadata": {
        "id": "Tu1Ru5tGtfXQ",
        "colab_type": "code",
        "colab": {}
      },
      "source": [
        "### New modified training epoch func\n",
        "def train_epoch(model, optim):\n",
        "    for images, labels in dls:\n",
        "        calc_grad(images, labels, linear1)\n",
        "        optim.step()\n",
        "        optim.zero_grad"
      ],
      "execution_count": 89,
      "outputs": []
    },
    {
      "cell_type": "code",
      "metadata": {
        "id": "GQo38N-dus7-",
        "colab_type": "code",
        "colab": {
          "base_uri": "https://localhost:8080/",
          "height": 1000
        },
        "outputId": "7ef1b6c4-e386-466b-c985-1f84f210d2e8"
      },
      "source": [
        "## Not sure what the issue is here. \n",
        "## The the weights end up becoming nan while taking the gradient steps.\n",
        "## This throws off the calculations.\n",
        "## Below is the print of the losses.  \n",
        "for _ in range(1):\n",
        "        train_epoch(linear1, optim)\n",
        "        print(f'{val_epoch(dls_test):.4f}', end=' ')"
      ],
      "execution_count": 97,
      "outputs": [
        {
          "output_type": "stream",
          "text": [
            "tensor(4.2447, grad_fn=<DivBackward0>)\n",
            "tensor(5.2476, grad_fn=<DivBackward0>)\n",
            "tensor(4.5070, grad_fn=<DivBackward0>)\n",
            "tensor(4.5015, grad_fn=<DivBackward0>)\n",
            "tensor(4.1273, grad_fn=<DivBackward0>)\n",
            "tensor(4.5188, grad_fn=<DivBackward0>)\n",
            "tensor(4.7437, grad_fn=<DivBackward0>)\n",
            "tensor(4.9857, grad_fn=<DivBackward0>)\n",
            "tensor(4.1537, grad_fn=<DivBackward0>)\n",
            "tensor(4.6909, grad_fn=<DivBackward0>)\n",
            "tensor(4.2757, grad_fn=<DivBackward0>)\n",
            "tensor(4.3858, grad_fn=<DivBackward0>)\n",
            "tensor(4.0716, grad_fn=<DivBackward0>)\n",
            "tensor(3.9780, grad_fn=<DivBackward0>)\n",
            "tensor(4.0508, grad_fn=<DivBackward0>)\n",
            "tensor(4.1054, grad_fn=<DivBackward0>)\n",
            "tensor(3.8127, grad_fn=<DivBackward0>)\n",
            "tensor(4.2211, grad_fn=<DivBackward0>)\n",
            "tensor(4.2551, grad_fn=<DivBackward0>)\n",
            "tensor(4.0767, grad_fn=<DivBackward0>)\n",
            "tensor(4.1886, grad_fn=<DivBackward0>)\n",
            "tensor(3.9754, grad_fn=<DivBackward0>)\n",
            "tensor(3.7724, grad_fn=<DivBackward0>)\n",
            "tensor(3.6204, grad_fn=<DivBackward0>)\n",
            "tensor(3.8509, grad_fn=<DivBackward0>)\n",
            "tensor(4.0521, grad_fn=<DivBackward0>)\n",
            "tensor(3.7762, grad_fn=<DivBackward0>)\n",
            "tensor(3.3218, grad_fn=<DivBackward0>)\n",
            "tensor(3.4880, grad_fn=<DivBackward0>)\n",
            "tensor(3.6137, grad_fn=<DivBackward0>)\n",
            "tensor(2.9174, grad_fn=<DivBackward0>)\n",
            "tensor(3.1823, grad_fn=<DivBackward0>)\n",
            "tensor(3.1339, grad_fn=<DivBackward0>)\n",
            "tensor(3.2466, grad_fn=<DivBackward0>)\n",
            "tensor(2.9193, grad_fn=<DivBackward0>)\n",
            "tensor(3.5124, grad_fn=<DivBackward0>)\n",
            "tensor(2.6935, grad_fn=<DivBackward0>)\n",
            "tensor(3.3951, grad_fn=<DivBackward0>)\n",
            "tensor(2.9822, grad_fn=<DivBackward0>)\n",
            "tensor(3.6248, grad_fn=<DivBackward0>)\n",
            "tensor(3.3600, grad_fn=<DivBackward0>)\n",
            "tensor(2.8857, grad_fn=<DivBackward0>)\n",
            "tensor(2.7446, grad_fn=<DivBackward0>)\n",
            "tensor(2.8518, grad_fn=<DivBackward0>)\n",
            "tensor(2.3777, grad_fn=<DivBackward0>)\n",
            "tensor(3.0573, grad_fn=<DivBackward0>)\n",
            "tensor(2.7877, grad_fn=<DivBackward0>)\n",
            "tensor(2.4503, grad_fn=<DivBackward0>)\n",
            "tensor(3.0769, grad_fn=<DivBackward0>)\n",
            "tensor(2.7012, grad_fn=<DivBackward0>)\n",
            "tensor(2.5646, grad_fn=<DivBackward0>)\n",
            "tensor(3.1835, grad_fn=<DivBackward0>)\n",
            "tensor(3.0121, grad_fn=<DivBackward0>)\n",
            "tensor(3.0528, grad_fn=<DivBackward0>)\n",
            "tensor(2.3144, grad_fn=<DivBackward0>)\n",
            "tensor(2.9846, grad_fn=<DivBackward0>)\n",
            "tensor(2.6555, grad_fn=<DivBackward0>)\n",
            "tensor(3.2311, grad_fn=<DivBackward0>)\n",
            "tensor(3.0321, grad_fn=<DivBackward0>)\n",
            "tensor(3.2282, grad_fn=<DivBackward0>)\n",
            "tensor(2.3943, grad_fn=<DivBackward0>)\n",
            "tensor(2.4446, grad_fn=<DivBackward0>)\n",
            "tensor(2.5084, grad_fn=<DivBackward0>)\n",
            "tensor(2.5240, grad_fn=<DivBackward0>)\n",
            "tensor(2.3717, grad_fn=<DivBackward0>)\n",
            "tensor(2.1952, grad_fn=<DivBackward0>)\n",
            "tensor(2.2459, grad_fn=<DivBackward0>)\n",
            "tensor(2.5976, grad_fn=<DivBackward0>)\n",
            "tensor(2.6745, grad_fn=<DivBackward0>)\n",
            "tensor(2.5208, grad_fn=<DivBackward0>)\n",
            "tensor(2.0191, grad_fn=<DivBackward0>)\n",
            "tensor(2.2395, grad_fn=<DivBackward0>)\n",
            "tensor(2.6916, grad_fn=<DivBackward0>)\n",
            "tensor(2.2649, grad_fn=<DivBackward0>)\n",
            "tensor(2.4669, grad_fn=<DivBackward0>)\n",
            "tensor(2.5729, grad_fn=<DivBackward0>)\n",
            "tensor(1.6989, grad_fn=<DivBackward0>)\n",
            "tensor(2.3035, grad_fn=<DivBackward0>)\n",
            "tensor(1.7768, grad_fn=<DivBackward0>)\n",
            "tensor(2.3441, grad_fn=<DivBackward0>)\n",
            "tensor(2.2286, grad_fn=<DivBackward0>)\n",
            "tensor(1.9912, grad_fn=<DivBackward0>)\n",
            "tensor(1.6564, grad_fn=<DivBackward0>)\n",
            "tensor(1.2962, grad_fn=<DivBackward0>)\n",
            "tensor(2.0694, grad_fn=<DivBackward0>)\n",
            "tensor(1.4115, grad_fn=<DivBackward0>)\n",
            "tensor(1.5223, grad_fn=<DivBackward0>)\n",
            "tensor(1.5369, grad_fn=<DivBackward0>)\n",
            "tensor(1.4297, grad_fn=<DivBackward0>)\n",
            "tensor(1.6470, grad_fn=<DivBackward0>)\n",
            "tensor(1.3721, grad_fn=<DivBackward0>)\n",
            "tensor(1.5269, grad_fn=<DivBackward0>)\n",
            "tensor(1.3433, grad_fn=<DivBackward0>)\n",
            "tensor(1.4479, grad_fn=<DivBackward0>)\n",
            "tensor(1.3833, grad_fn=<DivBackward0>)\n",
            "tensor(1.1890, grad_fn=<DivBackward0>)\n",
            "tensor(1.0642, grad_fn=<DivBackward0>)\n",
            "tensor(1.1766, grad_fn=<DivBackward0>)\n",
            "tensor(0.8848, grad_fn=<DivBackward0>)\n",
            "tensor(0.7564, grad_fn=<DivBackward0>)\n",
            "tensor(1.2444, grad_fn=<DivBackward0>)\n",
            "tensor(1.2939, grad_fn=<DivBackward0>)\n",
            "tensor(1.1437, grad_fn=<DivBackward0>)\n",
            "tensor(1.0455, grad_fn=<DivBackward0>)\n",
            "tensor(1.0191, grad_fn=<DivBackward0>)\n",
            "tensor(1.0658, grad_fn=<DivBackward0>)\n",
            "tensor(1.1972, grad_fn=<DivBackward0>)\n",
            "tensor(0.9727, grad_fn=<DivBackward0>)\n",
            "tensor(0.9657, grad_fn=<DivBackward0>)\n",
            "tensor(1.1049, grad_fn=<DivBackward0>)\n",
            "tensor(0.7615, grad_fn=<DivBackward0>)\n",
            "tensor(0.7010, grad_fn=<DivBackward0>)\n",
            "tensor(1.1616, grad_fn=<DivBackward0>)\n",
            "tensor(0.7665, grad_fn=<DivBackward0>)\n",
            "tensor(0.9889, grad_fn=<DivBackward0>)\n",
            "tensor(0.7671, grad_fn=<DivBackward0>)\n",
            "tensor(1.0067, grad_fn=<DivBackward0>)\n",
            "tensor(0.9312, grad_fn=<DivBackward0>)\n",
            "tensor(0.8941, grad_fn=<DivBackward0>)\n",
            "tensor(0.9300, grad_fn=<DivBackward0>)\n",
            "tensor(0.9256, grad_fn=<DivBackward0>)\n",
            "tensor(0.8192, grad_fn=<DivBackward0>)\n",
            "tensor(0.8211, grad_fn=<DivBackward0>)\n",
            "tensor(0.9932, grad_fn=<DivBackward0>)\n",
            "tensor(1.1075, grad_fn=<DivBackward0>)\n",
            "tensor(1.5199, grad_fn=<DivBackward0>)\n",
            "tensor(1.1164, grad_fn=<DivBackward0>)\n",
            "tensor(1.2780, grad_fn=<DivBackward0>)\n",
            "tensor(1.1717, grad_fn=<DivBackward0>)\n",
            "tensor(1.1757, grad_fn=<DivBackward0>)\n",
            "tensor(0.8289, grad_fn=<DivBackward0>)\n",
            "tensor(0.9623, grad_fn=<DivBackward0>)\n",
            "tensor(1.1131, grad_fn=<DivBackward0>)\n",
            "tensor(1.2601, grad_fn=<DivBackward0>)\n",
            "tensor(0.9242, grad_fn=<DivBackward0>)\n",
            "tensor(1.0287, grad_fn=<DivBackward0>)\n",
            "tensor(1.1912, grad_fn=<DivBackward0>)\n",
            "tensor(1.2174, grad_fn=<DivBackward0>)\n",
            "tensor(1.0264, grad_fn=<DivBackward0>)\n",
            "tensor(1.1165, grad_fn=<DivBackward0>)\n",
            "tensor(1.2128, grad_fn=<DivBackward0>)\n",
            "tensor(1.1486, grad_fn=<DivBackward0>)\n",
            "tensor(0.7955, grad_fn=<DivBackward0>)\n",
            "tensor(0.9936, grad_fn=<DivBackward0>)\n",
            "tensor(1.0972, grad_fn=<DivBackward0>)\n",
            "tensor(0.8684, grad_fn=<DivBackward0>)\n",
            "tensor(0.9011, grad_fn=<DivBackward0>)\n",
            "tensor(1.1507, grad_fn=<DivBackward0>)\n",
            "tensor(0.9338, grad_fn=<DivBackward0>)\n",
            "tensor(1.4374, grad_fn=<DivBackward0>)\n",
            "tensor(0.8474, grad_fn=<DivBackward0>)\n",
            "tensor(1.0508, grad_fn=<DivBackward0>)\n",
            "tensor(1.5371, grad_fn=<DivBackward0>)\n",
            "tensor(0.9998, grad_fn=<DivBackward0>)\n",
            "tensor(0.7946, grad_fn=<DivBackward0>)\n",
            "tensor(1.1244, grad_fn=<DivBackward0>)\n",
            "tensor(1.1792, grad_fn=<DivBackward0>)\n",
            "tensor(1.5868, grad_fn=<DivBackward0>)\n",
            "tensor(0.7938, grad_fn=<DivBackward0>)\n",
            "tensor(1.4122, grad_fn=<DivBackward0>)\n",
            "tensor(0.9383, grad_fn=<DivBackward0>)\n",
            "tensor(0.8169, grad_fn=<DivBackward0>)\n",
            "tensor(0.5741, grad_fn=<DivBackward0>)\n",
            "tensor(0.8859, grad_fn=<DivBackward0>)\n",
            "tensor(1.0922, grad_fn=<DivBackward0>)\n",
            "tensor(0.9859, grad_fn=<DivBackward0>)\n",
            "tensor(0.7799, grad_fn=<DivBackward0>)\n",
            "tensor(1.2778, grad_fn=<DivBackward0>)\n",
            "tensor(1.1604, grad_fn=<DivBackward0>)\n",
            "tensor(0.8309, grad_fn=<DivBackward0>)\n",
            "tensor(1.1251, grad_fn=<DivBackward0>)\n",
            "tensor(0.8068, grad_fn=<DivBackward0>)\n",
            "tensor(0.6039, grad_fn=<DivBackward0>)\n",
            "tensor(0.7031, grad_fn=<DivBackward0>)\n",
            "tensor(1.1517, grad_fn=<DivBackward0>)\n",
            "tensor(0.9671, grad_fn=<DivBackward0>)\n",
            "tensor(0.9251, grad_fn=<DivBackward0>)\n",
            "tensor(0.8806, grad_fn=<DivBackward0>)\n",
            "tensor(0.6880, grad_fn=<DivBackward0>)\n",
            "tensor(0.9590, grad_fn=<DivBackward0>)\n",
            "tensor(1.6029, grad_fn=<DivBackward0>)\n",
            "tensor(0.7768, grad_fn=<DivBackward0>)\n",
            "tensor(0.8131, grad_fn=<DivBackward0>)\n",
            "tensor(1.0415, grad_fn=<DivBackward0>)\n",
            "tensor(1.2903, grad_fn=<DivBackward0>)\n",
            "tensor(0.9883, grad_fn=<DivBackward0>)\n",
            "tensor(1.2936, grad_fn=<DivBackward0>)\n",
            "tensor(0.4145, grad_fn=<DivBackward0>)\n",
            "tensor(0.8028, grad_fn=<DivBackward0>)\n",
            "tensor(0.6898, grad_fn=<DivBackward0>)\n",
            "tensor(1.2768, grad_fn=<DivBackward0>)\n",
            "tensor(0.4649, grad_fn=<DivBackward0>)\n",
            "tensor(1.0465, grad_fn=<DivBackward0>)\n",
            "tensor(1.0472, grad_fn=<DivBackward0>)\n",
            "tensor(1.1488, grad_fn=<DivBackward0>)\n",
            "tensor(0.7558, grad_fn=<DivBackward0>)\n",
            "tensor(0.8117, grad_fn=<DivBackward0>)\n",
            "tensor(0.8534, grad_fn=<DivBackward0>)\n",
            "tensor(1.1746, grad_fn=<DivBackward0>)\n",
            "tensor(0.3847, grad_fn=<DivBackward0>)\n",
            "tensor(1.3384, grad_fn=<DivBackward0>)\n",
            "tensor(0.2557, grad_fn=<DivBackward0>)\n",
            "tensor(0.8319, grad_fn=<DivBackward0>)\n",
            "tensor(0.5187, grad_fn=<DivBackward0>)\n",
            "tensor(1.0154, grad_fn=<DivBackward0>)\n",
            "tensor(1.0748, grad_fn=<DivBackward0>)\n",
            "tensor(0.8226, grad_fn=<DivBackward0>)\n",
            "tensor(0.5961, grad_fn=<DivBackward0>)\n",
            "tensor(0.4071, grad_fn=<DivBackward0>)\n",
            "tensor(1.0689, grad_fn=<DivBackward0>)\n",
            "tensor(0.4908, grad_fn=<DivBackward0>)\n",
            "tensor(0.7302, grad_fn=<DivBackward0>)\n",
            "tensor(1.0109, grad_fn=<DivBackward0>)\n",
            "tensor(1.0557, grad_fn=<DivBackward0>)\n",
            "tensor(1.1288, grad_fn=<DivBackward0>)\n",
            "tensor(0.6982, grad_fn=<DivBackward0>)\n",
            "tensor(0.6039, grad_fn=<DivBackward0>)\n",
            "tensor(0.8663, grad_fn=<DivBackward0>)\n",
            "tensor(1.5301, grad_fn=<DivBackward0>)\n",
            "tensor(1.0775, grad_fn=<DivBackward0>)\n",
            "tensor(0.5694, grad_fn=<DivBackward0>)\n",
            "tensor(0.5908, grad_fn=<DivBackward0>)\n",
            "tensor(0.8201, grad_fn=<DivBackward0>)\n",
            "tensor(0.9939, grad_fn=<DivBackward0>)\n",
            "tensor(1.0625, grad_fn=<DivBackward0>)\n",
            "tensor(0.4775, grad_fn=<DivBackward0>)\n",
            "tensor(0.5186, grad_fn=<DivBackward0>)\n",
            "tensor(0.3332, grad_fn=<DivBackward0>)\n",
            "tensor(0.4236, grad_fn=<DivBackward0>)\n",
            "tensor(0.6202, grad_fn=<DivBackward0>)\n",
            "tensor(1.2859, grad_fn=<DivBackward0>)\n",
            "tensor(0.5538, grad_fn=<DivBackward0>)\n",
            "tensor(1.3923, grad_fn=<DivBackward0>)\n",
            "tensor(0.4611, grad_fn=<DivBackward0>)\n",
            "tensor(0.8381, grad_fn=<DivBackward0>)\n",
            "tensor(0.5620, grad_fn=<DivBackward0>)\n",
            "tensor(0.9096, grad_fn=<DivBackward0>)\n",
            "tensor(1.0582, grad_fn=<DivBackward0>)\n",
            "tensor(1.1029, grad_fn=<DivBackward0>)\n",
            "tensor(0.8801, grad_fn=<DivBackward0>)\n",
            "tensor(1.1950, grad_fn=<DivBackward0>)\n",
            "tensor(1.3859, grad_fn=<DivBackward0>)\n",
            "tensor(0.8131, grad_fn=<DivBackward0>)\n",
            "tensor(0.6444, grad_fn=<DivBackward0>)\n",
            "tensor(1.0806, grad_fn=<DivBackward0>)\n",
            "tensor(0.3459, grad_fn=<DivBackward0>)\n",
            "tensor(0.7541, grad_fn=<DivBackward0>)\n",
            "tensor(0.0996, grad_fn=<DivBackward0>)\n",
            "tensor(0.7572, grad_fn=<DivBackward0>)\n",
            "tensor(0.6659, grad_fn=<DivBackward0>)\n",
            "tensor(0.6925, grad_fn=<DivBackward0>)\n",
            "tensor(0.6080, grad_fn=<DivBackward0>)\n",
            "tensor(0.9681, grad_fn=<DivBackward0>)\n",
            "tensor(0.5685, grad_fn=<DivBackward0>)\n",
            "tensor(0.7424, grad_fn=<DivBackward0>)\n",
            "tensor(0.5624, grad_fn=<DivBackward0>)\n",
            "tensor(0.7305, grad_fn=<DivBackward0>)\n",
            "tensor(0.2444, grad_fn=<DivBackward0>)\n",
            "tensor(1.7102, grad_fn=<DivBackward0>)\n",
            "tensor(1.0589, grad_fn=<DivBackward0>)\n",
            "tensor(1.1815, grad_fn=<DivBackward0>)\n",
            "tensor(0.4251, grad_fn=<DivBackward0>)\n",
            "tensor(1.4652, grad_fn=<DivBackward0>)\n",
            "tensor(0.5617, grad_fn=<DivBackward0>)\n",
            "tensor(1.4518, grad_fn=<DivBackward0>)\n",
            "tensor(0.8721, grad_fn=<DivBackward0>)\n",
            "tensor(0.8820, grad_fn=<DivBackward0>)\n",
            "tensor(1.4239, grad_fn=<DivBackward0>)\n",
            "tensor(1.3000, grad_fn=<DivBackward0>)\n",
            "tensor(0.6920, grad_fn=<DivBackward0>)\n",
            "tensor(0.9632, grad_fn=<DivBackward0>)\n",
            "tensor(1.8187, grad_fn=<DivBackward0>)\n",
            "tensor(1.3209, grad_fn=<DivBackward0>)\n",
            "tensor(0.5576, grad_fn=<DivBackward0>)\n",
            "tensor(0.7653, grad_fn=<DivBackward0>)\n",
            "tensor(0.7838, grad_fn=<DivBackward0>)\n",
            "tensor(1.7921, grad_fn=<DivBackward0>)\n",
            "tensor(1.0187, grad_fn=<DivBackward0>)\n",
            "tensor(0.9300, grad_fn=<DivBackward0>)\n",
            "tensor(0.5867, grad_fn=<DivBackward0>)\n",
            "tensor(1.4053, grad_fn=<DivBackward0>)\n",
            "tensor(0.6982, grad_fn=<DivBackward0>)\n",
            "tensor(0.5873, grad_fn=<DivBackward0>)\n",
            "tensor(0.6897, grad_fn=<DivBackward0>)\n",
            "tensor(0.7571, grad_fn=<DivBackward0>)\n",
            "tensor(0.8668, grad_fn=<DivBackward0>)\n",
            "tensor(1.0785, grad_fn=<DivBackward0>)\n",
            "tensor(1.0433, grad_fn=<DivBackward0>)\n",
            "tensor(0.9123, grad_fn=<DivBackward0>)\n",
            "tensor(1.7099, grad_fn=<DivBackward0>)\n",
            "tensor(1.1961, grad_fn=<DivBackward0>)\n",
            "tensor(1.7542, grad_fn=<DivBackward0>)\n",
            "tensor(1.0100, grad_fn=<DivBackward0>)\n",
            "tensor(0.2993, grad_fn=<DivBackward0>)\n",
            "tensor(1.6472, grad_fn=<DivBackward0>)\n",
            "tensor(0.9646, grad_fn=<DivBackward0>)\n",
            "tensor(0.8571, grad_fn=<DivBackward0>)\n",
            "tensor(1.5217, grad_fn=<DivBackward0>)\n",
            "tensor(1.7880, grad_fn=<DivBackward0>)\n",
            "tensor(1.1736, grad_fn=<DivBackward0>)\n",
            "tensor(0.9466, grad_fn=<DivBackward0>)\n",
            "tensor(1.4966, grad_fn=<DivBackward0>)\n",
            "tensor(1.2465, grad_fn=<DivBackward0>)\n",
            "tensor(1.2260, grad_fn=<DivBackward0>)\n",
            "tensor(0.6880, grad_fn=<DivBackward0>)\n",
            "tensor(0.9466, grad_fn=<DivBackward0>)\n",
            "tensor(1.0104, grad_fn=<DivBackward0>)\n",
            "tensor(0.8838, grad_fn=<DivBackward0>)\n",
            "tensor(1.2453, grad_fn=<DivBackward0>)\n",
            "tensor(1.2279, grad_fn=<DivBackward0>)\n",
            "tensor(0.6375, grad_fn=<DivBackward0>)\n",
            "tensor(1.7848, grad_fn=<DivBackward0>)\n",
            "tensor(1.5311, grad_fn=<DivBackward0>)\n",
            "tensor(0.8587, grad_fn=<DivBackward0>)\n",
            "tensor(0.4384, grad_fn=<DivBackward0>)\n",
            "tensor(0.8255, grad_fn=<DivBackward0>)\n",
            "tensor(0.8649, grad_fn=<DivBackward0>)\n",
            "tensor(0.4668, grad_fn=<DivBackward0>)\n",
            "tensor(1.3857, grad_fn=<DivBackward0>)\n",
            "tensor(1.2121, grad_fn=<DivBackward0>)\n",
            "tensor(1.1288, grad_fn=<DivBackward0>)\n",
            "tensor(1.2562, grad_fn=<DivBackward0>)\n",
            "tensor(1.6992, grad_fn=<DivBackward0>)\n",
            "tensor(0.9789, grad_fn=<DivBackward0>)\n",
            "tensor(0.7759, grad_fn=<DivBackward0>)\n",
            "tensor(1.6791, grad_fn=<DivBackward0>)\n",
            "tensor(0.8335, grad_fn=<DivBackward0>)\n",
            "tensor(0.3645, grad_fn=<DivBackward0>)\n",
            "tensor(0.5053, grad_fn=<DivBackward0>)\n",
            "tensor(1.4124, grad_fn=<DivBackward0>)\n",
            "tensor(1.5331, grad_fn=<DivBackward0>)\n",
            "tensor(0.9423, grad_fn=<DivBackward0>)\n",
            "tensor(1.0748, grad_fn=<DivBackward0>)\n",
            "tensor(1.2693, grad_fn=<DivBackward0>)\n",
            "tensor(0.6496, grad_fn=<DivBackward0>)\n",
            "tensor(1.5888, grad_fn=<DivBackward0>)\n",
            "tensor(1.2257, grad_fn=<DivBackward0>)\n",
            "tensor(0.9206, grad_fn=<DivBackward0>)\n",
            "tensor(1.2770, grad_fn=<DivBackward0>)\n",
            "tensor(1.3388, grad_fn=<DivBackward0>)\n",
            "tensor(0.4943, grad_fn=<DivBackward0>)\n",
            "tensor(1.3680, grad_fn=<DivBackward0>)\n",
            "tensor(0.3325, grad_fn=<DivBackward0>)\n",
            "tensor(0.5118, grad_fn=<DivBackward0>)\n",
            "tensor(1.0318, grad_fn=<DivBackward0>)\n",
            "tensor(1.5501, grad_fn=<DivBackward0>)\n",
            "tensor(1.0193, grad_fn=<DivBackward0>)\n",
            "tensor(1.1627, grad_fn=<DivBackward0>)\n",
            "tensor(0.4543, grad_fn=<DivBackward0>)\n",
            "tensor(0.3075, grad_fn=<DivBackward0>)\n",
            "tensor(2.2689, grad_fn=<DivBackward0>)\n",
            "tensor(0.9326, grad_fn=<DivBackward0>)\n",
            "tensor(0.4133, grad_fn=<DivBackward0>)\n",
            "tensor(0.8999, grad_fn=<DivBackward0>)\n",
            "tensor(1.5133, grad_fn=<DivBackward0>)\n",
            "tensor(0.7639, grad_fn=<DivBackward0>)\n",
            "tensor(0.9421, grad_fn=<DivBackward0>)\n",
            "tensor(0.8374, grad_fn=<DivBackward0>)\n",
            "tensor(1.5207, grad_fn=<DivBackward0>)\n",
            "tensor(0.5092, grad_fn=<DivBackward0>)\n",
            "tensor(0.3744, grad_fn=<DivBackward0>)\n",
            "tensor(1.4044, grad_fn=<DivBackward0>)\n",
            "tensor(0.9094, grad_fn=<DivBackward0>)\n",
            "tensor(1.0181, grad_fn=<DivBackward0>)\n",
            "tensor(1.6771, grad_fn=<DivBackward0>)\n",
            "tensor(1.5829, grad_fn=<DivBackward0>)\n",
            "tensor(1.2157, grad_fn=<DivBackward0>)\n",
            "tensor(1.0202, grad_fn=<DivBackward0>)\n",
            "tensor(1.5607, grad_fn=<DivBackward0>)\n",
            "tensor(0.4327, grad_fn=<DivBackward0>)\n",
            "tensor(0.9048, grad_fn=<DivBackward0>)\n",
            "tensor(2.7310, grad_fn=<DivBackward0>)\n",
            "tensor(0.9040, grad_fn=<DivBackward0>)\n",
            "tensor(1.1844, grad_fn=<DivBackward0>)\n",
            "tensor(0.5204, grad_fn=<DivBackward0>)\n",
            "tensor(1.1139, grad_fn=<DivBackward0>)\n",
            "tensor(0.8225, grad_fn=<DivBackward0>)\n",
            "tensor(0.9630, grad_fn=<DivBackward0>)\n",
            "tensor(1.5005, grad_fn=<DivBackward0>)\n",
            "tensor(1.0108, grad_fn=<DivBackward0>)\n",
            "tensor(1.2270, grad_fn=<DivBackward0>)\n",
            "tensor(1.5905, grad_fn=<DivBackward0>)\n",
            "tensor(1.8943, grad_fn=<DivBackward0>)\n",
            "tensor(0.8263, grad_fn=<DivBackward0>)\n",
            "tensor(0.7915, grad_fn=<DivBackward0>)\n",
            "tensor(1.1272, grad_fn=<DivBackward0>)\n",
            "tensor(2.7766, grad_fn=<DivBackward0>)\n",
            "tensor(0.2085, grad_fn=<DivBackward0>)\n",
            "tensor(1.0951, grad_fn=<DivBackward0>)\n",
            "tensor(1.4455, grad_fn=<DivBackward0>)\n",
            "tensor(1.2678, grad_fn=<DivBackward0>)\n",
            "tensor(1.0344, grad_fn=<DivBackward0>)\n",
            "tensor(nan, grad_fn=<DivBackward0>)\n",
            "tensor(nan, grad_fn=<DivBackward0>)\n",
            "tensor(nan, grad_fn=<DivBackward0>)\n",
            "tensor(nan, grad_fn=<DivBackward0>)\n",
            "tensor(nan, grad_fn=<DivBackward0>)\n",
            "tensor(nan, grad_fn=<DivBackward0>)\n",
            "tensor(nan, grad_fn=<DivBackward0>)\n",
            "tensor(nan, grad_fn=<DivBackward0>)\n",
            "tensor(nan, grad_fn=<DivBackward0>)\n",
            "tensor(nan, grad_fn=<DivBackward0>)\n",
            "tensor(nan, grad_fn=<DivBackward0>)\n",
            "tensor(nan, grad_fn=<DivBackward0>)\n",
            "tensor(nan, grad_fn=<DivBackward0>)\n",
            "tensor(nan, grad_fn=<DivBackward0>)\n",
            "tensor(nan, grad_fn=<DivBackward0>)\n",
            "tensor(nan, grad_fn=<DivBackward0>)\n",
            "tensor(nan, grad_fn=<DivBackward0>)\n",
            "tensor(nan, grad_fn=<DivBackward0>)\n",
            "tensor(nan, grad_fn=<DivBackward0>)\n",
            "tensor(nan, grad_fn=<DivBackward0>)\n",
            "tensor(nan, grad_fn=<DivBackward0>)\n",
            "tensor(nan, grad_fn=<DivBackward0>)\n",
            "tensor(nan, grad_fn=<DivBackward0>)\n",
            "tensor(nan, grad_fn=<DivBackward0>)\n",
            "tensor(nan, grad_fn=<DivBackward0>)\n",
            "tensor(nan, grad_fn=<DivBackward0>)\n",
            "tensor(nan, grad_fn=<DivBackward0>)\n",
            "tensor(nan, grad_fn=<DivBackward0>)\n",
            "tensor(nan, grad_fn=<DivBackward0>)\n",
            "tensor(nan, grad_fn=<DivBackward0>)\n",
            "tensor(nan, grad_fn=<DivBackward0>)\n",
            "tensor(nan, grad_fn=<DivBackward0>)\n",
            "tensor(nan, grad_fn=<DivBackward0>)\n",
            "tensor(nan, grad_fn=<DivBackward0>)\n",
            "tensor(nan, grad_fn=<DivBackward0>)\n",
            "tensor(nan, grad_fn=<DivBackward0>)\n",
            "tensor(nan, grad_fn=<DivBackward0>)\n",
            "tensor(nan, grad_fn=<DivBackward0>)\n",
            "tensor(nan, grad_fn=<DivBackward0>)\n",
            "tensor(nan, grad_fn=<DivBackward0>)\n",
            "tensor(nan, grad_fn=<DivBackward0>)\n",
            "tensor(nan, grad_fn=<DivBackward0>)\n",
            "tensor(nan, grad_fn=<DivBackward0>)\n",
            "tensor(nan, grad_fn=<DivBackward0>)\n",
            "tensor(nan, grad_fn=<DivBackward0>)\n",
            "tensor(nan, grad_fn=<DivBackward0>)\n",
            "tensor(nan, grad_fn=<DivBackward0>)\n",
            "tensor(nan, grad_fn=<DivBackward0>)\n",
            "tensor(nan, grad_fn=<DivBackward0>)\n",
            "tensor(nan, grad_fn=<DivBackward0>)\n",
            "tensor(nan, grad_fn=<DivBackward0>)\n",
            "tensor(nan, grad_fn=<DivBackward0>)\n",
            "tensor(nan, grad_fn=<DivBackward0>)\n",
            "tensor(nan, grad_fn=<DivBackward0>)\n",
            "tensor(nan, grad_fn=<DivBackward0>)\n",
            "tensor(nan, grad_fn=<DivBackward0>)\n",
            "tensor(nan, grad_fn=<DivBackward0>)\n",
            "tensor(nan, grad_fn=<DivBackward0>)\n",
            "tensor(nan, grad_fn=<DivBackward0>)\n",
            "tensor(nan, grad_fn=<DivBackward0>)\n",
            "tensor(nan, grad_fn=<DivBackward0>)\n",
            "tensor(nan, grad_fn=<DivBackward0>)\n",
            "tensor(nan, grad_fn=<DivBackward0>)\n",
            "tensor(nan, grad_fn=<DivBackward0>)\n",
            "tensor(nan, grad_fn=<DivBackward0>)\n",
            "tensor(nan, grad_fn=<DivBackward0>)\n",
            "tensor(nan, grad_fn=<DivBackward0>)\n",
            "tensor(nan, grad_fn=<DivBackward0>)\n",
            "tensor(nan, grad_fn=<DivBackward0>)\n",
            "tensor(nan, grad_fn=<DivBackward0>)\n",
            "tensor(nan, grad_fn=<DivBackward0>)\n",
            "tensor(nan, grad_fn=<DivBackward0>)\n",
            "tensor(nan, grad_fn=<DivBackward0>)\n",
            "tensor(nan, grad_fn=<DivBackward0>)\n",
            "tensor(nan, grad_fn=<DivBackward0>)\n",
            "tensor(nan, grad_fn=<DivBackward0>)\n",
            "tensor(nan, grad_fn=<DivBackward0>)\n",
            "tensor(nan, grad_fn=<DivBackward0>)\n",
            "tensor(nan, grad_fn=<DivBackward0>)\n",
            "tensor(nan, grad_fn=<DivBackward0>)\n",
            "tensor(nan, grad_fn=<DivBackward0>)\n",
            "tensor(nan, grad_fn=<DivBackward0>)\n",
            "tensor(nan, grad_fn=<DivBackward0>)\n",
            "tensor(nan, grad_fn=<DivBackward0>)\n",
            "tensor(nan, grad_fn=<DivBackward0>)\n",
            "tensor(nan, grad_fn=<DivBackward0>)\n",
            "tensor(nan, grad_fn=<DivBackward0>)\n",
            "tensor(nan, grad_fn=<DivBackward0>)\n",
            "tensor(nan, grad_fn=<DivBackward0>)\n",
            "tensor(nan, grad_fn=<DivBackward0>)\n",
            "tensor(nan, grad_fn=<DivBackward0>)\n",
            "tensor(nan, grad_fn=<DivBackward0>)\n",
            "tensor(nan, grad_fn=<DivBackward0>)\n",
            "tensor(nan, grad_fn=<DivBackward0>)\n",
            "tensor(nan, grad_fn=<DivBackward0>)\n",
            "tensor(nan, grad_fn=<DivBackward0>)\n",
            "tensor(nan, grad_fn=<DivBackward0>)\n",
            "tensor(nan, grad_fn=<DivBackward0>)\n",
            "tensor(nan, grad_fn=<DivBackward0>)\n",
            "tensor(nan, grad_fn=<DivBackward0>)\n",
            "tensor(nan, grad_fn=<DivBackward0>)\n",
            "tensor(nan, grad_fn=<DivBackward0>)\n",
            "tensor(nan, grad_fn=<DivBackward0>)\n",
            "tensor(nan, grad_fn=<DivBackward0>)\n",
            "tensor(nan, grad_fn=<DivBackward0>)\n",
            "tensor(nan, grad_fn=<DivBackward0>)\n",
            "tensor(nan, grad_fn=<DivBackward0>)\n",
            "tensor(nan, grad_fn=<DivBackward0>)\n",
            "tensor(nan, grad_fn=<DivBackward0>)\n",
            "tensor(nan, grad_fn=<DivBackward0>)\n",
            "tensor(nan, grad_fn=<DivBackward0>)\n",
            "tensor(nan, grad_fn=<DivBackward0>)\n",
            "tensor(nan, grad_fn=<DivBackward0>)\n",
            "tensor(nan, grad_fn=<DivBackward0>)\n",
            "tensor(nan, grad_fn=<DivBackward0>)\n",
            "tensor(nan, grad_fn=<DivBackward0>)\n",
            "tensor(nan, grad_fn=<DivBackward0>)\n",
            "tensor(nan, grad_fn=<DivBackward0>)\n",
            "tensor(nan, grad_fn=<DivBackward0>)\n",
            "tensor(nan, grad_fn=<DivBackward0>)\n",
            "tensor(nan, grad_fn=<DivBackward0>)\n",
            "tensor(nan, grad_fn=<DivBackward0>)\n",
            "tensor(nan, grad_fn=<DivBackward0>)\n",
            "tensor(nan, grad_fn=<DivBackward0>)\n",
            "tensor(nan, grad_fn=<DivBackward0>)\n",
            "tensor(nan, grad_fn=<DivBackward0>)\n",
            "tensor(nan, grad_fn=<DivBackward0>)\n",
            "tensor(nan, grad_fn=<DivBackward0>)\n",
            "tensor(nan, grad_fn=<DivBackward0>)\n",
            "tensor(nan, grad_fn=<DivBackward0>)\n",
            "tensor(nan, grad_fn=<DivBackward0>)\n",
            "tensor(nan, grad_fn=<DivBackward0>)\n",
            "tensor(nan, grad_fn=<DivBackward0>)\n",
            "tensor(nan, grad_fn=<DivBackward0>)\n",
            "tensor(nan, grad_fn=<DivBackward0>)\n",
            "tensor(nan, grad_fn=<DivBackward0>)\n",
            "tensor(nan, grad_fn=<DivBackward0>)\n",
            "tensor(nan, grad_fn=<DivBackward0>)\n",
            "tensor(nan, grad_fn=<DivBackward0>)\n",
            "tensor(nan, grad_fn=<DivBackward0>)\n",
            "tensor(nan, grad_fn=<DivBackward0>)\n",
            "tensor(nan, grad_fn=<DivBackward0>)\n",
            "tensor(nan, grad_fn=<DivBackward0>)\n",
            "tensor(nan, grad_fn=<DivBackward0>)\n",
            "tensor(nan, grad_fn=<DivBackward0>)\n",
            "tensor(nan, grad_fn=<DivBackward0>)\n",
            "tensor(nan, grad_fn=<DivBackward0>)\n",
            "tensor(nan, grad_fn=<DivBackward0>)\n",
            "tensor(nan, grad_fn=<DivBackward0>)\n",
            "tensor(nan, grad_fn=<DivBackward0>)\n",
            "tensor(nan, grad_fn=<DivBackward0>)\n",
            "tensor(nan, grad_fn=<DivBackward0>)\n",
            "tensor(nan, grad_fn=<DivBackward0>)\n",
            "tensor(nan, grad_fn=<DivBackward0>)\n",
            "tensor(nan, grad_fn=<DivBackward0>)\n",
            "tensor(nan, grad_fn=<DivBackward0>)\n",
            "tensor(nan, grad_fn=<DivBackward0>)\n",
            "tensor(nan, grad_fn=<DivBackward0>)\n",
            "tensor(nan, grad_fn=<DivBackward0>)\n",
            "tensor(nan, grad_fn=<DivBackward0>)\n",
            "tensor(nan, grad_fn=<DivBackward0>)\n",
            "tensor(nan, grad_fn=<DivBackward0>)\n",
            "tensor(nan, grad_fn=<DivBackward0>)\n",
            "tensor(nan, grad_fn=<DivBackward0>)\n",
            "tensor(nan, grad_fn=<DivBackward0>)\n",
            "tensor(nan, grad_fn=<DivBackward0>)\n",
            "tensor(nan, grad_fn=<DivBackward0>)\n",
            "tensor(nan, grad_fn=<DivBackward0>)\n",
            "tensor(nan, grad_fn=<DivBackward0>)\n",
            "tensor(nan, grad_fn=<DivBackward0>)\n",
            "tensor(nan, grad_fn=<DivBackward0>)\n",
            "tensor(nan, grad_fn=<DivBackward0>)\n",
            "tensor(nan, grad_fn=<DivBackward0>)\n",
            "tensor(nan, grad_fn=<DivBackward0>)\n",
            "tensor(nan, grad_fn=<DivBackward0>)\n",
            "tensor(nan, grad_fn=<DivBackward0>)\n",
            "tensor(nan, grad_fn=<DivBackward0>)\n",
            "tensor(nan, grad_fn=<DivBackward0>)\n",
            "tensor(nan, grad_fn=<DivBackward0>)\n",
            "tensor(nan, grad_fn=<DivBackward0>)\n",
            "tensor(nan, grad_fn=<DivBackward0>)\n",
            "tensor(nan, grad_fn=<DivBackward0>)\n",
            "tensor(nan, grad_fn=<DivBackward0>)\n",
            "tensor(nan, grad_fn=<DivBackward0>)\n",
            "tensor(nan, grad_fn=<DivBackward0>)\n",
            "tensor(nan, grad_fn=<DivBackward0>)\n",
            "tensor(nan, grad_fn=<DivBackward0>)\n",
            "tensor(nan, grad_fn=<DivBackward0>)\n",
            "tensor(nan, grad_fn=<DivBackward0>)\n",
            "tensor(nan, grad_fn=<DivBackward0>)\n",
            "tensor(nan, grad_fn=<DivBackward0>)\n",
            "tensor(nan, grad_fn=<DivBackward0>)\n",
            "tensor(nan, grad_fn=<DivBackward0>)\n",
            "tensor(nan, grad_fn=<DivBackward0>)\n",
            "tensor(nan, grad_fn=<DivBackward0>)\n",
            "tensor(nan, grad_fn=<DivBackward0>)\n",
            "tensor(nan, grad_fn=<DivBackward0>)\n",
            "tensor(nan, grad_fn=<DivBackward0>)\n",
            "tensor(nan, grad_fn=<DivBackward0>)\n",
            "tensor(nan, grad_fn=<DivBackward0>)\n",
            "tensor(nan, grad_fn=<DivBackward0>)\n",
            "tensor(nan, grad_fn=<DivBackward0>)\n",
            "tensor(nan, grad_fn=<DivBackward0>)\n",
            "tensor(nan, grad_fn=<DivBackward0>)\n",
            "tensor(nan, grad_fn=<DivBackward0>)\n",
            "tensor(nan, grad_fn=<DivBackward0>)\n",
            "tensor(nan, grad_fn=<DivBackward0>)\n",
            "tensor(nan, grad_fn=<DivBackward0>)\n",
            "tensor(nan, grad_fn=<DivBackward0>)\n",
            "tensor(nan, grad_fn=<DivBackward0>)\n",
            "tensor(nan, grad_fn=<DivBackward0>)\n",
            "tensor(nan, grad_fn=<DivBackward0>)\n",
            "tensor(nan, grad_fn=<DivBackward0>)\n",
            "tensor(nan, grad_fn=<DivBackward0>)\n",
            "tensor(nan, grad_fn=<DivBackward0>)\n",
            "tensor(nan, grad_fn=<DivBackward0>)\n",
            "tensor(nan, grad_fn=<DivBackward0>)\n",
            "tensor(nan, grad_fn=<DivBackward0>)\n",
            "tensor(nan, grad_fn=<DivBackward0>)\n",
            "tensor(nan, grad_fn=<DivBackward0>)\n",
            "tensor(nan, grad_fn=<DivBackward0>)\n",
            "tensor(nan, grad_fn=<DivBackward0>)\n",
            "tensor(nan, grad_fn=<DivBackward0>)\n",
            "tensor(nan, grad_fn=<DivBackward0>)\n",
            "tensor(nan, grad_fn=<DivBackward0>)\n",
            "tensor(nan, grad_fn=<DivBackward0>)\n",
            "tensor(nan, grad_fn=<DivBackward0>)\n",
            "tensor(nan, grad_fn=<DivBackward0>)\n",
            "tensor(nan, grad_fn=<DivBackward0>)\n",
            "tensor(nan, grad_fn=<DivBackward0>)\n",
            "tensor(nan, grad_fn=<DivBackward0>)\n",
            "tensor(nan, grad_fn=<DivBackward0>)\n",
            "tensor(nan, grad_fn=<DivBackward0>)\n",
            "tensor(nan, grad_fn=<DivBackward0>)\n",
            "tensor(nan, grad_fn=<DivBackward0>)\n",
            "tensor(nan, grad_fn=<DivBackward0>)\n",
            "tensor(nan, grad_fn=<DivBackward0>)\n",
            "tensor(nan, grad_fn=<DivBackward0>)\n",
            "tensor(nan, grad_fn=<DivBackward0>)\n",
            "tensor(nan, grad_fn=<DivBackward0>)\n",
            "tensor(nan, grad_fn=<DivBackward0>)\n",
            "tensor(nan, grad_fn=<DivBackward0>)\n",
            "tensor(nan, grad_fn=<DivBackward0>)\n",
            "tensor(nan, grad_fn=<DivBackward0>)\n",
            "tensor(nan, grad_fn=<DivBackward0>)\n",
            "tensor(nan, grad_fn=<DivBackward0>)\n",
            "tensor(nan, grad_fn=<DivBackward0>)\n",
            "tensor(nan, grad_fn=<DivBackward0>)\n",
            "tensor(nan, grad_fn=<DivBackward0>)\n",
            "tensor(nan, grad_fn=<DivBackward0>)\n",
            "tensor(nan, grad_fn=<DivBackward0>)\n",
            "tensor(nan, grad_fn=<DivBackward0>)\n",
            "tensor(nan, grad_fn=<DivBackward0>)\n",
            "tensor(nan, grad_fn=<DivBackward0>)\n",
            "tensor(nan, grad_fn=<DivBackward0>)\n",
            "tensor(nan, grad_fn=<DivBackward0>)\n",
            "tensor(nan, grad_fn=<DivBackward0>)\n",
            "tensor(nan, grad_fn=<DivBackward0>)\n",
            "tensor(nan, grad_fn=<DivBackward0>)\n",
            "tensor(nan, grad_fn=<DivBackward0>)\n",
            "tensor(nan, grad_fn=<DivBackward0>)\n",
            "tensor(nan, grad_fn=<DivBackward0>)\n",
            "tensor(nan, grad_fn=<DivBackward0>)\n",
            "tensor(nan, grad_fn=<DivBackward0>)\n",
            "tensor(nan, grad_fn=<DivBackward0>)\n",
            "tensor(nan, grad_fn=<DivBackward0>)\n",
            "tensor(nan, grad_fn=<DivBackward0>)\n",
            "tensor(nan, grad_fn=<DivBackward0>)\n",
            "tensor(nan, grad_fn=<DivBackward0>)\n",
            "tensor(nan, grad_fn=<DivBackward0>)\n",
            "tensor(nan, grad_fn=<DivBackward0>)\n",
            "tensor(nan, grad_fn=<DivBackward0>)\n",
            "tensor(nan, grad_fn=<DivBackward0>)\n",
            "tensor(nan, grad_fn=<DivBackward0>)\n",
            "tensor(nan, grad_fn=<DivBackward0>)\n",
            "tensor(nan, grad_fn=<DivBackward0>)\n",
            "tensor(nan, grad_fn=<DivBackward0>)\n",
            "tensor(nan, grad_fn=<DivBackward0>)\n",
            "tensor(nan, grad_fn=<DivBackward0>)\n",
            "tensor(nan, grad_fn=<DivBackward0>)\n",
            "tensor(nan, grad_fn=<DivBackward0>)\n",
            "tensor(nan, grad_fn=<DivBackward0>)\n",
            "tensor(nan, grad_fn=<DivBackward0>)\n",
            "tensor(nan, grad_fn=<DivBackward0>)\n",
            "tensor(nan, grad_fn=<DivBackward0>)\n",
            "tensor(nan, grad_fn=<DivBackward0>)\n",
            "tensor(nan, grad_fn=<DivBackward0>)\n",
            "tensor(nan, grad_fn=<DivBackward0>)\n",
            "tensor(nan, grad_fn=<DivBackward0>)\n",
            "tensor(nan, grad_fn=<DivBackward0>)\n",
            "tensor(nan, grad_fn=<DivBackward0>)\n",
            "tensor(nan, grad_fn=<DivBackward0>)\n",
            "tensor(nan, grad_fn=<DivBackward0>)\n",
            "tensor(nan, grad_fn=<DivBackward0>)\n",
            "tensor(nan, grad_fn=<DivBackward0>)\n",
            "tensor(nan, grad_fn=<DivBackward0>)\n",
            "tensor(nan, grad_fn=<DivBackward0>)\n",
            "tensor(nan, grad_fn=<DivBackward0>)\n",
            "tensor(nan, grad_fn=<DivBackward0>)\n",
            "tensor(nan, grad_fn=<DivBackward0>)\n",
            "tensor(nan, grad_fn=<DivBackward0>)\n",
            "tensor(nan, grad_fn=<DivBackward0>)\n",
            "tensor(nan, grad_fn=<DivBackward0>)\n",
            "tensor(nan, grad_fn=<DivBackward0>)\n",
            "tensor(nan, grad_fn=<DivBackward0>)\n",
            "tensor(nan, grad_fn=<DivBackward0>)\n",
            "tensor(nan, grad_fn=<DivBackward0>)\n",
            "tensor(nan, grad_fn=<DivBackward0>)\n",
            "tensor(nan, grad_fn=<DivBackward0>)\n",
            "tensor(nan, grad_fn=<DivBackward0>)\n",
            "tensor(nan, grad_fn=<DivBackward0>)\n",
            "tensor(nan, grad_fn=<DivBackward0>)\n",
            "tensor(nan, grad_fn=<DivBackward0>)\n",
            "tensor(nan, grad_fn=<DivBackward0>)\n",
            "tensor(nan, grad_fn=<DivBackward0>)\n",
            "tensor(nan, grad_fn=<DivBackward0>)\n",
            "tensor(nan, grad_fn=<DivBackward0>)\n",
            "tensor(nan, grad_fn=<DivBackward0>)\n",
            "tensor(nan, grad_fn=<DivBackward0>)\n",
            "tensor(nan, grad_fn=<DivBackward0>)\n",
            "tensor(nan, grad_fn=<DivBackward0>)\n",
            "tensor(nan, grad_fn=<DivBackward0>)\n",
            "tensor(nan, grad_fn=<DivBackward0>)\n",
            "tensor(nan, grad_fn=<DivBackward0>)\n",
            "tensor(nan, grad_fn=<DivBackward0>)\n",
            "tensor(nan, grad_fn=<DivBackward0>)\n",
            "tensor(nan, grad_fn=<DivBackward0>)\n",
            "tensor(nan, grad_fn=<DivBackward0>)\n",
            "tensor(nan, grad_fn=<DivBackward0>)\n",
            "tensor(nan, grad_fn=<DivBackward0>)\n",
            "tensor(nan, grad_fn=<DivBackward0>)\n",
            "tensor(nan, grad_fn=<DivBackward0>)\n",
            "tensor(nan, grad_fn=<DivBackward0>)\n",
            "tensor(nan, grad_fn=<DivBackward0>)\n",
            "tensor(nan, grad_fn=<DivBackward0>)\n",
            "tensor(nan, grad_fn=<DivBackward0>)\n",
            "tensor(nan, grad_fn=<DivBackward0>)\n",
            "tensor(nan, grad_fn=<DivBackward0>)\n",
            "tensor(nan, grad_fn=<DivBackward0>)\n",
            "tensor(nan, grad_fn=<DivBackward0>)\n",
            "tensor(nan, grad_fn=<DivBackward0>)\n",
            "tensor(nan, grad_fn=<DivBackward0>)\n",
            "tensor(nan, grad_fn=<DivBackward0>)\n",
            "tensor(nan, grad_fn=<DivBackward0>)\n",
            "tensor(nan, grad_fn=<DivBackward0>)\n",
            "tensor(nan, grad_fn=<DivBackward0>)\n",
            "tensor(nan, grad_fn=<DivBackward0>)\n",
            "tensor(nan, grad_fn=<DivBackward0>)\n",
            "tensor(nan, grad_fn=<DivBackward0>)\n",
            "tensor(nan, grad_fn=<DivBackward0>)\n",
            "tensor(nan, grad_fn=<DivBackward0>)\n",
            "tensor(nan, grad_fn=<DivBackward0>)\n",
            "tensor(nan, grad_fn=<DivBackward0>)\n",
            "tensor(nan, grad_fn=<DivBackward0>)\n",
            "tensor(nan, grad_fn=<DivBackward0>)\n",
            "tensor(nan, grad_fn=<DivBackward0>)\n",
            "tensor(nan, grad_fn=<DivBackward0>)\n",
            "tensor(nan, grad_fn=<DivBackward0>)\n",
            "tensor(nan, grad_fn=<DivBackward0>)\n",
            "tensor(nan, grad_fn=<DivBackward0>)\n",
            "tensor(nan, grad_fn=<DivBackward0>)\n",
            "tensor(nan, grad_fn=<DivBackward0>)\n",
            "tensor(nan, grad_fn=<DivBackward0>)\n",
            "tensor(nan, grad_fn=<DivBackward0>)\n",
            "tensor(nan, grad_fn=<DivBackward0>)\n",
            "tensor(nan, grad_fn=<DivBackward0>)\n",
            "tensor(nan, grad_fn=<DivBackward0>)\n",
            "tensor(nan, grad_fn=<DivBackward0>)\n",
            "tensor(nan, grad_fn=<DivBackward0>)\n",
            "tensor(nan, grad_fn=<DivBackward0>)\n",
            "tensor(nan, grad_fn=<DivBackward0>)\n",
            "tensor(nan, grad_fn=<DivBackward0>)\n",
            "tensor(nan, grad_fn=<DivBackward0>)\n",
            "tensor(nan, grad_fn=<DivBackward0>)\n",
            "tensor(nan, grad_fn=<DivBackward0>)\n",
            "tensor(nan, grad_fn=<DivBackward0>)\n",
            "tensor(nan, grad_fn=<DivBackward0>)\n",
            "tensor(nan, grad_fn=<DivBackward0>)\n",
            "tensor(nan, grad_fn=<DivBackward0>)\n",
            "tensor(nan, grad_fn=<DivBackward0>)\n",
            "tensor(nan, grad_fn=<DivBackward0>)\n",
            "tensor(nan, grad_fn=<DivBackward0>)\n",
            "tensor(nan, grad_fn=<DivBackward0>)\n",
            "tensor(nan, grad_fn=<DivBackward0>)\n",
            "tensor(nan, grad_fn=<DivBackward0>)\n",
            "tensor(nan, grad_fn=<DivBackward0>)\n",
            "tensor(nan, grad_fn=<DivBackward0>)\n",
            "tensor(nan, grad_fn=<DivBackward0>)\n",
            "tensor(nan, grad_fn=<DivBackward0>)\n",
            "tensor(nan, grad_fn=<DivBackward0>)\n",
            "tensor(nan, grad_fn=<DivBackward0>)\n",
            "tensor(nan, grad_fn=<DivBackward0>)\n",
            "tensor(nan, grad_fn=<DivBackward0>)\n",
            "tensor(nan, grad_fn=<DivBackward0>)\n",
            "tensor(nan, grad_fn=<DivBackward0>)\n",
            "tensor(nan, grad_fn=<DivBackward0>)\n",
            "tensor(nan, grad_fn=<DivBackward0>)\n",
            "tensor(nan, grad_fn=<DivBackward0>)\n",
            "tensor(nan, grad_fn=<DivBackward0>)\n",
            "tensor(nan, grad_fn=<DivBackward0>)\n",
            "tensor(nan, grad_fn=<DivBackward0>)\n",
            "tensor(nan, grad_fn=<DivBackward0>)\n",
            "tensor(nan, grad_fn=<DivBackward0>)\n",
            "tensor(nan, grad_fn=<DivBackward0>)\n",
            "tensor(nan, grad_fn=<DivBackward0>)\n",
            "tensor(nan, grad_fn=<DivBackward0>)\n",
            "tensor(nan, grad_fn=<DivBackward0>)\n",
            "tensor(nan, grad_fn=<DivBackward0>)\n",
            "tensor(nan, grad_fn=<DivBackward0>)\n",
            "tensor(nan, grad_fn=<DivBackward0>)\n",
            "tensor(nan, grad_fn=<DivBackward0>)\n",
            "tensor(nan, grad_fn=<DivBackward0>)\n",
            "tensor(nan, grad_fn=<DivBackward0>)\n",
            "tensor(nan, grad_fn=<DivBackward0>)\n",
            "tensor(nan, grad_fn=<DivBackward0>)\n",
            "tensor(nan, grad_fn=<DivBackward0>)\n",
            "tensor(nan, grad_fn=<DivBackward0>)\n",
            "tensor(nan, grad_fn=<DivBackward0>)\n",
            "tensor(nan, grad_fn=<DivBackward0>)\n",
            "tensor(nan, grad_fn=<DivBackward0>)\n",
            "tensor(nan, grad_fn=<DivBackward0>)\n",
            "tensor(nan, grad_fn=<DivBackward0>)\n",
            "tensor(nan, grad_fn=<DivBackward0>)\n",
            "tensor(nan, grad_fn=<DivBackward0>)\n",
            "tensor(nan, grad_fn=<DivBackward0>)\n",
            "tensor(nan, grad_fn=<DivBackward0>)\n",
            "tensor(nan, grad_fn=<DivBackward0>)\n",
            "tensor(nan, grad_fn=<DivBackward0>)\n",
            "tensor(nan, grad_fn=<DivBackward0>)\n",
            "tensor(nan, grad_fn=<DivBackward0>)\n",
            "tensor(nan, grad_fn=<DivBackward0>)\n",
            "tensor(nan, grad_fn=<DivBackward0>)\n",
            "tensor(nan, grad_fn=<DivBackward0>)\n",
            "tensor(nan, grad_fn=<DivBackward0>)\n",
            "tensor(nan, grad_fn=<DivBackward0>)\n",
            "tensor(nan, grad_fn=<DivBackward0>)\n",
            "tensor(nan, grad_fn=<DivBackward0>)\n",
            "tensor(nan, grad_fn=<DivBackward0>)\n",
            "tensor(nan, grad_fn=<DivBackward0>)\n",
            "tensor(nan, grad_fn=<DivBackward0>)\n",
            "tensor(nan, grad_fn=<DivBackward0>)\n",
            "tensor(nan, grad_fn=<DivBackward0>)\n",
            "tensor(nan, grad_fn=<DivBackward0>)\n",
            "tensor(nan, grad_fn=<DivBackward0>)\n",
            "tensor(nan, grad_fn=<DivBackward0>)\n",
            "tensor(nan, grad_fn=<DivBackward0>)\n",
            "tensor(nan, grad_fn=<DivBackward0>)\n",
            "tensor(nan, grad_fn=<DivBackward0>)\n",
            "tensor(nan, grad_fn=<DivBackward0>)\n",
            "tensor(nan, grad_fn=<DivBackward0>)\n",
            "tensor(nan, grad_fn=<DivBackward0>)\n",
            "tensor(nan, grad_fn=<DivBackward0>)\n",
            "tensor(nan, grad_fn=<DivBackward0>)\n",
            "tensor(nan, grad_fn=<DivBackward0>)\n",
            "tensor(nan, grad_fn=<DivBackward0>)\n",
            "tensor(nan, grad_fn=<DivBackward0>)\n",
            "tensor(nan, grad_fn=<DivBackward0>)\n",
            "tensor(nan, grad_fn=<DivBackward0>)\n",
            "tensor(nan, grad_fn=<DivBackward0>)\n",
            "tensor(nan, grad_fn=<DivBackward0>)\n",
            "tensor(nan, grad_fn=<DivBackward0>)\n",
            "tensor(nan, grad_fn=<DivBackward0>)\n",
            "tensor(nan, grad_fn=<DivBackward0>)\n",
            "tensor(nan, grad_fn=<DivBackward0>)\n",
            "tensor(nan, grad_fn=<DivBackward0>)\n",
            "tensor(nan, grad_fn=<DivBackward0>)\n",
            "tensor(nan, grad_fn=<DivBackward0>)\n",
            "tensor(nan, grad_fn=<DivBackward0>)\n",
            "tensor(nan, grad_fn=<DivBackward0>)\n",
            "tensor(nan, grad_fn=<DivBackward0>)\n",
            "tensor(nan, grad_fn=<DivBackward0>)\n",
            "tensor(nan, grad_fn=<DivBackward0>)\n",
            "tensor(nan, grad_fn=<DivBackward0>)\n",
            "tensor(nan, grad_fn=<DivBackward0>)\n",
            "tensor(nan, grad_fn=<DivBackward0>)\n",
            "tensor(nan, grad_fn=<DivBackward0>)\n",
            "tensor(nan, grad_fn=<DivBackward0>)\n",
            "tensor(nan, grad_fn=<DivBackward0>)\n",
            "tensor(nan, grad_fn=<DivBackward0>)\n",
            "tensor(nan, grad_fn=<DivBackward0>)\n",
            "tensor(nan, grad_fn=<DivBackward0>)\n",
            "tensor(nan, grad_fn=<DivBackward0>)\n",
            "tensor(nan, grad_fn=<DivBackward0>)\n",
            "tensor(nan, grad_fn=<DivBackward0>)\n",
            "tensor(nan, grad_fn=<DivBackward0>)\n",
            "tensor(nan, grad_fn=<DivBackward0>)\n",
            "tensor(nan, grad_fn=<DivBackward0>)\n",
            "tensor(nan, grad_fn=<DivBackward0>)\n",
            "tensor(nan, grad_fn=<DivBackward0>)\n",
            "tensor(nan, grad_fn=<DivBackward0>)\n",
            "tensor(nan, grad_fn=<DivBackward0>)\n",
            "tensor(nan, grad_fn=<DivBackward0>)\n",
            "tensor(nan, grad_fn=<DivBackward0>)\n",
            "tensor(nan, grad_fn=<DivBackward0>)\n",
            "tensor(nan, grad_fn=<DivBackward0>)\n",
            "tensor(nan, grad_fn=<DivBackward0>)\n",
            "tensor(nan, grad_fn=<DivBackward0>)\n",
            "tensor(nan, grad_fn=<DivBackward0>)\n",
            "tensor(nan, grad_fn=<DivBackward0>)\n",
            "tensor(nan, grad_fn=<DivBackward0>)\n",
            "tensor(nan, grad_fn=<DivBackward0>)\n",
            "tensor(nan, grad_fn=<DivBackward0>)\n",
            "tensor(nan, grad_fn=<DivBackward0>)\n",
            "tensor(nan, grad_fn=<DivBackward0>)\n",
            "tensor(nan, grad_fn=<DivBackward0>)\n",
            "tensor(nan, grad_fn=<DivBackward0>)\n",
            "tensor(nan, grad_fn=<DivBackward0>)\n",
            "tensor(nan, grad_fn=<DivBackward0>)\n",
            "tensor(nan, grad_fn=<DivBackward0>)\n",
            "tensor(nan, grad_fn=<DivBackward0>)\n",
            "tensor(nan, grad_fn=<DivBackward0>)\n",
            "tensor(nan, grad_fn=<DivBackward0>)\n",
            "tensor(nan, grad_fn=<DivBackward0>)\n",
            "tensor(nan, grad_fn=<DivBackward0>)\n",
            "tensor(nan, grad_fn=<DivBackward0>)\n",
            "tensor(nan, grad_fn=<DivBackward0>)\n",
            "tensor(nan, grad_fn=<DivBackward0>)\n",
            "tensor(nan, grad_fn=<DivBackward0>)\n",
            "tensor(nan, grad_fn=<DivBackward0>)\n",
            "tensor(nan, grad_fn=<DivBackward0>)\n",
            "tensor(nan, grad_fn=<DivBackward0>)\n",
            "tensor(nan, grad_fn=<DivBackward0>)\n",
            "tensor(nan, grad_fn=<DivBackward0>)\n",
            "tensor(nan, grad_fn=<DivBackward0>)\n",
            "tensor(nan, grad_fn=<DivBackward0>)\n",
            "tensor(nan, grad_fn=<DivBackward0>)\n",
            "tensor(nan, grad_fn=<DivBackward0>)\n",
            "tensor(nan, grad_fn=<DivBackward0>)\n",
            "tensor(nan, grad_fn=<DivBackward0>)\n",
            "tensor(nan, grad_fn=<DivBackward0>)\n",
            "tensor(nan, grad_fn=<DivBackward0>)\n",
            "tensor(nan, grad_fn=<DivBackward0>)\n",
            "tensor(nan, grad_fn=<DivBackward0>)\n",
            "tensor(nan, grad_fn=<DivBackward0>)\n",
            "tensor(nan, grad_fn=<DivBackward0>)\n",
            "tensor(nan, grad_fn=<DivBackward0>)\n",
            "tensor(nan, grad_fn=<DivBackward0>)\n",
            "tensor(nan, grad_fn=<DivBackward0>)\n",
            "tensor(nan, grad_fn=<DivBackward0>)\n",
            "tensor(nan, grad_fn=<DivBackward0>)\n",
            "tensor(nan, grad_fn=<DivBackward0>)\n",
            "tensor(nan, grad_fn=<DivBackward0>)\n",
            "tensor(nan, grad_fn=<DivBackward0>)\n",
            "tensor(nan, grad_fn=<DivBackward0>)\n",
            "tensor(nan, grad_fn=<DivBackward0>)\n",
            "tensor(nan, grad_fn=<DivBackward0>)\n",
            "0.0975 "
          ],
          "name": "stdout"
        }
      ]
    },
    {
      "cell_type": "markdown",
      "metadata": {
        "id": "IOFUrqP0w4w-",
        "colab_type": "text"
      },
      "source": [
        "## Upto now we were working with the formulas we came up with.\n",
        "## Moving to native Pytorch and fastai tools, along with more involded networks. "
      ]
    },
    {
      "cell_type": "code",
      "metadata": {
        "id": "960eQL_B0zES",
        "colab_type": "code",
        "colab": {}
      },
      "source": [
        "##Replacing optimizer with Torch's SGD"
      ],
      "execution_count": 99,
      "outputs": []
    },
    {
      "cell_type": "code",
      "metadata": {
        "id": "BGY_2-0Y04Gi",
        "colab_type": "code",
        "colab": {}
      },
      "source": [
        "linear = nn.Linear(28*28, 10)\n",
        "optim = SGD(linear.parameters(), lr)"
      ],
      "execution_count": 100,
      "outputs": []
    },
    {
      "cell_type": "code",
      "metadata": {
        "id": "t5ibaTgc1FrK",
        "colab_type": "code",
        "colab": {}
      },
      "source": [
        "dls = DataLoaders(dls, dls_test)"
      ],
      "execution_count": 101,
      "outputs": []
    },
    {
      "cell_type": "code",
      "metadata": {
        "id": "AQk7btzG1W4p",
        "colab_type": "code",
        "colab": {}
      },
      "source": [
        "learn = Learner(dls, linear, loss_func=cross_entropy, opt_func=SGD,\n",
        "                metrics=acc_of_data_)"
      ],
      "execution_count": 102,
      "outputs": []
    },
    {
      "cell_type": "code",
      "metadata": {
        "id": "uQvTnoUn1XUw",
        "colab_type": "code",
        "colab": {
          "base_uri": "https://localhost:8080/",
          "height": 363
        },
        "outputId": "c7fcad1f-80c8-4208-b660-a055982478ca"
      },
      "source": [
        "learn.fit(10, lr)"
      ],
      "execution_count": 103,
      "outputs": [
        {
          "output_type": "display_data",
          "data": {
            "text/html": [
              "<table border=\"1\" class=\"dataframe\">\n",
              "  <thead>\n",
              "    <tr style=\"text-align: left;\">\n",
              "      <th>epoch</th>\n",
              "      <th>train_loss</th>\n",
              "      <th>valid_loss</th>\n",
              "      <th>acc_of_data_</th>\n",
              "      <th>time</th>\n",
              "    </tr>\n",
              "  </thead>\n",
              "  <tbody>\n",
              "    <tr>\n",
              "      <td>0</td>\n",
              "      <td>1.642563</td>\n",
              "      <td>1.594307</td>\n",
              "      <td>0.742800</td>\n",
              "      <td>00:02</td>\n",
              "    </tr>\n",
              "    <tr>\n",
              "      <td>1</td>\n",
              "      <td>1.251247</td>\n",
              "      <td>1.220256</td>\n",
              "      <td>0.803100</td>\n",
              "      <td>00:02</td>\n",
              "    </tr>\n",
              "    <tr>\n",
              "      <td>2</td>\n",
              "      <td>1.042122</td>\n",
              "      <td>1.014514</td>\n",
              "      <td>0.827500</td>\n",
              "      <td>00:02</td>\n",
              "    </tr>\n",
              "    <tr>\n",
              "      <td>3</td>\n",
              "      <td>0.908192</td>\n",
              "      <td>0.887444</td>\n",
              "      <td>0.838300</td>\n",
              "      <td>00:02</td>\n",
              "    </tr>\n",
              "    <tr>\n",
              "      <td>4</td>\n",
              "      <td>0.826135</td>\n",
              "      <td>0.801656</td>\n",
              "      <td>0.845200</td>\n",
              "      <td>00:02</td>\n",
              "    </tr>\n",
              "    <tr>\n",
              "      <td>5</td>\n",
              "      <td>0.768344</td>\n",
              "      <td>0.739670</td>\n",
              "      <td>0.851700</td>\n",
              "      <td>00:02</td>\n",
              "    </tr>\n",
              "    <tr>\n",
              "      <td>6</td>\n",
              "      <td>0.724449</td>\n",
              "      <td>0.692750</td>\n",
              "      <td>0.857500</td>\n",
              "      <td>00:02</td>\n",
              "    </tr>\n",
              "    <tr>\n",
              "      <td>7</td>\n",
              "      <td>0.682744</td>\n",
              "      <td>0.655764</td>\n",
              "      <td>0.862000</td>\n",
              "      <td>00:02</td>\n",
              "    </tr>\n",
              "    <tr>\n",
              "      <td>8</td>\n",
              "      <td>0.653099</td>\n",
              "      <td>0.625897</td>\n",
              "      <td>0.866200</td>\n",
              "      <td>00:02</td>\n",
              "    </tr>\n",
              "    <tr>\n",
              "      <td>9</td>\n",
              "      <td>0.632567</td>\n",
              "      <td>0.601147</td>\n",
              "      <td>0.869500</td>\n",
              "      <td>00:02</td>\n",
              "    </tr>\n",
              "  </tbody>\n",
              "</table>"
            ],
            "text/plain": [
              "<IPython.core.display.HTML object>"
            ]
          },
          "metadata": {
            "tags": []
          }
        }
      ]
    },
    {
      "cell_type": "markdown",
      "metadata": {
        "id": "XtZxYXR5Juw8",
        "colab_type": "text"
      },
      "source": [
        "##With the linear model we are at accuracy of ~87% while training for 10 epochs.\n",
        "\n",
        "### Non let's add some non linearity and See where things go. "
      ]
    },
    {
      "cell_type": "code",
      "metadata": {
        "id": "R9u0__1z1XoI",
        "colab_type": "code",
        "colab": {}
      },
      "source": [
        "###Adding a non linearity\n",
        "\n",
        "model = nn.Sequential(\n",
        "    nn.Linear(28*28,128),\n",
        "    nn.ReLU(),\n",
        "    nn.Linear(128,10))"
      ],
      "execution_count": 133,
      "outputs": []
    },
    {
      "cell_type": "code",
      "metadata": {
        "id": "Do6aAXI-8Tz1",
        "colab_type": "code",
        "colab": {}
      },
      "source": [
        "learner = Learner(dls, model, opt_func=SGD,\n",
        "                loss_func=cross_entropy, metrics=acc_of_data_)"
      ],
      "execution_count": 134,
      "outputs": []
    },
    {
      "cell_type": "code",
      "metadata": {
        "id": "Z-gkZ3GC8qSE",
        "colab_type": "code",
        "colab": {
          "base_uri": "https://localhost:8080/",
          "height": 1000
        },
        "outputId": "e07cbce8-5c88-4c79-e2fe-78cb0f2cf111"
      },
      "source": [
        "learner.fit(40, 1e-2)"
      ],
      "execution_count": 135,
      "outputs": [
        {
          "output_type": "display_data",
          "data": {
            "text/html": [
              "<table border=\"1\" class=\"dataframe\">\n",
              "  <thead>\n",
              "    <tr style=\"text-align: left;\">\n",
              "      <th>epoch</th>\n",
              "      <th>train_loss</th>\n",
              "      <th>valid_loss</th>\n",
              "      <th>acc_of_data_</th>\n",
              "      <th>time</th>\n",
              "    </tr>\n",
              "  </thead>\n",
              "  <tbody>\n",
              "    <tr>\n",
              "      <td>0</td>\n",
              "      <td>0.630604</td>\n",
              "      <td>0.598414</td>\n",
              "      <td>0.863800</td>\n",
              "      <td>00:02</td>\n",
              "    </tr>\n",
              "    <tr>\n",
              "      <td>1</td>\n",
              "      <td>0.419179</td>\n",
              "      <td>0.409471</td>\n",
              "      <td>0.892300</td>\n",
              "      <td>00:02</td>\n",
              "    </tr>\n",
              "    <tr>\n",
              "      <td>2</td>\n",
              "      <td>0.379205</td>\n",
              "      <td>0.352502</td>\n",
              "      <td>0.902400</td>\n",
              "      <td>00:02</td>\n",
              "    </tr>\n",
              "    <tr>\n",
              "      <td>3</td>\n",
              "      <td>0.350308</td>\n",
              "      <td>0.324070</td>\n",
              "      <td>0.908000</td>\n",
              "      <td>00:03</td>\n",
              "    </tr>\n",
              "    <tr>\n",
              "      <td>4</td>\n",
              "      <td>0.310007</td>\n",
              "      <td>0.304977</td>\n",
              "      <td>0.914000</td>\n",
              "      <td>00:02</td>\n",
              "    </tr>\n",
              "    <tr>\n",
              "      <td>5</td>\n",
              "      <td>0.294519</td>\n",
              "      <td>0.290050</td>\n",
              "      <td>0.919100</td>\n",
              "      <td>00:02</td>\n",
              "    </tr>\n",
              "    <tr>\n",
              "      <td>6</td>\n",
              "      <td>0.287073</td>\n",
              "      <td>0.277882</td>\n",
              "      <td>0.922700</td>\n",
              "      <td>00:02</td>\n",
              "    </tr>\n",
              "    <tr>\n",
              "      <td>7</td>\n",
              "      <td>0.273293</td>\n",
              "      <td>0.266985</td>\n",
              "      <td>0.925400</td>\n",
              "      <td>00:02</td>\n",
              "    </tr>\n",
              "    <tr>\n",
              "      <td>8</td>\n",
              "      <td>0.250893</td>\n",
              "      <td>0.259097</td>\n",
              "      <td>0.929300</td>\n",
              "      <td>00:02</td>\n",
              "    </tr>\n",
              "    <tr>\n",
              "      <td>9</td>\n",
              "      <td>0.248909</td>\n",
              "      <td>0.248652</td>\n",
              "      <td>0.930800</td>\n",
              "      <td>00:02</td>\n",
              "    </tr>\n",
              "    <tr>\n",
              "      <td>10</td>\n",
              "      <td>0.245099</td>\n",
              "      <td>0.239996</td>\n",
              "      <td>0.932900</td>\n",
              "      <td>00:02</td>\n",
              "    </tr>\n",
              "    <tr>\n",
              "      <td>11</td>\n",
              "      <td>0.253955</td>\n",
              "      <td>0.232001</td>\n",
              "      <td>0.934900</td>\n",
              "      <td>00:02</td>\n",
              "    </tr>\n",
              "    <tr>\n",
              "      <td>12</td>\n",
              "      <td>0.232764</td>\n",
              "      <td>0.224610</td>\n",
              "      <td>0.937500</td>\n",
              "      <td>00:02</td>\n",
              "    </tr>\n",
              "    <tr>\n",
              "      <td>13</td>\n",
              "      <td>0.216549</td>\n",
              "      <td>0.218287</td>\n",
              "      <td>0.937400</td>\n",
              "      <td>00:03</td>\n",
              "    </tr>\n",
              "    <tr>\n",
              "      <td>14</td>\n",
              "      <td>0.233071</td>\n",
              "      <td>0.211198</td>\n",
              "      <td>0.940100</td>\n",
              "      <td>00:02</td>\n",
              "    </tr>\n",
              "    <tr>\n",
              "      <td>15</td>\n",
              "      <td>0.216518</td>\n",
              "      <td>0.204188</td>\n",
              "      <td>0.942600</td>\n",
              "      <td>00:02</td>\n",
              "    </tr>\n",
              "    <tr>\n",
              "      <td>16</td>\n",
              "      <td>0.194711</td>\n",
              "      <td>0.199471</td>\n",
              "      <td>0.943100</td>\n",
              "      <td>00:03</td>\n",
              "    </tr>\n",
              "    <tr>\n",
              "      <td>17</td>\n",
              "      <td>0.197627</td>\n",
              "      <td>0.193225</td>\n",
              "      <td>0.944400</td>\n",
              "      <td>00:03</td>\n",
              "    </tr>\n",
              "    <tr>\n",
              "      <td>18</td>\n",
              "      <td>0.196991</td>\n",
              "      <td>0.188538</td>\n",
              "      <td>0.945800</td>\n",
              "      <td>00:03</td>\n",
              "    </tr>\n",
              "    <tr>\n",
              "      <td>19</td>\n",
              "      <td>0.181122</td>\n",
              "      <td>0.182677</td>\n",
              "      <td>0.946800</td>\n",
              "      <td>00:02</td>\n",
              "    </tr>\n",
              "    <tr>\n",
              "      <td>20</td>\n",
              "      <td>0.181356</td>\n",
              "      <td>0.178094</td>\n",
              "      <td>0.948700</td>\n",
              "      <td>00:03</td>\n",
              "    </tr>\n",
              "    <tr>\n",
              "      <td>21</td>\n",
              "      <td>0.177649</td>\n",
              "      <td>0.174499</td>\n",
              "      <td>0.950600</td>\n",
              "      <td>00:03</td>\n",
              "    </tr>\n",
              "    <tr>\n",
              "      <td>22</td>\n",
              "      <td>0.165287</td>\n",
              "      <td>0.169409</td>\n",
              "      <td>0.950900</td>\n",
              "      <td>00:02</td>\n",
              "    </tr>\n",
              "    <tr>\n",
              "      <td>23</td>\n",
              "      <td>0.171765</td>\n",
              "      <td>0.164744</td>\n",
              "      <td>0.953100</td>\n",
              "      <td>00:02</td>\n",
              "    </tr>\n",
              "    <tr>\n",
              "      <td>24</td>\n",
              "      <td>0.173045</td>\n",
              "      <td>0.161896</td>\n",
              "      <td>0.954000</td>\n",
              "      <td>00:03</td>\n",
              "    </tr>\n",
              "    <tr>\n",
              "      <td>25</td>\n",
              "      <td>0.159468</td>\n",
              "      <td>0.159545</td>\n",
              "      <td>0.954600</td>\n",
              "      <td>00:02</td>\n",
              "    </tr>\n",
              "    <tr>\n",
              "      <td>26</td>\n",
              "      <td>0.146906</td>\n",
              "      <td>0.155068</td>\n",
              "      <td>0.956400</td>\n",
              "      <td>00:03</td>\n",
              "    </tr>\n",
              "    <tr>\n",
              "      <td>27</td>\n",
              "      <td>0.151799</td>\n",
              "      <td>0.151050</td>\n",
              "      <td>0.957500</td>\n",
              "      <td>00:02</td>\n",
              "    </tr>\n",
              "    <tr>\n",
              "      <td>28</td>\n",
              "      <td>0.149300</td>\n",
              "      <td>0.148926</td>\n",
              "      <td>0.957500</td>\n",
              "      <td>00:03</td>\n",
              "    </tr>\n",
              "    <tr>\n",
              "      <td>29</td>\n",
              "      <td>0.141366</td>\n",
              "      <td>0.145343</td>\n",
              "      <td>0.958300</td>\n",
              "      <td>00:03</td>\n",
              "    </tr>\n",
              "    <tr>\n",
              "      <td>30</td>\n",
              "      <td>0.143040</td>\n",
              "      <td>0.143455</td>\n",
              "      <td>0.958500</td>\n",
              "      <td>00:03</td>\n",
              "    </tr>\n",
              "    <tr>\n",
              "      <td>31</td>\n",
              "      <td>0.140750</td>\n",
              "      <td>0.140339</td>\n",
              "      <td>0.959900</td>\n",
              "      <td>00:03</td>\n",
              "    </tr>\n",
              "    <tr>\n",
              "      <td>32</td>\n",
              "      <td>0.144173</td>\n",
              "      <td>0.137738</td>\n",
              "      <td>0.960700</td>\n",
              "      <td>00:03</td>\n",
              "    </tr>\n",
              "    <tr>\n",
              "      <td>33</td>\n",
              "      <td>0.128048</td>\n",
              "      <td>0.135649</td>\n",
              "      <td>0.961100</td>\n",
              "      <td>00:03</td>\n",
              "    </tr>\n",
              "    <tr>\n",
              "      <td>34</td>\n",
              "      <td>0.137264</td>\n",
              "      <td>0.132889</td>\n",
              "      <td>0.962400</td>\n",
              "      <td>00:02</td>\n",
              "    </tr>\n",
              "    <tr>\n",
              "      <td>35</td>\n",
              "      <td>0.136370</td>\n",
              "      <td>0.132038</td>\n",
              "      <td>0.962600</td>\n",
              "      <td>00:03</td>\n",
              "    </tr>\n",
              "    <tr>\n",
              "      <td>36</td>\n",
              "      <td>0.129540</td>\n",
              "      <td>0.129662</td>\n",
              "      <td>0.962900</td>\n",
              "      <td>00:02</td>\n",
              "    </tr>\n",
              "    <tr>\n",
              "      <td>37</td>\n",
              "      <td>0.132557</td>\n",
              "      <td>0.127240</td>\n",
              "      <td>0.963200</td>\n",
              "      <td>00:03</td>\n",
              "    </tr>\n",
              "    <tr>\n",
              "      <td>38</td>\n",
              "      <td>0.108042</td>\n",
              "      <td>0.125348</td>\n",
              "      <td>0.963500</td>\n",
              "      <td>00:02</td>\n",
              "    </tr>\n",
              "    <tr>\n",
              "      <td>39</td>\n",
              "      <td>0.121266</td>\n",
              "      <td>0.122816</td>\n",
              "      <td>0.965200</td>\n",
              "      <td>00:02</td>\n",
              "    </tr>\n",
              "  </tbody>\n",
              "</table>"
            ],
            "text/plain": [
              "<IPython.core.display.HTML object>"
            ]
          },
          "metadata": {
            "tags": []
          }
        }
      ]
    },
    {
      "cell_type": "code",
      "metadata": {
        "id": "1gkqcSzTzBj2",
        "colab_type": "code",
        "colab": {
          "base_uri": "https://localhost:8080/",
          "height": 295
        },
        "outputId": "f120f02a-43e8-4118-900f-81c4c10e6234"
      },
      "source": [
        "plt.plot((L(learner.recorder.values)).itemgot(2))\n",
        "plt.title('Validation accuracy')\n",
        "plt.xlabel(\"Epochs\")\n",
        "plt.ylabel(\"Accuracy\");"
      ],
      "execution_count": 148,
      "outputs": [
        {
          "output_type": "display_data",
          "data": {
            "image/png": "[encoded data removed]",
            "text/plain": [
              "<Figure size 432x288 with 1 Axes>"
            ]
          },
          "metadata": {
            "tags": [],
            "needs_background": "light"
          }
        }
      ]
    },
    {
      "cell_type": "markdown",
      "metadata": {
        "id": "pNYtq8I5KHsq",
        "colab_type": "text"
      },
      "source": [
        "### Not too bad Adding one layer of non-linearity and also training for a \n",
        "###substantial epochs got us to ~97%. \n",
        "####Even at 10 epochs it beat the strictly linear model. "
      ]
    },
    {
      "cell_type": "code",
      "metadata": {
        "id": "0EqTNlzBCvNc",
        "colab_type": "code",
        "colab": {
          "base_uri": "https://localhost:8080/",
          "height": 206
        },
        "outputId": "c83a08f7-7b57-4eb5-bf36-da3ba7474664"
      },
      "source": [
        "##Using slightly more involved network ResNet with 18 layers:\n",
        "dls = ImageDataLoaders.from_folder(path, train=\"training\", valid=\"testing\")\n",
        "\n",
        "learn = cnn_learner(dls, resnet18, pretrained=False,\n",
        "                    loss_func=F.cross_entropy, metrics=accuracy)\n",
        "learn.fit(5, lr=1e-3)"
      ],
      "execution_count": null,
      "outputs": [
        {
          "output_type": "display_data",
          "data": {
            "text/html": [
              "<table border=\"1\" class=\"dataframe\">\n",
              "  <thead>\n",
              "    <tr style=\"text-align: left;\">\n",
              "      <th>epoch</th>\n",
              "      <th>train_loss</th>\n",
              "      <th>valid_loss</th>\n",
              "      <th>accuracy</th>\n",
              "      <th>time</th>\n",
              "    </tr>\n",
              "  </thead>\n",
              "  <tbody>\n",
              "    <tr>\n",
              "      <td>0</td>\n",
              "      <td>0.124324</td>\n",
              "      <td>0.214103</td>\n",
              "      <td>0.943700</td>\n",
              "      <td>01:05</td>\n",
              "    </tr>\n",
              "    <tr>\n",
              "      <td>1</td>\n",
              "      <td>0.083419</td>\n",
              "      <td>0.065589</td>\n",
              "      <td>0.980300</td>\n",
              "      <td>01:04</td>\n",
              "    </tr>\n",
              "    <tr>\n",
              "      <td>2</td>\n",
              "      <td>0.062813</td>\n",
              "      <td>0.035140</td>\n",
              "      <td>0.989100</td>\n",
              "      <td>01:05</td>\n",
              "    </tr>\n",
              "    <tr>\n",
              "      <td>3</td>\n",
              "      <td>0.046921</td>\n",
              "      <td>0.034787</td>\n",
              "      <td>0.989000</td>\n",
              "      <td>01:05</td>\n",
              "    </tr>\n",
              "    <tr>\n",
              "      <td>4</td>\n",
              "      <td>0.037086</td>\n",
              "      <td>0.032392</td>\n",
              "      <td>0.990500</td>\n",
              "      <td>01:05</td>\n",
              "    </tr>\n",
              "  </tbody>\n",
              "</table>"
            ],
            "text/plain": [
              "<IPython.core.display.HTML object>"
            ]
          },
          "metadata": {
            "tags": []
          }
        }
      ]
    },
    {
      "cell_type": "markdown",
      "metadata": {
        "id": "QNy75VbmKdKO",
        "colab_type": "text"
      },
      "source": [
        "###This is the performance for resnet. Quite impressive!!"
      ]
    },
    {
      "cell_type": "code",
      "metadata": {
        "id": "GwS8QdrFGXpO",
        "colab_type": "code",
        "colab": {
          "base_uri": "https://localhost:8080/",
          "height": 295
        },
        "outputId": "ddedbd33-d167-4728-8f5a-eb45f9cda454"
      },
      "source": [
        "plt.plot(L(learn.recorder.values).itemgot(2))\n",
        "plt.xlabel('Accuracy')\n",
        "plt.ylabel('Epochs')\n",
        "plt.title(\"Accuracy againt No. Epochs\");"
      ],
      "execution_count": null,
      "outputs": [
        {
          "output_type": "display_data",
          "data": {
            "image/png": "[encoded data removed]",
            "text/plain": [
              "<Figure size 432x288 with 1 Axes>"
            ]
          },
          "metadata": {
            "tags": [],
            "needs_background": "light"
          }
        }
      ]
    },
    {
      "cell_type": "markdown",
      "metadata": {
        "id": "LUu1lBU2Iukm",
        "colab_type": "text"
      },
      "source": [
        "###Below codes are debugging efforts. "
      ]
    },
    {
      "cell_type": "code",
      "metadata": {
        "id": "Scqd0EHOIsSQ",
        "colab_type": "code",
        "colab": {}
      },
      "source": [
        ""
      ],
      "execution_count": null,
      "outputs": []
    },
    {
      "cell_type": "code",
      "metadata": {
        "id": "wzAiTQCHGnGM",
        "colab_type": "code",
        "colab": {}
      },
      "source": [
        ""
      ],
      "execution_count": null,
      "outputs": []
    },
    {
      "cell_type": "code",
      "metadata": {
        "id": "DrpBFedvn6qZ",
        "colab_type": "code",
        "colab": {
          "base_uri": "https://localhost:8080/",
          "height": 34
        },
        "outputId": "63911cf1-3cb8-4edd-bff2-4f85c28020ad"
      },
      "source": [
        "weights, bias = init_params()\n",
        "weights.shape, bias.shape"
      ],
      "execution_count": null,
      "outputs": [
        {
          "output_type": "execute_result",
          "data": {
            "text/plain": [
              "(torch.Size([784, 10]), torch.Size([10]))"
            ]
          },
          "metadata": {
            "tags": []
          },
          "execution_count": 394
        }
      ]
    },
    {
      "cell_type": "code",
      "metadata": {
        "id": "WvpIP9Prog7b",
        "colab_type": "code",
        "colab": {
          "base_uri": "https://localhost:8080/",
          "height": 52
        },
        "outputId": "3f2e2cda-17f6-4f50-d3fa-11f487b3250c"
      },
      "source": [
        "## Testing with 5 samples from the test set\n",
        "lr = 0.01\n",
        "x = train_x[0:5]\n",
        "y = train_y[0:5]\n",
        "dls_trial = (x,y)\n",
        "preds = linear1(x)\n",
        "preds[0]"
      ],
      "execution_count": null,
      "outputs": [
        {
          "output_type": "execute_result",
          "data": {
            "text/plain": [
              "tensor([107.6494, 104.4783, 113.6216, 115.1003, 107.9588, 118.6902, 109.3886,\n",
              "        114.7457, 104.3604, 116.9249], grad_fn=<SelectBackward>)"
            ]
          },
          "metadata": {
            "tags": []
          },
          "execution_count": 395
        }
      ]
    },
    {
      "cell_type": "code",
      "metadata": {
        "id": "Lb41-JL0QMeR",
        "colab_type": "code",
        "colab": {
          "base_uri": "https://localhost:8080/",
          "height": 34
        },
        "outputId": "b46b0e10-84a0-427a-ae52-6d0800093319"
      },
      "source": [
        "loss = cross_entropy(preds, y)\n",
        "loss"
      ],
      "execution_count": null,
      "outputs": [
        {
          "output_type": "execute_result",
          "data": {
            "text/plain": [
              "tensor(8.5417, grad_fn=<DivBackward0>)"
            ]
          },
          "metadata": {
            "tags": []
          },
          "execution_count": 396
        }
      ]
    },
    {
      "cell_type": "code",
      "metadata": {
        "id": "Hbopi7MqRyir",
        "colab_type": "code",
        "colab": {}
      },
      "source": [
        "### Calculating the gradient, adjusting the weights and zeroising the gradients\n",
        "calc_grad_n_step(loss, lr)"
      ],
      "execution_count": null,
      "outputs": []
    },
    {
      "cell_type": "code",
      "metadata": {
        "id": "bXVgejmxR_89",
        "colab_type": "code",
        "colab": {
          "base_uri": "https://localhost:8080/",
          "height": 34
        },
        "outputId": "72e58119-44d8-4202-bc6a-f524711866ee"
      },
      "source": [
        "## Running the cycle again to see if the loss decreases. \n",
        "preds = linear1(x)\n",
        "loss = cross_entropy(preds, y)\n",
        "loss"
      ],
      "execution_count": null,
      "outputs": [
        {
          "output_type": "execute_result",
          "data": {
            "text/plain": [
              "tensor(7.3643, grad_fn=<DivBackward0>)"
            ]
          },
          "metadata": {
            "tags": []
          },
          "execution_count": 398
        }
      ]
    },
    {
      "cell_type": "markdown",
      "metadata": {
        "id": "8691jjIOSnwN",
        "colab_type": "text"
      },
      "source": [
        "##Phew! The loss is lower than before. "
      ]
    },
    {
      "cell_type": "code",
      "metadata": {
        "id": "aMF6-aUXS7Sx",
        "colab_type": "code",
        "colab": {
          "base_uri": "https://localhost:8080/",
          "height": 191
        },
        "outputId": "72d6816d-a697-4ebe-f0b8-b9c9d534c03f"
      },
      "source": [
        "## Let's train for 10 epochs and see if the loss keeps decreasing steadily\n",
        "for i in range(10):\n",
        "    lr = 0.01\n",
        "    weights, bias = init_params()\n",
        "    preds = linear1(x)\n",
        "    loss = cross_entropy(preds, y)\n",
        "    calc_grad_n_step(loss, lr)\n",
        "    print(loss)"
      ],
      "execution_count": null,
      "outputs": [
        {
          "output_type": "stream",
          "text": [
            "tensor(11.2195, grad_fn=<DivBackward0>)\n",
            "tensor(5.5926, grad_fn=<DivBackward0>)\n",
            "tensor(5.2006, grad_fn=<DivBackward0>)\n",
            "tensor(4.9472, grad_fn=<DivBackward0>)\n",
            "tensor(1.9228, grad_fn=<DivBackward0>)\n",
            "tensor(6.9587, grad_fn=<DivBackward0>)\n",
            "tensor(4.0982, grad_fn=<DivBackward0>)\n",
            "tensor(2.5247, grad_fn=<DivBackward0>)\n",
            "tensor(6.0229, grad_fn=<DivBackward0>)\n",
            "tensor(2.3157, grad_fn=<DivBackward0>)\n"
          ],
          "name": "stdout"
        }
      ]
    },
    {
      "cell_type": "code",
      "metadata": {
        "id": "pk-M5Zi7UsXh",
        "colab_type": "code",
        "colab": {}
      },
      "source": [
        "## Creating a function which trains for a given number of times\n",
        "\n",
        "def train_epoch(dls, model, epoch=10, lr=0.1, *args, **kwargs):\n",
        "    for i in range(epoch):\n",
        "        x,y = dls\n",
        "        weights, bias = init_params()\n",
        "        preds = model(x)\n",
        "        loss = cross_entropy(preds, y)\n",
        "        calc_grad_n_step(loss, lr)\n",
        "        if i % 2 == 0: print(loss, end=' ')"
      ],
      "execution_count": null,
      "outputs": []
    },
    {
      "cell_type": "code",
      "metadata": {
        "id": "ZMHk84VfXB2q",
        "colab_type": "code",
        "colab": {
          "base_uri": "https://localhost:8080/",
          "height": 54
        },
        "outputId": "9c995f92-8306-4f6d-d398-2c65f5fd9593"
      },
      "source": [
        "## Function for training multiple epochs appears to work.\n",
        "train_epoch(dls_trial, linear1)"
      ],
      "execution_count": null,
      "outputs": [
        {
          "output_type": "stream",
          "text": [
            "tensor(1.8981, grad_fn=<DivBackward0>) tensor(0.0276, grad_fn=<DivBackward0>) tensor(0.0148, grad_fn=<DivBackward0>) tensor(0.0105, grad_fn=<DivBackward0>) tensor(0.0083, grad_fn=<DivBackward0>) "
          ],
          "name": "stdout"
        }
      ]
    },
    {
      "cell_type": "code",
      "metadata": {
        "id": "gbzl3qBD7gGS",
        "colab_type": "code",
        "colab": {
          "base_uri": "https://localhost:8080/",
          "height": 34
        },
        "outputId": "3f58fd5d-d6e9-4817-ec6c-568199243016"
      },
      "source": [
        "### Accuracy metric\n",
        "preds = linear1(x)\n",
        "probs = soft_max(preds)\n",
        "torch.argmax(probs, dim=1)\n",
        "acc = (torch.argmax(probs, dim=1) == torch.argmax(y, dim=1)).sum()\n",
        "percent_acc = torch.true_divide(acc, preds.shape[0]) ## Here the accuracy is 100% but that is only with a small sample and trained after 10 epochs\n",
        "percent_acc"
      ],
      "execution_count": null,
      "outputs": [
        {
          "output_type": "execute_result",
          "data": {
            "text/plain": [
              "tensor(1.)"
            ]
          },
          "metadata": {
            "tags": []
          },
          "execution_count": 402
        }
      ]
    },
    {
      "cell_type": "code",
      "metadata": {
        "id": "CwFDD7S_cbBI",
        "colab_type": "code",
        "colab": {
          "base_uri": "https://localhost:8080/",
          "height": 34
        },
        "outputId": "ed221acd-1ef5-4a0d-9cb0-9986d895a62b"
      },
      "source": [
        "##Checking the accuracy metric for sanity check with random weights. \n",
        "preds = linear1(x)\n",
        "probs = soft_max(preds)\n",
        "torch.argmax(probs, dim=1)\n",
        "acc = (torch.argmax(probs, dim=1) == torch.argmax(y, dim=1)).sum()\n",
        "percent_acc = torch.true_divide(acc, preds.shape[0])\n",
        "percent_acc ## Well out target is letter zeros and the accuracy metric is 0% random initialization. Let's see how it does forward."
      ],
      "execution_count": null,
      "outputs": [
        {
          "output_type": "execute_result",
          "data": {
            "text/plain": [
              "tensor(1.)"
            ]
          },
          "metadata": {
            "tags": []
          },
          "execution_count": 403
        }
      ]
    },
    {
      "cell_type": "code",
      "metadata": {
        "id": "HP3CYSMob051",
        "colab_type": "code",
        "colab": {}
      },
      "source": [
        "## Function to check accuracy metric\n",
        "def acc_of_data(dls, model):\n",
        "    x, y = dls \n",
        "    preds = model(x)\n",
        "    probs = soft_max(preds)\n",
        "    acc = (torch.argmax(probs, dim=1) == torch.argmax(y, dim=1)).sum()\n",
        "    percent_acc = torch.true_divide(acc, preds.shape[0])\n",
        "    print(percent_acc)"
      ],
      "execution_count": null,
      "outputs": []
    },
    {
      "cell_type": "code",
      "metadata": {
        "id": "GAQue493ZRgL",
        "colab_type": "code",
        "colab": {
          "base_uri": "https://localhost:8080/",
          "height": 34
        },
        "outputId": "dbc73e47-26a8-4b94-8b50-579f8f79a142"
      },
      "source": [
        "acc_of_data(dls_trial, linear1)"
      ],
      "execution_count": null,
      "outputs": [
        {
          "output_type": "stream",
          "text": [
            "tensor(1.)\n"
          ],
          "name": "stdout"
        }
      ]
    },
    {
      "cell_type": "markdown",
      "metadata": {
        "id": "h3Kk2X2pjRI2",
        "colab_type": "text"
      },
      "source": [
        "##Need to investigate why the loss is not changing below. "
      ]
    },
    {
      "cell_type": "code",
      "metadata": {
        "id": "98oKEOjaep2L",
        "colab_type": "code",
        "colab": {
          "base_uri": "https://localhost:8080/",
          "height": 54
        },
        "outputId": "de1a1311-6cfd-4ce1-e918-8f9b8528034c"
      },
      "source": [
        "## Choosing a random set of data to check to see if the model works\n",
        "## Ran into issues with random indicies, Not sure why. \n",
        "idxs = torch.randint(0, 60000, (100,1))\n",
        "dummy_train, labels = train_x[idxs], train_y[idxs] ## This is the training set\n",
        "train_epoch((x,y), linear1, epoch=20, lr=0.001)"
      ],
      "execution_count": null,
      "outputs": [
        {
          "output_type": "stream",
          "text": [
            "tensor(0.0069, grad_fn=<DivBackward0>) tensor(0.0069, grad_fn=<DivBackward0>) tensor(0.0069, grad_fn=<DivBackward0>) tensor(0.0069, grad_fn=<DivBackward0>) tensor(0.0068, grad_fn=<DivBackward0>) tensor(0.0068, grad_fn=<DivBackward0>) tensor(0.0068, grad_fn=<DivBackward0>) tensor(0.0068, grad_fn=<DivBackward0>) tensor(0.0068, grad_fn=<DivBackward0>) tensor(0.0068, grad_fn=<DivBackward0>) "
          ],
          "name": "stdout"
        }
      ]
    },
    {
      "cell_type": "code",
      "metadata": {
        "id": "zH0L8D0ihLXV",
        "colab_type": "code",
        "colab": {
          "base_uri": "https://localhost:8080/",
          "height": 54
        },
        "outputId": "72048974-9976-4b61-d88c-18f3385e1c0a"
      },
      "source": [
        "## Seems to work fine here\n",
        "x_ = train_x[500:1000]\n",
        "y_ = train_y[500:1000]\n",
        "dls_trial_ = (x_,y_)\n",
        "train_epoch(dls_trial_, linear1, epoch=20)"
      ],
      "execution_count": null,
      "outputs": [
        {
          "output_type": "stream",
          "text": [
            "tensor(0.0315, grad_fn=<DivBackward0>) tensor(0.0283, grad_fn=<DivBackward0>) tensor(0.0256, grad_fn=<DivBackward0>) tensor(0.0233, grad_fn=<DivBackward0>) tensor(0.0214, grad_fn=<DivBackward0>) tensor(0.0198, grad_fn=<DivBackward0>) tensor(0.0183, grad_fn=<DivBackward0>) tensor(0.0171, grad_fn=<DivBackward0>) tensor(0.0160, grad_fn=<DivBackward0>) tensor(0.0151, grad_fn=<DivBackward0>) "
          ],
          "name": "stdout"
        }
      ]
    },
    {
      "cell_type": "code",
      "metadata": {
        "id": "6ytZDZIWIiKn",
        "colab_type": "code",
        "colab": {
          "base_uri": "https://localhost:8080/",
          "height": 104
        },
        "outputId": "2336dd9a-8482-434d-9cd9-3506565ce465"
      },
      "source": [
        "### Debugging step: Writing a function that train one batch and prints the loss\n",
        "\n",
        "def train_once(x,y):\n",
        "    weights, bias = init_params()\n",
        "    for _ in range(5):\n",
        "        preds = linear1(x)\n",
        "        loss = cross_entropy(preds, y)\n",
        "        calc_grad_n_step(loss, lr)\n",
        "        print(loss)\n",
        "train_once(train_x[:5],train_y[:5])"
      ],
      "execution_count": null,
      "outputs": [
        {
          "output_type": "stream",
          "text": [
            "tensor(2.7491e-05, grad_fn=<DivBackward0>)\n",
            "tensor(2.7491e-05, grad_fn=<DivBackward0>)\n",
            "tensor(2.7491e-05, grad_fn=<DivBackward0>)\n",
            "tensor(2.7491e-05, grad_fn=<DivBackward0>)\n",
            "tensor(2.7491e-05, grad_fn=<DivBackward0>)\n"
          ],
          "name": "stdout"
        }
      ]
    },
    {
      "cell_type": "code",
      "metadata": {
        "id": "9hBfZ15DlsxA",
        "colab_type": "code",
        "colab": {}
      },
      "source": [
        "## Same function as above for training but for batches.\n",
        "\n",
        "\n",
        "# def train_batch(dls, model, lr=0.1, *args, **kwargs):\n",
        "#     for x,y in dls:\n",
        "#         weights, bias = init_params()\n",
        "#         preds = model(x)\n",
        "#         loss = cross_entropy(preds, y)\n",
        "#         calc_grad_n_step(loss, lr)\n",
        "#         print(loss)\n",
        "\n",
        "# def train_(epoch, lr):\n",
        "#     for _ in range(epoch):\n",
        "#         train_batch(dls, linear1, lr=lr)\n",
        "#         print(f'Validation accuracy per epoch: {val_epoch(dls_test)}')\n",
        "\n",
        "\n",
        "\n",
        "# def train_batch(dls, model, epoch=10, lr=0.1, print_loss=False, *args, **kwargs):\n",
        "#         for i in range(epoch):\n",
        "#             for batch in dls:\n",
        "#                 x, y = batch\n",
        "#                 lr = lr\n",
        "#                 weights, bias = init_params()\n",
        "#                 preds = model(x)\n",
        "#                 loss = cross_entropy(preds, y)\n",
        "#                 calc_grad_n_step(loss, lr)\n",
        "#                 if print_loss:\n",
        "#                     print(loss, end=' ')\n",
        "\n",
        "## Function for validating the training. Let's see if it was worth it.\n",
        "\n",
        "# def acc_of_data(dls, model):\n",
        "#     x, y = dls \n",
        "#     preds = model(x)\n",
        "#     probs = soft_max(preds)\n",
        "#     return (torch.argmax(probs, dim=1) == torch.argmax(y, dim=1)).float().mean()\n",
        "\n",
        "\n",
        "# def val_epoch(dls):\n",
        "#     stacked_acc = [acc_of_data(batch, linear1) for batch in dls]\n",
        "#     return torch.stack(stacked_acc).mean()\n",
        "\n",
        "\n",
        "# def val_acc(dls, model):\n",
        "#     cum = 0\n",
        "#     counter = 0\n",
        "#     percent_final = torch.true_divide(cum, counter)\n",
        "#     for batch in dls:\n",
        "#         x, y = batch \n",
        "#         preds = model(x)\n",
        "#         probs = soft_max(preds)\n",
        "#         acc = (torch.argmax(probs, dim=1) == torch.argmax(y, dim=1)).sum()\n",
        "#         percent_acc = torch.true_divide(acc, preds.shape[0])\n",
        "#         print(percent_acc)\n",
        "#         cum += percent_acc\n",
        "#         counter += 1\n",
        "\n",
        "#     print(f\"Validation accuracy: {percent_final}\")\n",
        "#     print(cum, counter)"
      ],
      "execution_count": null,
      "outputs": []
    },
    {
      "cell_type": "code",
      "metadata": {
        "id": "-L6Us95alJO6",
        "colab_type": "code",
        "colab": {}
      },
      "source": [
        "train_batch(dls, linear1, lr=0.01)"
      ],
      "execution_count": null,
      "outputs": []
    },
    {
      "cell_type": "code",
      "metadata": {
        "id": "6RdV-ECvNCq1",
        "colab_type": "code",
        "colab": {}
      },
      "source": [
        ""
      ],
      "execution_count": null,
      "outputs": []
    }
  ]
}