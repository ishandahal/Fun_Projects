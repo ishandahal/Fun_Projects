{
  "nbformat": 4,
  "nbformat_minor": 0,
  "metadata": {
    "colab": {
      "name": "Familiarizing with Pathlib.ipynb",
      "provenance": [],
      "authorship_tag": "ABX9TyOaHH4WUziT2GkRu8xsN4Uw",
      "include_colab_link": true
    },
    "kernelspec": {
      "name": "python3",
      "display_name": "Python 3"
    }
  },
  "cells": [
    {
      "cell_type": "markdown",
      "metadata": {
        "id": "view-in-github",
        "colab_type": "text"
      },
      "source": [
        "<a href=\"https://colab.research.google.com/github/ishandahal/Fun_Projects/blob/master/Familiarizing_with_Pathlib.ipynb\" target=\"_parent\"><img src=\"https://colab.research.google.com/assets/colab-badge.svg\" alt=\"Open In Colab\"/></a>"
      ]
    },
    {
      "cell_type": "code",
      "metadata": {
        "id": "KgERy-Q1L20X",
        "colab_type": "code",
        "colab": {}
      },
      "source": [
        "from pathlib import Path\n",
        "import os"
      ],
      "execution_count": 48,
      "outputs": []
    },
    {
      "cell_type": "code",
      "metadata": {
        "id": "P3atjEb7THhF",
        "colab_type": "code",
        "colab": {
          "base_uri": "https://localhost:8080/",
          "height": 34
        },
        "outputId": "ef966df9-fa4c-49a5-f582-14a39b9ddd65"
      },
      "source": [
        "Path.cwd()"
      ],
      "execution_count": 2,
      "outputs": [
        {
          "output_type": "execute_result",
          "data": {
            "text/plain": [
              "PosixPath('/content')"
            ]
          },
          "metadata": {
            "tags": []
          },
          "execution_count": 2
        }
      ]
    },
    {
      "cell_type": "code",
      "metadata": {
        "id": "DURRLNLkMFBQ",
        "colab_type": "code",
        "colab": {
          "base_uri": "https://localhost:8080/",
          "height": 34
        },
        "outputId": "6f8a31cb-075e-45b2-d1d2-0a3ec854c0c5"
      },
      "source": [
        "path = Path.cwd()\n",
        "path/'sample' / 'data.text'"
      ],
      "execution_count": 3,
      "outputs": [
        {
          "output_type": "execute_result",
          "data": {
            "text/plain": [
              "PosixPath('/content/sample/data.text')"
            ]
          },
          "metadata": {
            "tags": []
          },
          "execution_count": 3
        }
      ]
    },
    {
      "cell_type": "code",
      "metadata": {
        "id": "x1LKc9shM9BA",
        "colab_type": "code",
        "colab": {
          "base_uri": "https://localhost:8080/",
          "height": 34
        },
        "outputId": "d0aa184b-5071-4df8-eff5-5edc2b96d617"
      },
      "source": [
        "Path.home() / 'python' / 'scripts' / 'test.py'"
      ],
      "execution_count": 4,
      "outputs": [
        {
          "output_type": "execute_result",
          "data": {
            "text/plain": [
              "PosixPath('/root/python/scripts/test.py')"
            ]
          },
          "metadata": {
            "tags": []
          },
          "execution_count": 4
        }
      ]
    },
    {
      "cell_type": "code",
      "metadata": {
        "id": "4hljJxnLN-q7",
        "colab_type": "code",
        "colab": {
          "base_uri": "https://localhost:8080/",
          "height": 34
        },
        "outputId": "c2e43171-19af-45da-fb2e-e7a514647c10"
      },
      "source": [
        "path = Path.cwd()/'sample_data'/'README.md'\n",
        "path"
      ],
      "execution_count": 5,
      "outputs": [
        {
          "output_type": "execute_result",
          "data": {
            "text/plain": [
              "PosixPath('/content/sample_data/README.md')"
            ]
          },
          "metadata": {
            "tags": []
          },
          "execution_count": 5
        }
      ]
    },
    {
      "cell_type": "code",
      "metadata": {
        "id": "xdxqFc5lQjmr",
        "colab_type": "code",
        "colab": {
          "base_uri": "https://localhost:8080/",
          "height": 140
        },
        "outputId": "02ff594c-b1fe-4ed3-bb94-60eb378dd405"
      },
      "source": [
        "path.read_text()"
      ],
      "execution_count": 6,
      "outputs": [
        {
          "output_type": "execute_result",
          "data": {
            "application/vnd.google.colaboratory.intrinsic+json": {
              "type": "string"
            },
            "text/plain": [
              "\"This directory includes a few sample datasets to get you started.\\n\\n*   `california_housing_data*.csv` is California housing data from the 1990 US\\n    Census; more information is available at:\\n    https://developers.google.com/machine-learning/crash-course/california-housing-data-description\\n\\n*   `mnist_*.csv` is a small sample of the\\n    [MNIST database](https://en.wikipedia.org/wiki/MNIST_database), which is\\n    described at: http://yann.lecun.com/exdb/mnist/\\n\\n*   `anscombe.json` contains a copy of\\n    [Anscombe's quartet](https://en.wikipedia.org/wiki/Anscombe%27s_quartet); it\\n    was originally described in\\n\\n    Anscombe, F. J. (1973). 'Graphs in Statistical Analysis'. American\\n    Statistician. 27 (1): 17-21. JSTOR 2682899.\\n\\n    and our copy was prepared by the\\n    [vega_datasets library](https://github.com/altair-viz/vega_datasets/blob/4f67bdaad10f45e3549984e17e1b3088c731503d/vega_datasets/_data/anscombe.json).\\n\""
            ]
          },
          "metadata": {
            "tags": []
          },
          "execution_count": 6
        }
      ]
    },
    {
      "cell_type": "code",
      "metadata": {
        "id": "wIgk5sy4Q8Zp",
        "colab_type": "code",
        "colab": {
          "base_uri": "https://localhost:8080/",
          "height": 697
        },
        "outputId": "6d198dc3-fe22-49b1-bc05-2502cec0f336"
      },
      "source": [
        "with path.open(mode='r') as fid:\n",
        "    for line in fid:\n",
        "        print(line)"
      ],
      "execution_count": 7,
      "outputs": [
        {
          "output_type": "stream",
          "text": [
            "This directory includes a few sample datasets to get you started.\n",
            "\n",
            "\n",
            "\n",
            "*   `california_housing_data*.csv` is California housing data from the 1990 US\n",
            "\n",
            "    Census; more information is available at:\n",
            "\n",
            "    https://developers.google.com/machine-learning/crash-course/california-housing-data-description\n",
            "\n",
            "\n",
            "\n",
            "*   `mnist_*.csv` is a small sample of the\n",
            "\n",
            "    [MNIST database](https://en.wikipedia.org/wiki/MNIST_database), which is\n",
            "\n",
            "    described at: http://yann.lecun.com/exdb/mnist/\n",
            "\n",
            "\n",
            "\n",
            "*   `anscombe.json` contains a copy of\n",
            "\n",
            "    [Anscombe's quartet](https://en.wikipedia.org/wiki/Anscombe%27s_quartet); it\n",
            "\n",
            "    was originally described in\n",
            "\n",
            "\n",
            "\n",
            "    Anscombe, F. J. (1973). 'Graphs in Statistical Analysis'. American\n",
            "\n",
            "    Statistician. 27 (1): 17-21. JSTOR 2682899.\n",
            "\n",
            "\n",
            "\n",
            "    and our copy was prepared by the\n",
            "\n",
            "    [vega_datasets library](https://github.com/altair-viz/vega_datasets/blob/4f67bdaad10f45e3549984e17e1b3088c731503d/vega_datasets/_data/anscombe.json).\n",
            "\n"
          ],
          "name": "stdout"
        }
      ]
    },
    {
      "cell_type": "code",
      "metadata": {
        "id": "wU9Z2qKYRrCk",
        "colab_type": "code",
        "colab": {
          "base_uri": "https://localhost:8080/",
          "height": 140
        },
        "outputId": "cb2bad42-0fea-404b-c043-ca890a3b2e58"
      },
      "source": [
        "Path('/content/sample_data/README.md').read_text()"
      ],
      "execution_count": 8,
      "outputs": [
        {
          "output_type": "execute_result",
          "data": {
            "application/vnd.google.colaboratory.intrinsic+json": {
              "type": "string"
            },
            "text/plain": [
              "\"This directory includes a few sample datasets to get you started.\\n\\n*   `california_housing_data*.csv` is California housing data from the 1990 US\\n    Census; more information is available at:\\n    https://developers.google.com/machine-learning/crash-course/california-housing-data-description\\n\\n*   `mnist_*.csv` is a small sample of the\\n    [MNIST database](https://en.wikipedia.org/wiki/MNIST_database), which is\\n    described at: http://yann.lecun.com/exdb/mnist/\\n\\n*   `anscombe.json` contains a copy of\\n    [Anscombe's quartet](https://en.wikipedia.org/wiki/Anscombe%27s_quartet); it\\n    was originally described in\\n\\n    Anscombe, F. J. (1973). 'Graphs in Statistical Analysis'. American\\n    Statistician. 27 (1): 17-21. JSTOR 2682899.\\n\\n    and our copy was prepared by the\\n    [vega_datasets library](https://github.com/altair-viz/vega_datasets/blob/4f67bdaad10f45e3549984e17e1b3088c731503d/vega_datasets/_data/anscombe.json).\\n\""
            ]
          },
          "metadata": {
            "tags": []
          },
          "execution_count": 8
        }
      ]
    },
    {
      "cell_type": "code",
      "metadata": {
        "id": "dtlfhyLyTOgl",
        "colab_type": "code",
        "colab": {
          "base_uri": "https://localhost:8080/",
          "height": 34
        },
        "outputId": "2de4da5c-3660-4f93-a265-56e96c581453"
      },
      "source": [
        "path.resolve().parent == path.parent"
      ],
      "execution_count": 9,
      "outputs": [
        {
          "output_type": "execute_result",
          "data": {
            "text/plain": [
              "True"
            ]
          },
          "metadata": {
            "tags": []
          },
          "execution_count": 9
        }
      ]
    },
    {
      "cell_type": "code",
      "metadata": {
        "id": "oaNj6G7LU2te",
        "colab_type": "code",
        "colab": {
          "base_uri": "https://localhost:8080/",
          "height": 34
        },
        "outputId": "22df6777-45cd-44e2-f458-98f62f400cf6"
      },
      "source": [
        "path"
      ],
      "execution_count": 10,
      "outputs": [
        {
          "output_type": "execute_result",
          "data": {
            "text/plain": [
              "PosixPath('/content/sample_data/README.md')"
            ]
          },
          "metadata": {
            "tags": []
          },
          "execution_count": 10
        }
      ]
    },
    {
      "cell_type": "code",
      "metadata": {
        "id": "Bi-ecTf9VAMp",
        "colab_type": "code",
        "colab": {
          "base_uri": "https://localhost:8080/",
          "height": 36
        },
        "outputId": "10568d43-9be5-403f-9f32-f54c0807984f"
      },
      "source": [
        "path.name"
      ],
      "execution_count": 11,
      "outputs": [
        {
          "output_type": "execute_result",
          "data": {
            "application/vnd.google.colaboratory.intrinsic+json": {
              "type": "string"
            },
            "text/plain": [
              "'README.md'"
            ]
          },
          "metadata": {
            "tags": []
          },
          "execution_count": 11
        }
      ]
    },
    {
      "cell_type": "code",
      "metadata": {
        "id": "AFIP8MxsVMkK",
        "colab_type": "code",
        "colab": {
          "base_uri": "https://localhost:8080/",
          "height": 104
        },
        "outputId": "c1702cf3-a74c-4181-baa6-b77072f702ac"
      },
      "source": [
        "path.stem, path.suffix, path.parent, path.parent.parent, path.anchor"
      ],
      "execution_count": 12,
      "outputs": [
        {
          "output_type": "execute_result",
          "data": {
            "text/plain": [
              "('README',\n",
              " '.md',\n",
              " PosixPath('/content/sample_data'),\n",
              " PosixPath('/content'),\n",
              " '/')"
            ]
          },
          "metadata": {
            "tags": []
          },
          "execution_count": 12
        }
      ]
    },
    {
      "cell_type": "code",
      "metadata": {
        "id": "uP_KEbZxWQGy",
        "colab_type": "code",
        "colab": {
          "base_uri": "https://localhost:8080/",
          "height": 34
        },
        "outputId": "2ed17b71-b96b-46c1-d1d5-207a53ac1db3"
      },
      "source": [
        "path.with_suffix('.md')\n"
      ],
      "execution_count": 13,
      "outputs": [
        {
          "output_type": "execute_result",
          "data": {
            "text/plain": [
              "PosixPath('/content/sample_data/README.md')"
            ]
          },
          "metadata": {
            "tags": []
          },
          "execution_count": 13
        }
      ]
    },
    {
      "cell_type": "code",
      "metadata": {
        "id": "wuOmkxjfYdMU",
        "colab_type": "code",
        "colab": {
          "base_uri": "https://localhost:8080/",
          "height": 34
        },
        "outputId": "1cf9ac6b-7bf9-4e61-ec1d-8eed3b54315e"
      },
      "source": [
        "path = Path.cwd()/'sample_data'\n",
        "path.cwd()"
      ],
      "execution_count": 14,
      "outputs": [
        {
          "output_type": "execute_result",
          "data": {
            "text/plain": [
              "PosixPath('/content')"
            ]
          },
          "metadata": {
            "tags": []
          },
          "execution_count": 14
        }
      ]
    },
    {
      "cell_type": "code",
      "metadata": {
        "id": "lD3WhyqTXszq",
        "colab_type": "code",
        "colab": {
          "base_uri": "https://localhost:8080/",
          "height": 34
        },
        "outputId": "75a1794f-e2e4-4d66-b4ff-2cb8ca0d7088"
      },
      "source": [
        "import collections\n",
        "collections.Counter(p.suffix for p in path.iterdir())"
      ],
      "execution_count": 15,
      "outputs": [
        {
          "output_type": "execute_result",
          "data": {
            "text/plain": [
              "Counter({'.csv': 4, '.json': 1, '.md': 1})"
            ]
          },
          "metadata": {
            "tags": []
          },
          "execution_count": 15
        }
      ]
    },
    {
      "cell_type": "code",
      "metadata": {
        "id": "VNxx1QWnZQVq",
        "colab_type": "code",
        "colab": {
          "base_uri": "https://localhost:8080/",
          "height": 34
        },
        "outputId": "49cc0448-ed87-4064-c38d-a284f5cc1130"
      },
      "source": [
        "collections.Counter(p.suffix for p in path.glob('*.j*'))"
      ],
      "execution_count": 16,
      "outputs": [
        {
          "output_type": "execute_result",
          "data": {
            "text/plain": [
              "Counter({'.json': 1})"
            ]
          },
          "metadata": {
            "tags": []
          },
          "execution_count": 16
        }
      ]
    },
    {
      "cell_type": "code",
      "metadata": {
        "id": "NqnuaXrzTZNF",
        "colab_type": "code",
        "colab": {}
      },
      "source": [
        "in_file_1 = Path.cwd() / 'in' / 'input.xlsx'\n",
        "out_file_1 = Path.cwd() / 'out' / 'output.xlsx'"
      ],
      "execution_count": 18,
      "outputs": []
    },
    {
      "cell_type": "code",
      "metadata": {
        "id": "AOksMA9CT2Cm",
        "colab_type": "code",
        "colab": {}
      },
      "source": [
        "in_file_2 = Path.cwd().joinpath('in').joinpath('input.xlsx')\n",
        "out_file_2 = Path.cwd().joinpath('out').joinpath('output.xlsx')"
      ],
      "execution_count": 19,
      "outputs": []
    },
    {
      "cell_type": "code",
      "metadata": {
        "id": "eAII1Qm_UNzk",
        "colab_type": "code",
        "colab": {}
      },
      "source": [
        "parts = ['in', 'input.xlsx']\n",
        "in_file_3 = Path.cwd().joinpath(*parts)"
      ],
      "execution_count": 21,
      "outputs": []
    },
    {
      "cell_type": "code",
      "metadata": {
        "id": "mil_MVIxUqgC",
        "colab_type": "code",
        "colab": {
          "base_uri": "https://localhost:8080/",
          "height": 52
        },
        "outputId": "6f48bbd2-92d8-4c94-c865-5d2d6b0831c7"
      },
      "source": [
        "print(in_file_1)\n",
        "print(type(in_file_1))"
      ],
      "execution_count": 24,
      "outputs": [
        {
          "output_type": "stream",
          "text": [
            "/content/in/input.xlsx\n",
            "<class 'pathlib.PosixPath'>\n"
          ],
          "name": "stdout"
        }
      ]
    },
    {
      "cell_type": "code",
      "metadata": {
        "id": "UEZts4clVYVW",
        "colab_type": "code",
        "colab": {}
      },
      "source": [
        "local_dir = '/content/sample_data'\n",
        "p = Path(local_dir) "
      ],
      "execution_count": 32,
      "outputs": []
    },
    {
      "cell_type": "code",
      "metadata": {
        "id": "HyFV1V7maRNs",
        "colab_type": "code",
        "colab": {}
      },
      "source": [
        "p = Path.cwd()"
      ],
      "execution_count": 59,
      "outputs": []
    },
    {
      "cell_type": "code",
      "metadata": {
        "id": "8RTBlt2CWcz2",
        "colab_type": "code",
        "colab": {
          "base_uri": "https://localhost:8080/",
          "height": 34
        },
        "outputId": "002347ba-2ab2-49c0-9699-69df44d577ba"
      },
      "source": [
        "p.is_file()"
      ],
      "execution_count": 36,
      "outputs": [
        {
          "output_type": "execute_result",
          "data": {
            "text/plain": [
              "False"
            ]
          },
          "metadata": {
            "tags": []
          },
          "execution_count": 36
        }
      ]
    },
    {
      "cell_type": "code",
      "metadata": {
        "id": "x6-2e4AdWrjw",
        "colab_type": "code",
        "colab": {
          "base_uri": "https://localhost:8080/",
          "height": 34
        },
        "outputId": "9a102afc-7379-4487-d0a5-2bfd6601eb69"
      },
      "source": [
        "p.is_dir()"
      ],
      "execution_count": 37,
      "outputs": [
        {
          "output_type": "execute_result",
          "data": {
            "text/plain": [
              "True"
            ]
          },
          "metadata": {
            "tags": []
          },
          "execution_count": 37
        }
      ]
    },
    {
      "cell_type": "code",
      "metadata": {
        "id": "x7F_Tq-9Wtuy",
        "colab_type": "code",
        "colab": {
          "base_uri": "https://localhost:8080/",
          "height": 34
        },
        "outputId": "f97cd49e-6d88-4d39-e441-dae24c5b1f19"
      },
      "source": [
        "p.parts"
      ],
      "execution_count": 39,
      "outputs": [
        {
          "output_type": "execute_result",
          "data": {
            "text/plain": [
              "('/', 'content', 'sample_data')"
            ]
          },
          "metadata": {
            "tags": []
          },
          "execution_count": 39
        }
      ]
    },
    {
      "cell_type": "code",
      "metadata": {
        "id": "ylA_c7OJWwyy",
        "colab_type": "code",
        "colab": {
          "base_uri": "https://localhost:8080/",
          "height": 34
        },
        "outputId": "48ef1f9c-add6-4688-8eb8-7f303d8fab82"
      },
      "source": [
        "p.absolute()"
      ],
      "execution_count": 40,
      "outputs": [
        {
          "output_type": "execute_result",
          "data": {
            "text/plain": [
              "PosixPath('/content/sample_data')"
            ]
          },
          "metadata": {
            "tags": []
          },
          "execution_count": 40
        }
      ]
    },
    {
      "cell_type": "code",
      "metadata": {
        "id": "m64d_8o2XEmU",
        "colab_type": "code",
        "colab": {
          "base_uri": "https://localhost:8080/",
          "height": 36
        },
        "outputId": "fcd787c9-5aa6-489f-c0fa-0f3319abf680"
      },
      "source": [
        "p.anchor"
      ],
      "execution_count": 42,
      "outputs": [
        {
          "output_type": "execute_result",
          "data": {
            "application/vnd.google.colaboratory.intrinsic+json": {
              "type": "string"
            },
            "text/plain": [
              "'/'"
            ]
          },
          "metadata": {
            "tags": []
          },
          "execution_count": 42
        }
      ]
    },
    {
      "cell_type": "code",
      "metadata": {
        "id": "9fB0G5AEXIT0",
        "colab_type": "code",
        "colab": {
          "base_uri": "https://localhost:8080/",
          "height": 36
        },
        "outputId": "1120cbfd-2c40-4410-aeb3-562c1e7dc497"
      },
      "source": [
        "p.as_uri()"
      ],
      "execution_count": 43,
      "outputs": [
        {
          "output_type": "execute_result",
          "data": {
            "application/vnd.google.colaboratory.intrinsic+json": {
              "type": "string"
            },
            "text/plain": [
              "'file:///content/sample_data'"
            ]
          },
          "metadata": {
            "tags": []
          },
          "execution_count": 43
        }
      ]
    },
    {
      "cell_type": "code",
      "metadata": {
        "id": "EPjjFKdBXL5G",
        "colab_type": "code",
        "colab": {
          "base_uri": "https://localhost:8080/",
          "height": 34
        },
        "outputId": "d12dd701-8edc-478d-cd0a-55c0e480e8f2"
      },
      "source": [
        "p.parent"
      ],
      "execution_count": 44,
      "outputs": [
        {
          "output_type": "execute_result",
          "data": {
            "text/plain": [
              "PosixPath('/content')"
            ]
          },
          "metadata": {
            "tags": []
          },
          "execution_count": 44
        }
      ]
    },
    {
      "cell_type": "code",
      "metadata": {
        "id": "F_70ecUhXTr0",
        "colab_type": "code",
        "colab": {
          "base_uri": "https://localhost:8080/",
          "height": 34
        },
        "outputId": "5d16e654-0184-453a-c1b8-7d5b2a5a5a66"
      },
      "source": [
        "p.parent.parent.parent.parent"
      ],
      "execution_count": 47,
      "outputs": [
        {
          "output_type": "execute_result",
          "data": {
            "text/plain": [
              "PosixPath('/')"
            ]
          },
          "metadata": {
            "tags": []
          },
          "execution_count": 47
        }
      ]
    },
    {
      "cell_type": "code",
      "metadata": {
        "id": "yrtrMx3MXV8v",
        "colab_type": "code",
        "colab": {
          "base_uri": "https://localhost:8080/",
          "height": 52
        },
        "outputId": "ba078b41-640b-4c96-d380-6700f8c42951"
      },
      "source": [
        "folders = []\n",
        "files = []\n",
        "\n",
        "for entry in os.scandir(p):\n",
        "    if entry.is_dir():\n",
        "        folders.append(entry)\n",
        "    elif entry.is_file():\n",
        "        files.append(entry)\n",
        "\n",
        "print(f'Folders - {folders}')\n",
        "print(f'Files - {files}')"
      ],
      "execution_count": 63,
      "outputs": [
        {
          "output_type": "stream",
          "text": [
            "Folders - [<DirEntry '.config'>, <DirEntry '.ipynb_checkpoints'>, <DirEntry 'kicks'>, <DirEntry 'sample_data'>]\n",
            "Files - [<DirEntry 'untitled'>]\n"
          ],
          "name": "stdout"
        }
      ]
    },
    {
      "cell_type": "code",
      "metadata": {
        "id": "tto_KVmcYSAt",
        "colab_type": "code",
        "colab": {
          "base_uri": "https://localhost:8080/",
          "height": 521
        },
        "outputId": "cb9b716d-3859-4142-b7e6-822b5ce0b0b8"
      },
      "source": [
        "for dirName, subdirList, fileList in os.walk(p):\n",
        "    print(f'Found directory: {dirName}')\n",
        "    for fname in fileList:\n",
        "        print(f'\\t{fname}')"
      ],
      "execution_count": 62,
      "outputs": [
        {
          "output_type": "stream",
          "text": [
            "Found directory: /content\n",
            "\tuntitled\n",
            "Found directory: /content/.config\n",
            "\tconfig_sentinel\n",
            "\t.last_update_check.json\n",
            "\t.last_opt_in_prompt.yaml\n",
            "\tgce\n",
            "\tactive_config\n",
            "\t.last_survey_prompt.yaml\n",
            "\t.metricsUUID\n",
            "Found directory: /content/.config/configurations\n",
            "\tconfig_default\n",
            "Found directory: /content/.config/logs\n",
            "Found directory: /content/.config/logs/2020.08.27\n",
            "\t16.39.27.968323.log\n",
            "\t16.39.13.109523.log\n",
            "\t16.39.08.060972.log\n",
            "\t16.39.28.581989.log\n",
            "\t16.38.54.457558.log\n",
            "\t16.38.36.398860.log\n",
            "Found directory: /content/.ipynb_checkpoints\n",
            "Found directory: /content/kicks\n",
            "Found directory: /content/sample_data\n",
            "\tanscombe.json\n",
            "\tREADME.md\n",
            "\tmnist_train_small.csv\n",
            "\tcalifornia_housing_test.csv\n",
            "\tcalifornia_housing_train.csv\n",
            "\tmnist_test.csv\n"
          ],
          "name": "stdout"
        }
      ]
    },
    {
      "cell_type": "code",
      "metadata": {
        "id": "BE5Qc26iZFx7",
        "colab_type": "code",
        "colab": {
          "base_uri": "https://localhost:8080/",
          "height": 52
        },
        "outputId": "d9ad367a-1dcd-4e98-e41d-234bc2484b18"
      },
      "source": [
        "for i in p.glob('*.*'):\n",
        "    print(i.name)"
      ],
      "execution_count": 60,
      "outputs": [
        {
          "output_type": "stream",
          "text": [
            ".config\n",
            ".ipynb_checkpoints\n"
          ],
          "name": "stdout"
        }
      ]
    },
    {
      "cell_type": "code",
      "metadata": {
        "id": "zDCusInOZxxF",
        "colab_type": "code",
        "colab": {
          "base_uri": "https://localhost:8080/",
          "height": 347
        },
        "outputId": "6c9aa144-43ba-4c9c-e77a-d3efcb07da6e"
      },
      "source": [
        "for i in p.glob('**/*.*'):\n",
        "    print(i.name)"
      ],
      "execution_count": 61,
      "outputs": [
        {
          "output_type": "stream",
          "text": [
            ".config\n",
            ".ipynb_checkpoints\n",
            ".last_update_check.json\n",
            ".last_opt_in_prompt.yaml\n",
            ".last_survey_prompt.yaml\n",
            ".metricsUUID\n",
            "2020.08.27\n",
            "16.39.27.968323.log\n",
            "16.39.13.109523.log\n",
            "16.39.08.060972.log\n",
            "16.39.28.581989.log\n",
            "16.38.54.457558.log\n",
            "16.38.36.398860.log\n",
            "anscombe.json\n",
            "README.md\n",
            "mnist_train_small.csv\n",
            "california_housing_test.csv\n",
            "california_housing_train.csv\n",
            "mnist_test.csv\n"
          ],
          "name": "stdout"
        }
      ]
    },
    {
      "cell_type": "code",
      "metadata": {
        "id": "2oB00ITmZ8k8",
        "colab_type": "code",
        "colab": {
          "base_uri": "https://localhost:8080/",
          "height": 347
        },
        "outputId": "d3effdc1-3fb4-4510-9b43-e769e422861c"
      },
      "source": [
        "list(p.rglob('*.[!v]*'))"
      ],
      "execution_count": 72,
      "outputs": [
        {
          "output_type": "execute_result",
          "data": {
            "text/plain": [
              "[PosixPath('/content/.config'),\n",
              " PosixPath('/content/.ipynb_checkpoints'),\n",
              " PosixPath('/content/.config/.last_update_check.json'),\n",
              " PosixPath('/content/.config/.last_opt_in_prompt.yaml'),\n",
              " PosixPath('/content/.config/.last_survey_prompt.yaml'),\n",
              " PosixPath('/content/.config/.metricsUUID'),\n",
              " PosixPath('/content/.config/logs/2020.08.27'),\n",
              " PosixPath('/content/.config/logs/2020.08.27/16.39.27.968323.log'),\n",
              " PosixPath('/content/.config/logs/2020.08.27/16.39.13.109523.log'),\n",
              " PosixPath('/content/.config/logs/2020.08.27/16.39.08.060972.log'),\n",
              " PosixPath('/content/.config/logs/2020.08.27/16.39.28.581989.log'),\n",
              " PosixPath('/content/.config/logs/2020.08.27/16.38.54.457558.log'),\n",
              " PosixPath('/content/.config/logs/2020.08.27/16.38.36.398860.log'),\n",
              " PosixPath('/content/sample_data/anscombe.json'),\n",
              " PosixPath('/content/sample_data/README.md'),\n",
              " PosixPath('/content/sample_data/mnist_train_small.csv'),\n",
              " PosixPath('/content/sample_data/california_housing_test.csv'),\n",
              " PosixPath('/content/sample_data/california_housing_train.csv'),\n",
              " PosixPath('/content/sample_data/mnist_test.csv')]"
            ]
          },
          "metadata": {
            "tags": []
          },
          "execution_count": 72
        }
      ]
    },
    {
      "cell_type": "code",
      "metadata": {
        "id": "_sAU7XkIbVRr",
        "colab_type": "code",
        "colab": {}
      },
      "source": [
        ""
      ],
      "execution_count": null,
      "outputs": []
    }
  ]
}